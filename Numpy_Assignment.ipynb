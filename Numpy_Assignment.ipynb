{
  "nbformat": 4,
  "nbformat_minor": 0,
  "metadata": {
    "colab": {
      "provenance": [],
      "toc_visible": true,
      "collapsed_sections": [
        "k2xKQj2j6akE"
      ]
    },
    "kernelspec": {
      "name": "python3",
      "display_name": "Python 3"
    },
    "language_info": {
      "name": "python"
    }
  },
  "cells": [
    {
      "cell_type": "markdown",
      "source": [
        "# **Numpy Theory assignment**"
      ],
      "metadata": {
        "id": "k2xKQj2j6akE"
      }
    },
    {
      "cell_type": "markdown",
      "source": [
        "##**question 1. Explain the purpose and advantages of NumPy in scientific computing and data analysis. How does itenhance Python's capabilities for numerical operations?**\n",
        "\n",
        "\n",
        "**NumPy** (Numerical Python):- is a foundational package for scientific computing and data analysis in Python. It provides support for large, multi-dimensional arrays and matrices, along with a collection of mathematical functions to operate on these arrays efficiently. Here's how it enhances Python's capabilities:\n"
      ],
      "metadata": {
        "id": "Y4jYBpm_ztzE"
      }
    },
    {
      "cell_type": "markdown",
      "source": [
        "###**Purpose of NumPy:**\n",
        "\n",
        "\n",
        "**Efficient Numerical Operations:** Python's built-in data structures, such as lists, aren't optimized for mathematical operations. NumPy fills this gap by providing ndarray, a powerful N-dimensional array object optimized for numerical computation.\n",
        "\n",
        "\n",
        "**Linear Algebra and Matrix Operations**: It supports a wide range of operations for linear algebra, matrix manipulations, and random number generation.\n",
        "\n",
        "\n",
        "**Integration with Other Libraries**: Many other libraries in the scientific Python ecosystem (like SciPy, Pandas, and Matplotlib) use NumPy arrays as their basic data structure, making it crucial for interoperability in data analysis workflows.\n"
      ],
      "metadata": {
        "id": "W-WtmjGp84d4"
      }
    },
    {
      "cell_type": "markdown",
      "source": [
        "\n",
        "\n",
        "###**Advantages of NumPy:**\n",
        "\n",
        "\n",
        "**Speed and Performance:** NumPy arrays are more efficient than Python lists. Operations on NumPy arrays are typically implemented in C, reducing the overhead of Python loops and providing performance improvements.\n",
        "1. Element-wise operations on arrays are highly optimized.\n",
        "2. Vectorized operations replace loops, improving speed.\n",
        "\n",
        "\n",
        "**Memory Efficiency:** NumPy arrays are much more compact than Python lists. Arrays are stored as a contiguous block of memory, while Python lists are a collection of pointers to objects. This results in reduced memory usage.\n",
        "\n",
        "**Multi-Dimensional Arrays:** NumPy's ndarray object allows for the creation of multi-dimensional arrays, which are essential for complex numerical operations (e.g., 2D matrices, 3D tensors, etc.).\n",
        "\n",
        "**Broadcasting**: NumPy supports broadcasting, allowing arrays of different shapes to be combined without explicitly resizing them, making operations on arrays more flexible and concise.\n",
        "\n",
        "**Array Operations**: NumPy provides a wide range of mathematical, logical, and statistical functions that can be applied to arrays. These include element-wise addition, multiplication, trigonometric functions, and more.\n",
        "\n",
        "**Integration with C/C++/Fortran**: NumPy arrays can easily interface with low-level languages like C, C++, and Fortran. This is especially useful for performance-critical applications.\n",
        "\n",
        "**Support for Complex Data Types**: Besides standard numeric data types (int, float), NumPy supports complex numbers and provides methods to work with these types.\n"
      ],
      "metadata": {
        "id": "5h87L7J084T6"
      }
    },
    {
      "cell_type": "markdown",
      "source": [
        "\n",
        "###**How NumPy Enhances Python**:\n",
        "\n",
        "**Vectorization**: NumPy's vectorized operations allow entire arrays or matrices to be processed at once without loops, improving code readability and reducing execution time.\n",
        "\n",
        "**Efficient Aggregation**: NumPy includes optimized aggregation functions (e.g., sum, mean, max, etc.), which can quickly compute these values over arrays.\n",
        "\n",
        "**Support for Large Datasets**: Its optimized memory management and computation allow it to handle large datasets efficiently, which is essential for scientific computing and big data analysis."
      ],
      "metadata": {
        "id": "cSpZdmU784Ig"
      }
    },
    {
      "cell_type": "markdown",
      "source": [
        "##**Question 2. Compare and contrast np.mean() and np.average() functions in NumPy. When would you use one over the other?**\n",
        "\n",
        "**Answer:-**\n",
        "Both np.mean() and np.average() are functions in NumPy that compute the average of an array, but they have some key differences in terms of how they work and their specific use cases."
      ],
      "metadata": {
        "id": "0ZZoUEFT6zNO"
      }
    },
    {
      "cell_type": "markdown",
      "source": [
        "###1. **np.mean()**\n",
        "\n",
        "**Functionality:** This function computes the arithmetic mean (simple average) of an array along the specified axis (or of the entire array if no axis is specified).\n",
        "\n",
        "**Syntax:** np.mean(arr, axis=None, dtype=None)\n",
        "\n",
        "**Weights:** np.mean() does not take any weights into account; it simply sums all the elements and divides by the number of elements.\n",
        "\n",
        "Example:\n",
        "import numpy as np\n",
        "\n",
        "arr = np.array([1, 2, 3, 4, 5])\n",
        "\n",
        "mean = np.mean(arr)  # Output: 3.0\n"
      ],
      "metadata": {
        "id": "GlT-2lrL784w"
      }
    },
    {
      "cell_type": "markdown",
      "source": [
        "###2. **np.average()**\n",
        "\n",
        "**Functionality:** This function is more flexible than np.mean() because it can compute a weighted average if weights are provided.\n",
        "\n",
        "**Syntax:** np.average(arr, weights=None, axis=None, returned=False)\n",
        "\n",
        "**weights:** You can provide an array of weights to give more importance to certain elements when calculating the average.\n",
        "\n",
        "**returned:** If set to True, it returns both the weighted average and the sum of the weights.\n",
        "\n",
        "**Example (without weights):**\n",
        "\n",
        "average = np.average(arr)  # Output: 3.0 (same as np.mean in this case)\n",
        "\n",
        "**Example (with weights):**\n",
        "\n",
        "weights = np.array([1, 2, 3, 4, 5])\n",
        "\n",
        "weighted_average = np.average(arr, weights=weights)  # Output: 3.666..."
      ],
      "metadata": {
        "id": "f2fYPuCE8HfG"
      }
    },
    {
      "cell_type": "markdown",
      "source": [
        "###**Key Differences:**\n",
        "\n",
        "\n",
        "![key_difference.png](data:image/png;base64,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)"
      ],
      "metadata": {
        "id": "Gw-GY66F8W-U"
      }
    },
    {
      "cell_type": "markdown",
      "source": [
        "###**When to Use One Over the Other:**\n",
        "\n",
        "**Use np.mean():**\n",
        "\n",
        "1. When you need to compute a straightforward, unweighted average.\n",
        "\n",
        "2. When weights are not a factor and you want simple, uniform averaging.\n",
        "\n",
        "3. It's simpler and generally faster for this use case, as it doesn't need to process weights.\n",
        "\n",
        "**Use np.average():**\n",
        "\n",
        "1. When you need to calculate a weighted average, where some elements contribute more to the final result than others.\n",
        "\n",
        "2. If you want to calculate both the average and the sum of weights (with returned=True)."
      ],
      "metadata": {
        "id": "hJu_fqmR9Y3b"
      }
    },
    {
      "cell_type": "markdown",
      "source": [
        "###Example Use Case for Weighted Average (np.average()):\n",
        "\n",
        "Imagine a scenario where you're calculating the average score in a class, but certain assignments (or exams) carry different weights. For example:\n"
      ],
      "metadata": {
        "id": "v7iBehPm_d6B"
      }
    },
    {
      "cell_type": "code",
      "source": [
        "\n",
        "#Assignment scores: [85, 90, 78, 92]\n",
        "#Corresponding weights (e.g., importance of each assignment): [0.2, 0.3, 0.1, 0.4]\n",
        "import numpy as np\n",
        "scores = np.array([85, 90, 78, 92])\n",
        "weights = np.array([0.2, 0.3, 0.1, 0.4])\n",
        "without_weights = np.mean(scores) #return thee average of the array elements.  The average is taken over the flattened array by default, otherwise over the specified axis. float64 intermediate and return values are used for integer inputs.\n",
        "print(\"Example of mean:--\", without_weights)\n",
        "with_weighted = np.average(scores, weights = weights)\n",
        "print(\"Example of weighted average:--\", with_weighted)\n"
      ],
      "metadata": {
        "colab": {
          "base_uri": "https://localhost:8080/"
        },
        "id": "8p8NxvLs9-HT",
        "outputId": "df6074e8-8d35-4020-8363-a30adc95c3e4"
      },
      "execution_count": null,
      "outputs": [
        {
          "output_type": "stream",
          "name": "stdout",
          "text": [
            "Example of mean:-- 86.25\n",
            "Example of weighted average:-- 88.6\n"
          ]
        }
      ]
    },
    {
      "cell_type": "markdown",
      "source": [
        "##question 3:-Describe the methods for reversing a NumPy array along different axes. Provide examples for 1D and 2D arrays\n",
        "\n",
        "Reversing a NumPy array along different axes can be done using slicing, the np.flip() function, or the np.flipud() and np.fliplr() functions (for 2D arrays)."
      ],
      "metadata": {
        "id": "_mLs-1Xy95nB"
      }
    },
    {
      "cell_type": "markdown",
      "source": [
        "###1. Reversing a 1D Array\n",
        "  \n",
        "  A 1D array is essentially a list, and reversing it can be done easily using slicing or np.flip()"
      ],
      "metadata": {
        "id": "XaLF6pgx_5G-"
      }
    },
    {
      "cell_type": "markdown",
      "source": [
        "####Method 1: Using Slicing\n",
        "\n",
        "**Explanation:**\n",
        "\n",
        "The [::-1] slice reverses the array by stepping through it in reverse order."
      ],
      "metadata": {
        "id": "42IUq_vaJhSA"
      }
    },
    {
      "cell_type": "code",
      "source": [
        "arr_1D = np.array([1,2,3,4,5])\n",
        "reversed_array= arr_1D[::-1]\n",
        "print(\"Reversed array:--\", reversed_array)"
      ],
      "metadata": {
        "colab": {
          "base_uri": "https://localhost:8080/"
        },
        "id": "GfDqEwzuJA0E",
        "outputId": "51be9a1d-226d-4ed4-f695-fd5c1e858e0d"
      },
      "execution_count": null,
      "outputs": [
        {
          "output_type": "stream",
          "name": "stdout",
          "text": [
            "Reversed array:-- [5 4 3 2 1]\n"
          ]
        }
      ]
    },
    {
      "cell_type": "markdown",
      "source": [
        "####Method 2: Using np.flip()\n",
        "The np.flip() function reverses the array along all axes. For a 1D array, this is equivalent to reversing the entire array."
      ],
      "metadata": {
        "id": "0H7SAHJqJl-j"
      }
    },
    {
      "cell_type": "code",
      "source": [
        "arr_1d_flip= np.array([1,2,3,4,5])\n",
        "np.flip(arr_1d_flip)"
      ],
      "metadata": {
        "colab": {
          "base_uri": "https://localhost:8080/"
        },
        "id": "gRKrD5ynJlnZ",
        "outputId": "d5cba392-490e-4b99-eee7-d3416bdab782"
      },
      "execution_count": null,
      "outputs": [
        {
          "output_type": "execute_result",
          "data": {
            "text/plain": [
              "array([5, 4, 3, 2, 1])"
            ]
          },
          "metadata": {},
          "execution_count": 2
        }
      ]
    },
    {
      "cell_type": "markdown",
      "source": [
        "###2. Reversing a 2D Array\n",
        "\n",
        "For 2D arrays, you can reverse along different axes: the row axis (axis=0) or the column axis (axis=1)."
      ],
      "metadata": {
        "id": "0BTZ3YD3VbDX"
      }
    },
    {
      "cell_type": "markdown",
      "source": [
        "###Method 1: Using Slicing\n"
      ],
      "metadata": {
        "id": "CEaHHp-eVfmg"
      }
    },
    {
      "cell_type": "markdown",
      "source": [
        "####Reversing Rows (Axis 0):\n",
        "Explanation: The [::-1, :] slice reverses the rows, but leaves the columns unchanged."
      ],
      "metadata": {
        "id": "sUSeeFucVt_D"
      }
    },
    {
      "cell_type": "code",
      "source": [
        "arr = np.array([[1,2,3],\n",
        "                [4,5,6],\n",
        "               [7,8,9]])\n",
        "print(\"Original array:--\", arr)\n",
        "reversed_row = arr[::-1,:] #Explanation: The [::-1, :] slice reverses the rows, but leaves the columns unchanged.\n",
        "print(\"Reversed Rows:--\", reversed_row)"
      ],
      "metadata": {
        "colab": {
          "base_uri": "https://localhost:8080/"
        },
        "id": "NVEaHr-gVw09",
        "outputId": "14d21889-8373-4db2-e676-5d30710e9a1b"
      },
      "execution_count": null,
      "outputs": [
        {
          "output_type": "stream",
          "name": "stdout",
          "text": [
            "Original array:-- [[1 2 3]\n",
            " [4 5 6]\n",
            " [7 8 9]]\n",
            "Reversed Rows:-- [[7 8 9]\n",
            " [4 5 6]\n",
            " [1 2 3]]\n"
          ]
        }
      ]
    },
    {
      "cell_type": "markdown",
      "source": [
        "####Reversing Columns (Axis 1):\n",
        "Explanation: The [:, ::-1] slice reverses the columns while keeping the rows in the same order."
      ],
      "metadata": {
        "id": "XpXGpINRWSSn"
      }
    },
    {
      "cell_type": "code",
      "source": [
        "arr1 = np.array([[1,2,3],[4,5,6],[7,8,9]])\n",
        "print(\"Original array:--\", arr1)\n",
        "reversed_column = arr[:,::-1] #Explanation: The [:, ::-1] slice reverses the columns while keeping the rows in the same order.\n",
        "print(\"Reversed Columns:--\", reversed_column)"
      ],
      "metadata": {
        "colab": {
          "base_uri": "https://localhost:8080/"
        },
        "id": "CeQgXx5LWbhn",
        "outputId": "48ee7a3e-f24f-4161-c307-2a48e978966e"
      },
      "execution_count": null,
      "outputs": [
        {
          "output_type": "stream",
          "name": "stdout",
          "text": [
            "Original array:-- [[1 2 3]\n",
            " [4 5 6]\n",
            " [7 8 9]]\n",
            "Reversed Columns:-- [[3 2 1]\n",
            " [6 5 4]\n",
            " [9 8 7]]\n"
          ]
        }
      ]
    },
    {
      "cell_type": "markdown",
      "source": [
        "###Method 2: Using np.flip()"
      ],
      "metadata": {
        "id": "0Om-DCxNW8ha"
      }
    },
    {
      "cell_type": "markdown",
      "source": [
        "####Reversing Rows (Axis 0):\n",
        "\n",
        "Explanation: np.flip(arr_2d, axis=0) reverses the array along the row axis (i.e., vertically)."
      ],
      "metadata": {
        "id": "16YO5oO3XCUF"
      }
    },
    {
      "cell_type": "code",
      "source": [
        "arr1 = np.array([[1,2,3],[4,5,6],[7,8,9]])\n",
        "print(\"Original array:--\", arr1)\n",
        "Flip_function= np.flip(arr1, axis =0) #np.flip(arr_2d, axis=0) reverses the array along the row axis (i.e., vertically).\n",
        "print(\"Reversed Rows:--\", Flip_function)"
      ],
      "metadata": {
        "colab": {
          "base_uri": "https://localhost:8080/"
        },
        "id": "0hHTKuaAXGtP",
        "outputId": "aa9ec18c-8e8b-4048-9300-8ab7670dce5e"
      },
      "execution_count": null,
      "outputs": [
        {
          "output_type": "stream",
          "name": "stdout",
          "text": [
            "Original array:-- [[1 2 3]\n",
            " [4 5 6]\n",
            " [7 8 9]]\n",
            "Reversed Rows:-- [[7 8 9]\n",
            " [4 5 6]\n",
            " [1 2 3]]\n"
          ]
        }
      ]
    },
    {
      "cell_type": "markdown",
      "source": [
        "####Reversing Columns (Axis 1):\n",
        "Explanation: np.flip(arr_2d, axis=1) reverses the array along the column axis (i.e., horizontally)."
      ],
      "metadata": {
        "id": "lVSeCKI7Xazi"
      }
    },
    {
      "cell_type": "code",
      "source": [
        "arr1 = np.array([[1,2,3],[4,5,6],[7,8,9]])\n",
        "print(\"Original array:--\", arr1)\n",
        "filp_column = np.flip(arr1, axis =1) #np.flip(arr_2d, axis=1) reverses the array along the column axis (i.e., horizontally).\n",
        "print(\"Reversed Columns:--\", filp_column)"
      ],
      "metadata": {
        "colab": {
          "base_uri": "https://localhost:8080/"
        },
        "id": "qy9Jk4VPXfQZ",
        "outputId": "9b7d565a-0a2b-416d-84d0-0d212ecceb50"
      },
      "execution_count": null,
      "outputs": [
        {
          "output_type": "stream",
          "name": "stdout",
          "text": [
            "Original array:-- [[1 2 3]\n",
            " [4 5 6]\n",
            " [7 8 9]]\n",
            "Reversed Columns:-- [[3 2 1]\n",
            " [6 5 4]\n",
            " [9 8 7]]\n"
          ]
        }
      ]
    },
    {
      "cell_type": "markdown",
      "source": [
        "##Question 4. How can you determine the data type of elements in a NumPy array? Discuss the importance of data types in memory management and performance.\n",
        "\n",
        "\n",
        "Answer:\n",
        "\n",
        "In NumPy, each array has a specific data type, known as dtype, which determines the type of elements in the array (e.g., integers, floats, booleans, etc.). You can determine the data type of the elements in a NumPy array using\n",
        "\n",
        "1. .dtype method\n",
        "\n",
        "The most straightforward way to check the data type of elements in a NumPy array is by accessing the dtype attribute of the arra\n",
        "2. np.dtype() Function\n",
        "\n",
        "Alternatively, you can use the np.dtype() function to check the type of a specific array or when creating an array.\n",
        "\n",
        "3. Using .astype() to Change Data Type:\n",
        "\n",
        "You can change the data type of an array using .astype(). This is helpful if you need to change the precision or representation of data.\n",
        "\n"
      ],
      "metadata": {
        "id": "Jd5HqZx1X96Q"
      }
    },
    {
      "cell_type": "code",
      "source": [
        "arr = np.array([1, 2, 3])\n",
        "print(arr.dtype)\n",
        "\n",
        "arr_float = np.array([1.0, 2.0, 3.0])\n",
        "print(arr_float.dtype)\n",
        "\n",
        "print(\"Example of astype----------------\")\n",
        "arr_float_as_int = arr_float.astype(int)\n",
        "print(arr_float_as_int.dtype)"
      ],
      "metadata": {
        "colab": {
          "base_uri": "https://localhost:8080/"
        },
        "id": "Ysv3Dw05X2qf",
        "outputId": "b90752f6-5a1a-47e7-e5ba-2ab9ac2aa1ff"
      },
      "execution_count": null,
      "outputs": [
        {
          "output_type": "stream",
          "name": "stdout",
          "text": [
            "int64\n",
            "float64\n",
            "Example of astype----------------\n",
            "int64\n"
          ]
        }
      ]
    },
    {
      "cell_type": "markdown",
      "source": [
        "### Importance of Data Types in Memory Management and Performance\n",
        "\n",
        "In scientific computing and data analysis, managing memory efficiently and optimizing performance is crucial. NumPy’s support for explicitly defined data types helps in both these areas.\n"
      ],
      "metadata": {
        "id": "IE6VNjx7a-3Z"
      }
    },
    {
      "cell_type": "markdown",
      "source": [
        "####a. Memory Management\n",
        "\n",
        "Data Types Control Memory Usage: Each data type in NumPy occupies a specific amount of memory.\n",
        "For example:\n",
        "* int8 uses 1 byte (8 bits) for each integer element.\n",
        "* int64 uses 8 bytes (64 bits) per integer element.\n",
        "* float32 uses 4 bytes, while float64 uses 8 bytes."
      ],
      "metadata": {
        "id": "uBzgQKHKbf9t"
      }
    },
    {
      "cell_type": "markdown",
      "source": [
        "####b. Performance Optimization\n",
        "\n",
        "1. **Speed of Operations:** Data types affect how fast operations can be performed on arrays. For example:\n",
        "2. **Vectorized Operations:** NumPy is highly optimized for vectorized operations, where operations are applied element-wise across arrays without the need for explicit loops. These operations are performed using low-level C code, and the speed of these operations depends on the underlying data types of the arrays."
      ],
      "metadata": {
        "id": "nsdsk3CJb1FN"
      }
    },
    {
      "cell_type": "markdown",
      "source": [
        "##Question 5. Define ndarrays in NumPy and explain their key features. How do they differ from standard Python lists?\n",
        "\n",
        "1. In NumPy, an ndarray (N-dimensional array) is the core data structure used for representing arrays of any dimension.\n",
        "2. It is a homogeneous collection of elements (i.e., all elements are of the same data type) arranged in a grid, where dimensions define the array's shape.\n",
        "\n",
        "\n"
      ],
      "metadata": {
        "id": "8Iym3ynhcE1b"
      }
    },
    {
      "cell_type": "markdown",
      "source": [
        "###Key Features of ndarray:\n",
        "\n",
        "**1. Multidimensional:**\n",
        "\n",
        "* An ndarray can have any number of dimensions, from 1D (like a list) to nD, where n is any positive integer.\n",
        "* This makes it suitable for representing matrices (2D), tensors (3D+), and other complex structures.\n",
        "\n",
        "**2. Homogeneous Elements:**\n",
        "* All elements in an ndarray must have the same data type (dtype). This uniformity allows for efficient storage and computation.\n",
        "\n",
        "**3. Shape and Size:**\n",
        "\n",
        "* The shape of an ndarray defines its dimensions, represented as a tuple of integers (e.g., (3, 4) for a 2D array with 3 rows and 4 columns).\n",
        "* The size refers to the total number of elements in the array.\n",
        "* The number of dimensions is known as the rank of the array, and it can be accessed using the .ndim attribute.\n",
        "\n",
        "**4. Vectorized Operations:**\n",
        "\n",
        "* NumPy arrays support element-wise operations without the need for explicit loops (e.g., addition, multiplication, trigonometric functions). This is called vectorization, which leads to faster, more efficient computation.\n",
        "\n",
        "**5. Efficient Memory Usage:**\n",
        "\n",
        "* ndarray objects are stored as contiguous blocks of memory, making it more memory-efficient than Python lists.\n",
        "\n",
        "\n",
        "**6. Broadcasting:**\n",
        "* NumPy allows arrays of different shapes to be combined in operations using a feature called broadcasting. This enables operations between arrays of different dimensions without explicitly reshaping or duplicating data.\n",
        "\n",
        "**7. Indexing and Slicing:**\n",
        "\n",
        "* ndarray objects support advanced indexing and slicing, allowing for fine-grained access to subarrays. NumPy also supports boolean indexing and fancy indexing for selecting specific elements.\n",
        "\n",
        "**8. Data Types (dtype):**\n",
        "* The dtype attribute defines the type of elements in the array (e.g., int32, float64). NumPy supports many data types, including custom ones."
      ],
      "metadata": {
        "id": "YNOewfIQd5N6"
      }
    },
    {
      "cell_type": "markdown",
      "source": [
        "###How ndarray Differs from Standard Python Lists:\n",
        "\n",
        "![image.png](data:image/png;base64,iVBORw0KGgoAAAANSUhEUgAABOYAAAEhCAIAAABUSzjWAAAgAElEQVR4Aexd2XErOQx0XApI8TgaJaOfzeRtAcTRAA/N6LBHMlxbK5K4Gk0MD0vy+/qvfoqBYqAYKAaKgWKgGCgGioFioBgoBoqBQzLw9d9///3791X/fR4DX181rcVAMVAMFAPFwJiB2iM+b9+vjIqBYqAY+EgGvr6+6so63ss/YL7rOPIBk1gpFAPFQDHwIgZqj3gRseW2GCgGioFi4LkM1JX1Y++r//7R5D63XMpbMVAMFAPFwMcwUHvEx0xlJVIMFAPFwGczUFfWT77U1XHks5/eyq4YKAaKgUcYqD3iEfbKthgoBoqBYuDHGKgra11ZP5mBH3uQKlAxUAwUA2/HQF1Z327KCnAxUAwUA3+TgbqyfvKFrY4jf/OprqyLgWKgGNjCQO0RW1gqnWKgGCgGioFfZ6CurHVl/SAGLlTPX19fl/oL2MVAMVAMFAO3GHjdlfX7REvx+fJB+8stMn/9PFcAioFioBj4YAZoU0n/yE3bafjkL/87fdeu85YMpOPI5Tya0HbNOz8/QQtntXQ6f11fuuvXlfWl9JbzYqAY+CwGZnvE44v2z1xZZZdJ+9f1i+/LX9/X5+9rH3wcrNSKgWKgGDgyA7QxvfTKOt5RPmvXP+wEL44j/j7kD15ZqdpOr7y11pW1nqxioBgoBjYzsNgj7Na6ZdHuN/qDX1l7wIfdxwtYMVAMFAPFQPtnUMZX1me9s1obwy/W2fA4cuLfP/v8vvrKqr//vn7LEWjXR8XaG8Pny9e3vUV8+rrA784v3/ILdXoLt7uySvlxZHyPtx2nTt9f9pmCy1XaafDfv6+hEwNm81ulblRUoxgoBt6CgeEe8bV/0e5Xv9+8sm64sfeA32K+CmQxUAwUA3+WATrLD99l9SsNrP5XvR7Qu2XwIc/r5atdhNqlxER2H9DLCn1KJ+9k7Zqhb77RTeD0dbnIPaS9GTiL+2enbWPiw+PI+fLVrlvyRmu8sq5np0kv169z+9yVloFd6mzq/aanp59//yTu+aKXQBDJhRZGWo56UZUKkhetFosbxfJd1oFUDXNl8tdfh4MzJzIOgPtL7MZpKrVioBgoBn6FgeEeYVfWjYt2Xjl5VWyD52/4bSOcGf79o98w4rHh/O0fwGm2/UbTU9Svw6QTPxiMgdovTIeAe+c1UgwUA8VAMXAcBuiov/HKOju7264Wrg2wafk4DPpbbf2V1Q3o7rGIexwej4lkeBw5X77a/VB+K7H/ygrzM2rqLS4dJi76Lit9v6gFhb+TJOeb7m91yJVV31m1YqD7tp5LvtpJSN8mlT+/pNL2daZgqL83+fqSLztd+W1bO8c0ExpcOFFRuPnrlfiY9VCoioFioBhABoZ7hF1ZNy7atnLKfgAbfd4hdHewD90EBZVmh01JpYg/7TIi0sWZVnJtW6ALrP8yOPKMUapdDBQDxUAx8OsM0Io9vLLa+i5/9E/X/Xaa/3eVd8zkcH/5aod++tVpu5no2b3fUfLlZHhltV/HLuP+On0HBzA8jrRfFvgbrXdcWfUCaQeL5nM89VhJVEzy9zDCe5LdDdaIDWr/4l23t+pHrvSO/VkuvgSl3TAFuYJp4YaDJFo6aTf/VufDzyZYLtUoBoqBYuBQDAz3iLRmb1m0Zxs9fWaKfyEoCnowaEuyLZh2g20nClmKJ7ZIYB+XpHhsaJvCiVd+/rVm2wLGhvCZMoxS7WKgGCgGioFfZ4D2pk1XVr0MpM1M3iyFT4qKgu5M/cbQdqP1u6xyMYYryjhubTBLBobHEbxe0omhzaxe3tazk6RyzlDb9N6pTL3N3Cn8gwdo2zTt+IJPxSNXVvv6q0FIV9YUsWWXB+G6a37aoQev6E3L63Y5L5hgtYuBYqAY+C0GhnuELXRfmxftfRu9HifkIyq8WuJSnzYa2Vn0UIFc9XFJildW/UIKfeVI78DD762g22oXA8VAMVAMHI0B2puGV9Z0cLfbiG9m3KL7j24PQaS7S7+jrHejfPTXvS04r3/tbduNaHgcsV8WtIm4vPrKahfahFnL5hsa/eOB5xiSaj3QWUfbflHUEZTSV6Su+uZ/fJc1FfngyqoOh07sI/Hf8ZMFfRY1UgwUA8XAARkY7hH2tmoGDGt1+ldk9m30uq7+zJWVLqjwZzjaftEDzsmmDau6xUAxUAwUA7/KAN0EN11ZYa/KK3vbftoHbzZ/MDh//1CvuPnKuoj7q8RlEg4JZngcsStru/LJH8DQi2W7ts1mJ/26Ad8pJULiQeTmmUBitd9GaAEkYldXVq2NjJbvpYLtSz6WJrE0SuvevLKunfiv6jkFJ/aQxZCIrW4xUAwUA8M9YnplTd8C1eXUV0LdR278nUVdum0F9pWWF8+00cjOAuFs4sa7jPqn2+nF/1QkLvtjw1q6i4FioBgoBo7KwOYr6/DPILX3rHR7aFcP+b/uLrYV0TjvZ2HEbFQ/X1kXcY/Kqe2mv94YHkfwZiUXOZ0a/yqyzUtr6Oykk4RMpR1Tdl5Z7Yor35ceTejqyjqpDfn0r4JJqbTf6+PZxaZpMLh0QoaggO8YmM9qFAPFQDFwWAaGe8TiyoorHm4lYVvnHSFtFunaKTfGuDrbDXZti2QO/Jz9k1/tyhqDyPdTesDottrFQDFQDBQDR2OAFvNN77LydeJyln97xvaAdkynPyKvQ+dv/stMesmh37a2a8fXl21Ivs3wd0tIrvr9lbX9Btf8tzh1PdhSScPjCJ4z/EPddu3Ee2A3O+kk8eiVFb5lNJvQ9ZUVP/FF/76OXiClLPXDYO2f3kFXg9upvoFgVdoYtn9gqXfSFJqr1SFvdBXfMn2lUwwUA8XASxkY7hHr1awtpPZ3AQxe2ujTZpGurLh0054evzR709aC+llCTyAEXn+NHj4D3EfRTNKab86rUQwUA8VAMXAcBmiZT1fW44ArJA8ykI4jD3p7hfnb3/f0T2eHXwTUHbUYKAaKgXdg4I494u0X7XeYl1fstuWzGCgGioG3ZqCurPJvrrz1LM7A33Ecmbl6ybj+Lvwt73v6jm57i+Bax6BioBgoBt6Ngd17xFsv2u82Oy/ZdouEYqAYKAbek4G6staV9dcYkM8V6x/uerPtWY9u9g8Pvhn+91ywiuRioBh4IgN7r6zvvWjXolcMFAPFQDHwtgzUlfXXLmxPPHbMXO09jsz81HgxUAwUA8XA5zFQe8TnzWllVAwUA8XARzJQV9a6sn4yAx/50FZSxUAxUAw8hYG6sj6FxnJSDBQDxUAx8GoG5MpKL/VTDBQDxUAxUAwUA8VAMVAMFAPFQDFQDByNAf6Lwf/q5/MY4N+gf15alVExUAwUA8XAExioPeIJJJaLYqAYKAaKgdczQNfnurK+nuffiVDHkd/hvaIWA8VAMfAODNQe8Q6zVBiLgWKgGCgG/tWV9ZOLoI4jnzy7lVsxUAwUA48xUHvEY/yVdTFQDBQDxcAPMVBX1h8i+lfC1HHkV2ivoMVAMVAMvAUDtUe8xTQVyGKgGCgGioG6sn5yDdRx5JNnt3IrBoqBYuAxBmqPeIy/si4GioFioBj4IQbqyvpDRP9KmDqO/ArtFbQYKAaKgbdgoPaIt5imAlkMFAPFQDFQV9ZProHtx5HL+evr9H39ZDKenBsxdr482el+dweBsR/41KJKcUpNCYqBZzNQe8QjjP7E8nv9PtEx7fYGDSsn2+CG3jvpRx4h4tm2kMuzXZe/YqAYeFsG+iurrGSD5Q6H3jbhKfBB3lPddxGk44htUm0HxF2wdoi9c/oTh5UNmA4CYwPSrSpViluZKr1i4GEGao94hMLXL7+8aW/73SisnGzlB7beST/yCA3Pt4Vcnu+8PBYDxcCbMlBXVp04XsPtN5m0Yn4d4m00xXfP6+g4Mt79jrJDHAUHs70EQ8Ixl/fM1FabDtLvwNgK9x69LsWJk616nfndhp2nGigG3p2B2iMemcHXL787Vqu5ai/pRx6hYZvtnphbdbfqdQjvNuw81UAxUAz8GAN1ZR1TTQtaXVnH3Lxy9FAbyRIMCevK+oJaWLIO8bbqgUlr3m3YeaqBYuDdGagr6yMz+PpdYMdqNVftJf3IIzRss90Tc6vuVr0O4d2GnacaKAaKgR9j4M4r6/VyPskXLOg7Fufvi34Nsr1Zeb6QBt/6SHy5/vP+6Ry+Mzl39Q+MxJW9C/rv37/rt0VoIRppQwAx4tDQ32WVloX8Ol9ofYs3WFH6+UvLntK4/zgiCXPW/vmifzR8vjhBTWTKoEkwbTx+D2fsJKq7hQcb3xDH3iy0Q2JHMF+kYtIuijloZWCKRv84roqDuQblQe2wJo2Ya7SxQXWY6DR+yKifEbO65ZMUu9ybNZoi9eOIpp2Q27ghNmzQcK32rIETF8EDGAYnFCJmC9Ub8sh4Ui5nmpwJPbFeAbDFqkYxcHwG/sIeERc5X3HzogrLAC0Li3VV57WpwU4HLpL3xRIBSwwscnGFgVVOg9OrL2hx5aTxFtE1aCujsX6kecRxQEvDdgSy8aWyJ6T6qD7bClwn5hLSBIJcP55TwnickD7RBoZNgiqNMPg7dwGnYLgR4RxWuxgoBrYyQM/6f//9B+rwqLXTuv1fV5+xhjzvY6H5kIYuDmNtkbaVh+7DF79kCoiwKjWnIhm7tGVjaih28YzaPJ8vusorbj3mWx8IPFDzvuMIM2GZcU+nXtgLE0T7GedMQlVsBG11YlbMs/fajqz96/fJHDrJmyHFtIJrRA5RcNgDSquPqzgpCWsHItgGcvAAEVzgPER2i9swtvlEj577NAU7JMGk01MCXct9G4D2bIk9m3gZLWB0pTKnPTAYJp4kESV2ebosNdbT3KJREKVo1S0GjszAX9gj4vN5/T7JY7xYXuKzj4tkmMyoFuJsXSLYhW8K3NVlRi5r0O2jT1dO2IR6/HlkgZYR2TJIADYrxyixFzKRbWWaizMQYx91F8BUfVdNKVe3GCgG9jJAp82dV1ZZwWwR4TXEfnFmPXprFd7B4bdarS/GS1fNk67lTXW8pF2bsDnNAEIMESp2NIwisdLok4O6i/fy/jP6o+NIu4W3/ysP4RhPqYfEaAAmzI3yfpEUV05ABlYBB1MUhEPSksa8yxM8jpuMNM5kuIlJOPam5vKKcant/LkLb4nRLHQ3nixBniQ9t56HQ0rYByksJp20HwcAHhIaZDJESnrcjcqokQMETexkRe9TCyb/JhgMX+1i4EAM/IE9gp7pW0ucnlX0qU5PuD/6ceryuPeTg9kSgeuNuCZLX13cY4wc11qWoSq2R7GjnJdtTT37IlXHI3FXyiALYUInZZNlue/qkbG5HltEZXfSUxI0sZMjeJ9akCv6dCWMWe1ioBh4kIHplRWXeH6A9dpCD+NgCdMh0bUnOffRHNuSBw61Nr7LqqBEq927/P8cNAfk1TiBd5PWIsOQpBjhgoR+BVn4uPGDE/ES89FxxGYmRKSMGruSZ6JImHc1tp52bzoBFMFJ6FAM9aRTH1BTJ1nMu+xpEnccJfmKoUk48eaojUXVpECainvQ8KbODdXDuB0kd8JqLt/sUxVTOB02TJqCh0gRU7dzME6K1dQ3uYj+Oy+mGvU4+FyZxfK/zhAgQLMhsXBaizTQxRmnhkGrXQwckoHP3yPCM53moHuS9XmnRULb3aLkTpKav//YOZ4sEdkBuQ4LVOh4YFyOdBRVsZ08snqUL9GSKlCxXv2ScggTOgq6vXZzFHU7fIYn6rGzuTLG7AwBAjTv3QUURNpVEUG1i4FiYDcDtJAO32XFR00evzZEj7reTyUcDomuLSm5j7rYnrvicPyFWf2+rF4oRWIvHDQHFOUA3iykQYYhSY1gaegOwRe79u+kIUO7ef8Zg7uPI5g3QqUZg7ynXSZz5QRkwUnoeGQaph8wU2GymHczpqQpRwWM0mtoUFEGOKDLgZylGJd6XoviIKpAkK4JYZqMBoYwtvtkR+THc2fjSQoJwrS7EUCnBg5XMOLBTp/PCebAIwTQcR2KYGgUuE3nUZSon3otBt6Mgc/fI+JDDdOzWl7Ss68LBFhzM6ntXiKG2ILTWWQ5seAqhKrY3nhlRVeYZ4CjC+1G5QAjdDDCOpfVNB18F6CMfVeNKVevGCgG9jNAz9O+KysvIPY5YF3B7DohYlvRcl8eYpavXbGmH0ExNzEcCnPAcGVdGEYRwtTIotEWIby5qcLhXu85jnSbAGZFtADr826SoA8OYPWRttOFHdMPduIzWSy6JAL7pCnuMMpYA+IOvaEH0k196hKF4XtUy0gSkF86RRoYwljOI7r0tiG1hshCP0GYd5PE48RWVvN+CNsx6Xrsb62MIZMhi9rYxX6fAIP2izJgdOQCQ1S7GHgTBv7AHjF5WpcrBtmM19Uwr9m1970VDHKH1DBQfpMVFp1s2okwJLbTHst+orxzhbFIFagYeXP1pBzChI6bjPAAoOU0gR67WStjzBGYNvbkXSBDQhDVLgaKgX0M7L+ythVL7m3+ohcZfkBhict9WhV8kZaeu6GWuOpkJ/k+LGXYCc1nDiiqim9qKHaiJ70GzNZrMLaxfXz/rPZdx5F2x1K+GtfaIwK03W2uYftgAqOq9sgJ0Bd8spkLL2fXDHrOYxpedBESqVmpzaIkMB6TWuTBgWLu7FtFEki7Ynn6/sY/0ST3WiUoch7CdpDmMFbz6D7Hua9SIFlEOusi4Za43wAVBAbjtvlHiTzHznmmYqmsseg1G7JMAmMqKWLwvzE1DFvtYuCADPyFPSI+rfbnl8ITLQuALtTU1Xa/09k8RqvgMAblDQOWTfPAahAq+FhEJgeoK0g0BHW13RS9p6Y4skBLroAKXUHBGn79mpQDDI4RPRkNi1zIhwHgjne7xXyp7NFevAuMd1UMX+1ioBi4hwE6t+97l5WiXOFP+H594VWyLSF5SYF+t+TMXYlquzbq/23Fi/84DombqG0BtsTJug7L98RQ7Gwh9n9Dx4bUl8W6h/GftBkdR5TI9qq5Edfa1j1JNWE8qa27wmgMJButTWO3ndqsNxXrzkhfY4hSRyR/GFpTm0WxccArE0giGA2BPA7pJE2tIo2tBYFGOBcqh7hMqfMzgyH78mAe0aflGBhGNDGFkOlw+iAzdDNPyrXSvOhyIgknJg25EOBuhrR70tmQJM0YoLfU5v/QBUabp+ZBq1UMHJCBv7BH2OOd9yJ8hvtVbr6u2jy2y5q7CetHWL1WS4StR4QvuuCrXBqy6LpqiRnBUFVyqe1ukR7fhD2LiIJcARUt+kblCEN/CTjwF6boA3YBnNKOPJjAahYDxcAeBmixi1fWPdav1G3PPK66/O+8/u7jrwv176LYTHs6jmy2K8Vi4K8xwI+2LzeU/vCs9td4qXw/m4HaIz57fiu7PQzULrCHrdItBn6cgaNfWQkf/vzuXfHNbqz/6jjy4w9UBXxPBvjRTqtLXVnfcy4L9Q4Gao/YQVapfjYDtQt89vxWdu/PAF0Hj/kuK33o5Xzid1bbnZX+tZv+i3A/OQVyYz19X34y6gOx6jjyAHll+ocY4M90pBtrvcv6hwrgz6Zae8SfnfpKPDFQu0AipLrFwNEYOPKV9WhcvR+eOo6835wV4mKgGCgGfoqB2iN+iumKUwwUA8VAMfAQA3VlfYi+gxvXceTgE1TwioFioBj4RQZqj/hF8it0MVAMFAPFwHYG5MraPnpb/y8GioFioBgoBoqBYqAYKAaKgWKgGCgGjsXAUb/Luv3iXZpjBuo36GNearQYKAaKgWLgX/2JviqCYqAYKAaKgfdggC7PdWV9j7naj7KurPs5K4tioBgoBv4KA7VH/JWZrjyLgWKgGHhzBurK+uYTuIRfx5ElPSUsBoqBYuBPM1B7xJ+e/kq+GCgGioH3YaCurO8zV/uR1nFkP2dlUQwUA8XAX2Gg9oi/MtOVZzFQDBQDb85AXVnffAKX8Os4sqSnhMVAMVAM/GkGao/409NfyRcDxUAx8D4M1JX1feZqP9I6juznrCyKgWKgGPgrDNQe8VdmuvIsBoqBYuDNGfjzV9bL+UQcfH2dvi9tLvuRt53jOo782tRdv62urg1EGOHO6VtEY5RbdMaW941ezvQULCHd5/iAVj/N7QEpKEjFwL/6i8GvLoKw7HOwMLJlIdqi8+o03s1/IPndwL8Y71/a6F9MZbn/cQYGV1YqaPnpD7B2n/v6OssV78cx7wsI6fRpobDlE0dk4et5AAxbdED9J5vpyqrL+DAdSXwo+0nMHxGLmQ4PSBrh7g2ut+g8ky2qgBuQnhnuV339NLe/mmwFLwamDKQ94t9fWgWmpDxNkJb9f//+pZEtC9EWnach/ghHieSPyOl5SdQj/jwuy9NPM0C3uPSP3Mjdhe93+QSLsnAi/2nc2+Mh5HwTFxlkkkZ46btxkN+isx3uUzXTcUSQjvJZiJ6K6I84ozKKz04/8iNU7Am7R3cD+Ce72xBxoXIoMAucM9G745/lVeO/zUDaI+rK+tQJ6Z/bfuSpAWfOHg/7uIcZtuePvxPWVfavyeM1Xld5jGVHwTFGV6PHZGB6ZT2d2gcb4TrXfkH49SUilBwzOUZFz8XX5D3hJsO7RT9y4NRuQkvHEb6Xnr/pI6tp8khy+v7uLlo3I5TCkIF+Me5HhobPHtwTdo/uBpxPdrch4kLlUGAWOGeid8c/y6vGf5uBtEfUlfWpE9I/t/3IUwPOnD0e9nEPM2zPH38nrKvsX5PHa7yu8hjLjoJjjK5Gj8nA/MrKF5hw15N34tqdJ9x6rt/6jdCvr9P5ol+Hawbny9U/TsxS75/O4btzJJCvANK3S8/f5oqqm75uKp7O5+4iqujyx5XZMqBtMyH6fJ9td9p+xC7phhIy1UTFzC++oHOTDXNMoMBQnPfgZ2kOyysdR9j2fJEXsJC1Q15cIMGEI7zmkur5IvAsdemzvg26O2o1Q3fc1MwwWdk4z77W1U4nHqzNswNqYCRIu7LHyzyJEiS3bskIOa6GmJt1P9JMwTNitOEcHf2Y0ozSiC7y5zm4yzab4pbhwHxvRGJ+3W2qBcxz8FCaA33ykrl+sE5JD7NFQaW6g9kQTMwowiLr8yV/hK87zEcjYGvJHliBiSeOmTeFIX4yAFdhodaSEEMtleAnxI6OJH2GhDbqB7BW8+0ZSHtEV+WQ4KwYoHy8rIaDyVn/tFqIVGw2HhcyGt7uBCCtnxf63W1YWlasUE5DeDh4wI2A2Ug0y/wAUc9dgsZExaXMS6irFmHUQCPDw0HcvYfKk6VyhpN89PWmOIE2Pw5My+NW1og3VD2GSWWqSOQVXRg/LWXo7kvWfKKH2SOg9DpktTI3bSuXYdeLj1/Kq7p/mAEqmOEHg0/fV6kfXUJakc3GW+XJ//sCDOLYUf9QrqAg0lThdltSYz2+Wd/mNFnaXpTHzaUF11OrrXsdQs5TRiXn7NYXm866BVLEnZgdijtVmqdp+WIjHUc4hGZlLnVZyUsZh3Yt7kqSTdWo5JDqvMXnnmkDppiQ9HR9oq4ZLRxud9KW461ZxJCNbLeFLHS7MWHKNyTCdnkE+9H4+n0SDjqdcThS87lAozylMYPADWMw9hMRrKkTE2UROwaIQEjCQC2H1lWvaNmIN4kTsvawiwdAFxICjGFc4Bso0LPUVLgwhLCUpZOh+U8UcLiprgA0nsJx5nL2JysWdkCLXoMgzYnCrdd3ZyDtEVw6WsiQ27wYsDStpIeD4C7vIFx3k0VsHjrV+crJnqVj/IXT/llt+SzgjdZfZIYcYJ9dGfm+7nU6hiVYSP4iRKMYBnBbMJgbNLQJHXngeAalMWwOIxhyPydqEjFh8vJYe0uk3lDeg3NQb5ZvmAnKVSSPZB2Ko7Gx5BwIW7AdvM7hDZKdHTN2OTHGAg6CfrsMMMFq/00GqAhnV9ZW9XqMbY821RsXqJ6HpKN1eHU1fxdA3jIUVXsjNpo2Qz9XqXbzLFL6FZdMlIzA+hyXNJ1PteRjPf8vLbIeUp4azVhXWe1HhNeLrEqYBrbJvJm0FCyhloPINPrE+Xjd8Aw0y/FrOo4wAralaDZl9kHh8ai5ZojIN8IgIfbD+mMu4rKUVqnYXTlEoNGKIoHUMzYIJFWk2GaFoB86Zi8NMp3nCxBAXxmnIdCgOCiyUKCzCpdkYBXCmFttBMUeEqYHqinaPATYcMQBnaSCYQTZjJAbHhKyED90KAwMRDsX5HAuSecBhk1SyWVhCD4k2fQyUcjDOYRkpGQCmOS/ddGcdL2SPVAcj5QNndbgOzKQ9gh8MCCdRTF4xST94ZpmOsls3l2EzmDnTrDgBQIpa+Fjm8VBP3QsAXDjj09+TBKiLI59ijMkDbxQcxYuycAqrHc5g9wPdi7MwwNWSEXRYZud0MAEeXbtQbW1x1sklTwsQrMs4LqlDDkA7tncLbyBtaaZX7PKDc7BfBEXn5qNakoiVCdAu+VkzFhfk+ASMqlmMYAMLK+sejn1d1a5ZPm50eWHymzww1UaFP0CaBUsttzHtgDEodaGJ8YuxGAdxJoletExfe29phHJoE9bPXhWrCPBMiFDNtpiKXtUpsr9oyShc6VJKx1H2FVjnzw1umhQiPPBwSofNwJSbZ5aaEGZEhe/iA5jRJek5dKlQ1dj1/MuSRBmjMHhohgogia5sR82WMLDPDT3hDFnGlGIkdssw6Uk3SoQqkDsFfJrY2CYZS5aIjHf1HAbd5/TzDqsmYObV9JeeEji4Dt0EroQjxQlSBiPCaVQjNBDLAx1SdVHznKzBhv7ZzNk3J23gTWAQWHbeml1rFQGtOS3CRSH61Nr8EQb8mq8IwNpj+geW85pWQwqDLUxHER+UkVPu+poWIdTK44EUmpuXzp0V28WjKA1yY398NASXr8I9iMOEuIgUWHlWYZLSbrn4CL5HnQ1SJjQrjBStFuMq1OjjxsSQoUxIkDLwdRg6C2TvFTe5TkpU7dB5hC5wLSMIkhfRRXXNDyj6vcAACAASURBVOu9nDth6jqGlkAJdtRxeK6W55b6Lr0ZC3hxq+BCgKunOSGeYbX+KANUrtN3WaWq6BDTvqvaak8Kq3WoBgc/LAyK/vxaBYst97Etc4FDrR1LWdyfvr0xmEX0ksW91zSCnmeOBjqZkCEb/NDrkjdz7qzdSDOnxv10HGGkwj4HPF9g5cFVaPQ2UpODuTQ5EroeQtFBigvTOO0uHU6tOIpLh05IPMmCzNV6aKtZjPkxqTmZj2iY/Hkpt3AoKx1BDHPhniEbdCvtLkEwzDIXZcnAsQy5DQ8MDUkHoDfLoaY+CFkbPECTHIX4oZOkHM8fWYuQcbiPLGHcHj6L3bAl2LBRRIulAn0lE1RILnKEBIBzD77ZwJ87tOd2i4YRUUVR1evnMZD2iPjYaLobiiFXLJsOB5vTVNHT7jL01Mqit5ofOiFjeUigqSkbEUNb01pLzYnpdyOewtzVFp37NwLHFloUFBcEB8FqQ7SkM6F0qB8CMjUYEaTgeB7d9SPWZehdnpOyh5mFmI071FXWuViG3hKm5nmoqUFvw2ZNV1t3b8aCnSj4DB0Ft2FzdNVq/T0GaIVYXVntgYKlhEtUlybp+GkIOAyKeuZUQ1li9dwmun6d0YFW71Td4a5DYVSFRJ1QcTRLXUh1tL32XtOIRODsNJqkSh8M5j8eNdDZxIZQ23RnzjenGROTXjqOcBBdP1qH/oyVjoQFkokwCfujIc2M2kGKwiEWGUx6826SBJ9JNu+SJOLskgxZUJTm7eJvPofQ2kkxdVhee2kegT40oxsQQDPqPHBSyT6xT21gBkTQ7JCEgaxIffRpVOtH/c06W6rghgcSjzHrpEIkj0EPgpa1Rmqvc4cPILEQ4Wm0UWiggsN1aJhsIjMh737DAq6n6eeQgKyan8NA2iPC+uhZbisGKCs3HQ52T2QKAF1oulNpJdm8S5Idzwu7b97+wEbQ0WoDOHeJXC6UPZRmewsSGhgRBGQMa3tXPqBKzRQrdYPyLs9JGfxCs3M/3l1QbZJ1zuMW5+ByhodUQAZNMG7NJJt3kyQ4IhlMXFANnWDVbVhRWr0/zADd9ZZX1vaU8J1QK4+fLy9EKrz801STol4x1Y+6lv7Ij50lm7B79sHGvKbZBBVDqbq91zQiGUjczhWP39CxrTKzIelrTmPnLRmQKfSU5bibjiOMwBwIHlhQKIzCkcky7YbWuqRqHQ7O7sya10XoGb4QI6yepILShUNUS1ap25J0pGTpwKnnMsXIOvPfgYjaAl7Mo+knyItM/S83oM0iXMoCrdZLP2lq/tz26cdwC5HM2Wii+9DruVD26RWjc08CrD0QTphN6howtgQh8i/52epgVghjRAJEY7H5nxpezm4T8Gn2M4UOPw+4s1uPZ8AnuQhc6a3TX020Yq/Xd2Qg7RH4YGA6WNI0bn/Oa1ixw0F01y2R6WnA7jT0bifbnxfGqk+GrSIxA+kt4HUA0+5EHuaZvnojwMiQ2WzuOE9b4nSV3kHplKhZxAgKIpFg6i2TekOZWMCslp6TMjIY8fjcxXGe71ZPG7J+3h4KcVclN1VLhZq60xxbLKAXGcvZbSEESqKaf5MBOqisr6z/5N+V8XWbCxSf8/hv05DLVqRZMfepfk2ZVqEL/GM5Xyf9V2RoZpqqY9DZEhcaUYfh1TQ4VvufPkO91zQiiC0uZqr/QM9KB8Pl7LucRs4lEUtCkUOCi2Y6jjAC99AAeT/snuzVwlIeRgKJSAKWDYNk2JIO6o6RDEG07s4crq2SVHhuqDD2JAvZs6KmJwCtGbzmGLJMKzy5SCDRlRkudBAdqcFcJCvq8g+oWA4eVr6vbrHbfsKGnQhkuS7Ms+aYQhsaGvdgwYw7jizpzT2QBJKkLkQwu6YCUgoFdhxZDB1FT8KirrSEJEnyokgMBi58mP5MwcYdqg11ZJLE9TpC219HF4VF+lsnGvFX+70YSHtErOpQWP4wxGcXy9CKbjiIzJCCPhT9epikq9CbncTUwOyPbgSJY5+c2dzZuM3yXkpX80i1Rj/u3BFxnE4w89btruRopkxJbfaclKkLdYQhYHgZWpLuIUjyuzgHwm6lDPgQNqaTslt3V06A3oETmHRLdlYGKcHq/kEGqF7SlfWtWNAnBZ6Kt8K/EeydaebjyMZof12N2YY1/a/z8dH582SH5aMf+WAC+mT7kQ9Ov1KrPWJeA/wofOpGkG4PcxZKUgwUA8XAQRh48ysr7ymf/yuZe9Os48g9j1md2e9h7V1t2rMFd1b+VS/03zWxbbj/ePrbSPpkrdojprP70RsBLXN/ZpWbTnEJioFi4K0YeO8raztvfZ2+L29F+l6wd6dZx5G9VMtH1Gozv4O4tzWR54s/oRQ/8/i2Ke0B/sfT30PVB+rWHjGb1E/+3RU983Vhnc18jRcDxcBBGXjvK+tBST0MrDqOHGYqCkgxUAwUA4djoPaIw01JASoGioFioBgYMVBX1hErnzJWx5FPmcnKoxgoBoqB5zNQe8TzOS2PxUAxUAwUAy9gQK6s+pm4ei0GioFioBgoBoqBYqAYKAaKgWKgGCgGjsTAO//F4Bfc4j/IZf0G/YMms1IpBoqBYuDJDNQe8WRCy10xUAwUA8XAaxigq3NdWV/D7e97rePI789BISgGioFi4KgM1B5x1JkpXMVAMVAMFAOBgbqyBjo+rFPHkQ+b0EqnGCgGioEnMlB7xBPJLFfFQDFQDBQDr2Ogrqyv4/b3Pddx5PfnoBAUA8VAMXBUBmqPOOrMFK5ioBgoBoqBwEBdWQMdH9ap48iHTWilUwwUA8XAExmoPeKJZJarYqAYKAaKgdcxUFfW13H7+57rOPL7c1AIioFioBg4KgO1Rxx1ZgpXMVAMFAPFQGDg9VfWy/lEQb6+Tt+XELo6L2fg7Y4jlzPVyfXlxLxXgOv36Wm0vA/Dz8z61fN9PFYDe/fBu8/q6VQfBMbT8zqIw417xLFmgau7HSo+aLMIz+wd5XGsObojgR0mj3K1I9TnqH4Iaa+oc/J5PtAFBXLcMms3dMDbpmreq7/J6b1KCQwt++kvBpNG+Dmdzpd7NwZ0dqSKuJe+97JLxxGu6zi1B7sepup8L7ZfhvbGerQr7vsw/Mysd1F0h/LxWA3s3QfvhlVcTV73i6YbMO6YrTIBBtIe8e8fzqvP6pFmgRF+4GkiPLMwRVubR5qjrZjv1XuUq3vjvrXdh5D2ijonn0daUiDHLbN2Qwe8bSrgvfqbnN6rlMDQBebWlZUvOb557YlM0b6OVQt74L+7bjqOUF3fN4+JiFRESfpA98mOn+zu3sQOAoPhHwlL5PO4yCLOUe/g2O+Dt7AiUVjWn7a09OwuYPTKNbKXgbhHxKPP9fuk+8WRZuFIWPbS/Ur9N+NlF9xdyq8k+Z18fyhp07SmgtuTRqYHvbLeBp81Oh66gWyR+nv1k/lzuwkMnTzGV1adv+u3vOuqA3vwULSnfaZxT+DSJQbicYR/f65HkIcISkX0kK9g/GTHT3YXoO7oHAQGIz4SlkjhcZFFnKPewbHfB29qRYKf29+nMEYTUWN7GYh7xJTsqWBvvCfoHwnLE9J5mos342UX3F3KT2P0zR19KGnTtKaC2/NIpvfccG57vk/jgVT+/euMu4EboPbq33D3mDiBuX1lbQTgGeX6rV9P/fqCzwyTZ/rCqnx59fxN38CDHy2I6+V8csnp/G2fOs4eLvIhpfOFbMQVR/T+6eyfbY2ev0DEvzz+Sn7c8B99HCpGUJZhHJNV8bFf43FkdWVl6nWydKYoucYcS9pw0MRfR6AALsY0fL6IEMaNObdraqLDgQEJqaG5m8Vx9Yvy8GsTyAirWu3olW0hdloE0DVCCmwJWNTdCINMImM0IoGm/hpofUhCbbtNYBgz5vacmcuZ4oM8kDML3Sei3OZKc4QsabnSINIL4dPEtUAun1hF0J5+iA5KK7e2LDKUDNV94wMUsgmCuF2O4xpKyG4xLwgJ2wTNXIWKjJJpqTDNgAFyHTR9UuJkLtIPAHsYc/CD8DV0i4G4RzC58AiYdS4hnFeoXh4G+2SWxJOppOG4ABqMULpYURM8Ukszb+1ROF/c2gs7YeXIKm0Is5Wlo2oC28bj49anSSNg6/7DcORgTraTNtqYRIoxYB6NN5c3YJYL4JyvQmw9Qmhu2k5gzsK4GoZBpYIGzSweVH5md8AVTJEi5dx2+ihRVJuTxoaYM6RJw10xo67FCINKFQ2CN0yhh0fnZTvDT6wwI0u+gRzbhsU9glmKPJ1+R+gIC8+Z48hTYICt2uHRipl5+A5z9tIqGtQYgPPHrpr3RQ2QltpgO1W6qvjqhEiNB/PA0pCaiXIe5jqFjGVMVnOGFwmSIWLFcCjpppv4Xb7Ler1I1YpLjCKTM5acz/LurE4hExWzCyLEyYKzXllVbfYqUzCApg/wOKxKE+c20YFSCR6ZxWk+YDseRzjNEf5WWIKfqdKixnq+fp9Gw2wWjBqdGkhmRU0TSywVmUySGEaXrTjUZ5RxT0XBP8JvAoynz8zANKn5gtBys2RC6NAhRXW8EwYHDwtD70Cwa4QFIZgKq/lS2HFlD4Q8i+peHwScKJXdCp0TUTtZ6YxK4FhwhawxjW7iWGiB0A7bUMCQ+bz4U9boqomQjjGry5LYyLYkp9o9DEs8REM9bN+ar5tJMR6fNqCyawZA+YnQhMazOYaxAN8Fr4FNDAz2CNrq/DFtXrCEQvWn6YszRA/XydbBtqrgzFoZhUrhCrOq7rMIWEicSpK7lsDaW5RSTw1jJnED6q2IM8kGnaz2i+hE8wjhtQPPzo31yiyAtkAuuNrDm4Ad5hgTwWgrDjl6gLtIbahsU7U3EY2KM7V3d7htuwcVkra7ZjSdA22pdzwOsVYCIVxguG74UwplHh/RJkBLXSicLjBmRXuEQ/QFMHCwmjVwFwAtgpJIgWIbXLXLoiihzuphickk0JZO502f+55DUp1KWWjigD0CCSJ0yQKnon10dHJllSuavrSCSQ6uDVJjTeDR72ZC6hhPdHQuGmO2QfYeJJ6+v6nd1Fd318vlqrHl88wiUkN5U1hwa01EVHRJZ7NVspbhoRuT44jOqeYfc+C0R7uvqxFhSjqNUl8smhIoMLlB6H66ZwvsEIbGkJircOC8X8KyT30Ae3ik6Rl6QG9JIEccTRCH67TRGzBIfUqn+g0+qRNycKm3mmXui78NkJwOJHYROm/ZCt1eY9AOGQxETXZAUk06gQBDaFrYVSME2u52Eoa8IW0aOURpg+QB0wGz5By72CY/0IdmHn6sVNCxJjR+vS/97B/61JyAHyOo0ZsMpD2C9Lk8eZPwKoRZWFcvSvkaABcRmD9oNogQgJpxnmMWoGpwQ1mElWftjaRgC64xEQoDotBOothN7oMXkmHsIKTozn7MH3oBJCJMOiNXwbbpI6TkbdFNImAnhwiaoQN4pRltO2UYiJpsTlLlltrjKQYfffzBCAa6aYvK4iujwllxf9QCvKEs0MMAYLqCuE8AIEE3wAMQ4AmaIwRS/3NbkGBq5HYhGlOVAGRoN3JE62zq/QWw7GCCXyj5On3zlyxdy4M0T9CHJjxPPL9IhSFAfTToHAdOQsd84bSkimIdiiVzNXAA0g6Io6SWExEWTVfqwNMAbUzjd1n9XpM//GsSa3BshpqW2TTWugEqDiVt3zwtN2YIckVrUg+fOSZ4+HyCHXOp0uxUp06cW5bSMDCqd9zXdByhRIf1DoeUlKRwk8yIGXCkSpEpUSDdGWVsiEJwnGUuWoYLk+E2bXiEJeuIAwqiKbrZInTGC0ByCPfnSqDTi0HoiTire1B1rtwhTgSNgmqGZMkuQjcH2WlnYAoQzjEtigj0EzyQWGXrXDbX4f9TSFO3lr76wYg61v3O2wXJMQvABTRJtOhmRwAMrbzd5crPLJMDtg2pWzly3X1t1oIodjqHKs6oadyCdVYmsbkcrjPqvF73MZD2CDeWUpGZ9lngqcrzD2Kya0+bfNDkcpalipTEUJzHmdQFF/QcDrQgGI2O1EFlJHZnSQp2uRBB5NXaHKEIa3ldsSl0b5hJFtQdd6qXYKC6qnjim3iDVTM5x25OxJnz1oAodIFYsSgMd6cMAzk+OZuLQWLzA3kiQ9Sesq2Cme0+VC0Opat+kQY7bo2cdga/TVoC6YR3SDlHJvCWyHKKcxtnyyO18QSEB7OOeMiqjOfmdHj4BX7HQunmRLBvQUP9Qi2DgofmVkgrdEiMA+ADmtEd6FMTMUZ3aynHRWMLyI1Y4XpbMx2FBGBoiKzGV1aMpMYMoQskKZFne7TEIo21bmAAh5K2rxeGRTK1PloPWZD1JNtJIk2KTixTmedZsqh33HY6jhALgwWWyfFx7hrDnJwwZBNHfTfw1XbEBOlGb67VhQLHWeaiLHF/ueU2LBkazvCRsteHZDD00KIuRDth9IiSA+oip4vQnSi5EsY6NRoHHNCMTA4NxSk6aEOs7YUTjTtkPhAVxT1ggiYJ3RCR0KPcF+IK0tRth6ePSJE7NYEzHIdgyduiC0bsGzyjlbdBQbnR107kVqriMXwSgyx0OociHY5bJp3UYXSiEK46dzGQ9ojgg6iXZ+bGLNj0SdlTfehXI2ja6MHLOoOnsUVHxYBHOo6FBoZVAS6gOXCWpOA6+wVRXmFQFNaf7CMASKG3GbJHf/pCgARDggUVADAcB0zJ26ILRuzfPXurBQ5OQkcncpJaZhwX+RyEQwEmaJIoh20j+3cHz2houxOVl/HQsAWLzxCPsfaxSAsPeiB8kdoeUT+DQk8SDH2mapgRa7bWUM3x6001iks/Plf9bIITTMXboJBguE5gXLSC1J6ALd6GOuSOj1Jr6SLBoWED24ki+L1XVnYXaTfqyHMWpTEx92nTgXaUTNq6iumuOeg3i0afWMupdPjBYJHJpCpYBSHFRB8M5r/ptErWsj50Ix1HKCF8YsYlwmk7U5ogDhPV6Cj31YZeSdZ7E41siP1kCCJoYqS+nRWpn8BkFXeibMEH21o2mLmr20IAQ9LMMW7AIHFkLDjAiZgEAAjBdLSaNd0NkDBt9+otCAqwMJGMPPY7TzBAzQUnJIZAYAigYjQR5MHQn7vNEXIfCEDaFA2pI+A0L8nboptEWIMogjY0FY2+ZlHuqx5zlOCrLLzOHNB4sgdVaLI36EMzBKrO/QykPSI4gqcBqKfmfPpklz5907dv2kNJbtqfcvGHFPyFkNQhmWt2YqxyVU/66H3tLUkXhlkEDzaK4rOcJCEXksU0QRuaaAQzwsOhP7GZDDONcwAjlicp5wDQpybkCJJuLw2p6FnPbIOlzrrgIRlGiVOQy6nz1BOpjK8hqZbfNm2EGhtQAZ9A9xhg800y46QjKf/+pvMEA9QMruKEpEBgCElmfkQ0tx27YbMdoqlqFlB/kSNkAvS3UXflLdTv2ms1kdILnJyzDfShidhwOEAIgtAhtTTQuvRXirACwR/oU3PO4Vqa40IfIkBcbmZR6tMtc8e7rPIg8q8L/H/tGWL0iYNurA24KbeUt067LQbAGD8j0Bd3DEBk0be4znbMnRdPh0rMuvFu9jLdx+qn4wixoFwDUM5S10FklFjScai2vDDqygmu4ZpHDs0JRG1NjC2h1Q3PWZyIkYj8QLgQgV1g8FYHPoLhgyV32O03/7FcEyIqGoTQUaTvMSg7HlT4A1YiDOqhdlhxupQYWQwdUKFvbnvZW1KKEcKiWQPgtR9kN0KHRIKhgDGFLjNSCDO+hGd+kK5ZAXvmK0gkG7oVQkQmiShU9y0TbQIvCc4VfAcU4VGb7TftO/sSGoEoYBJpZGzfmC8FJZ7VAyal9auqLIPnwHVjrD3pq+8EIzoMde5Rq7WHgbBHhFkMRdqVkM6QFCh0W32cTu29VcJCbs9n79PYYioplpbxKBXEYq7AgovGHKy9JSm6RoTscvxArZ9QdKJUyJ9zT6GTn2hozw4D0dwEFXZHD+zElZyu1Douaq0H3ijWpBthBIQYWtTMCcs8Oi97NovRp5QLKIdFkj2Z6SgRsCTPDcMju8Nt2w30fuaWylMzJHz51GOpDJ4Und5cRbhA5Iq6MQVoGuuNe5rCAhh6WKh5ybUi10dgERRM+lJXe8pP2qjf0lb4wiU+vA1FuD1jJvHZ57yU/W61X0sXCd6gSwOKB8t49weDKbH+C6ONnOYcfGt6gax/14v/czJfXyf4oqwQiR4aIQpfKh72s0iJ/9M39A/c8FedxVn204XCpOAfx5kmG2f4qL1wHGnsIbsGW+jh2377o9Ja70KwSMzAar6bmvYbA4hCHtSb23vLY8s/o+K2C5EsRvL7CTdxv61l+B2CDZHx3JLsm2rWcVidAxShmcXcAoOUXU9xNHcYgJO3KEFio2Ttko7hRpL+31B2zDRIwZEahQCRkD4RwEI5JgWL37KnLiZi4gk8Q4SGaBRJVXXPKkMiW7BBt9tZRfeYjT9Cw3RANcZlO5U2hB5Cx9PxN3lw/Thf25PKkx4nSpmlV4wF6PTZ4hrurN2or1iXZfAYttpbGRjsETIpYVpSCS2q12fd55usw7PE6GZT2ap6nkDGQpotwqic1t6SNLp2gKkOo1p4JNOjlx4BXNBS6LWhc+mgRuuV6wX+0CioEAj76SQwsEi5JeIhwAoXgMQhTpqssu4ip9YrJzzbCwANqa0/sNIDdXNIt20RNEUJvJD57F+RQdaiXbMCfFH1GFtqAkldSB0ZxfHFk4JJ9lWEbFAs/vHZtKFuCpKheG72AHgJDH2Ezc5TS/kznuaempMaQCNsJzAGM+lQl38aD0mqfJp1yKJfiBYPF1laMIoYfJJkkmBKJNp5jfTTTUHSu6wZfvXfloF0HHnbPAr4LzPQlp5fBlHhOwZqXjpKamAfA7VH7OOrtDsGahXqKLk9UKTd5ujTNX6vBvhOGG6XL+H6FQnWlfUlU3UQp3UcOchEvDuMVyw9787JEfDXvBxhFt4aQ+0Rbz19RwBfq9Ads1Ck3UHah5n8Wg3wjdXfiH4Zra9IsK6sL5uuAziu48gBJuETILxi6fkEXn47h5qX356Bt49fe8TbT+FvJ1Cr0B0zUKTdQdqHmfxWDVBc/MrTy2h9RYJ1ZX3ZdB3AcR1HDjAJBaEYKAaKgYMyUHvEQSemYBUDxUAxUAxEBurKGvn4rF4dRz5rPiubYqAYKAaeyUDtEc9ks3wVA8VAMVAMvIwBubLSS/0UA8VAMVAMFAPFQDFQDBQDxUAxUAwUA0djoP5i8Mt+I/DLjus36L88ARW+GCgGioEDM1B7xIEnp6AVA8VAMVAMOAN0fa4rq/PxWa06jnzWfFY2xUAxUAw8k4HaI57JZvkqBoqBYqAYeBkDdWV9GbUHcFzHkQNMQkEoBoqBYuCgDNQecdCJKVjFQDFQDBQDkYG6skY+PqtXx5HPms/KphgoBoqBZzJQe8Qz2SxfxUAxUAwUAy9joK6sL6P2AI7rOHKASSgIxUAxUAwclIHaIw46MQWrGCgGioFiIDJQV9bIx2f16jjyWfNZ2RQDxUAx8EwGao94JpvlqxgoBoqBYuBlDLz4ynr9PlGE0/d1fwaX892m+4MdxuIRxrok6jjSURIGqMSmtckzMZUGP//+/QNX+wyzoyf0Xw4Akn0C3Ne7ILzny+vjHDoCVcXmcj50JgXuiQxs2yNevqQ8KaOtOI+2IrzbinrndB08zRk8GN9aYLsJYsfHOfFCyn0q+0gAV/sM+8APj7wcACT7MNhyMGJgcGUl0uWnP+FcznwHJfmWM6A8h70fxrKWNhzNdK05SuwlYz8A46khuuOIeOfpnUzKS4g7qNPl+sJcbSYJXO0zfAE1LwcAyb4A/rNdEh0+j21ZkQUO1zBmTcbbixvdgPQKnzdC3iMmmJjxPT7K5sMYyHvE+Nl++ZLyJFa34jzaozBm/SYpZJaf6QfWsZvxHlW4M81Hw261n8GD8a0FtjWk6LHbI63NkHKfyj4SwNU+wz7wwyMvBwDJPgy2HIwYoBUv/SM3RLr+5EMbyrY8YFwh9k6WWJthlGZ4TbshWGtmy5f1fwDGU0PE4wi7thm9fp+s/TLCtjqmuf4FNCFs6GwFbnqPWZub92i8VbJU9lpb1Lblh7KA8x4/Hib894/7ZrmYmMs5+dRo4uMen4tw+Ib+Sm0go4wBzUCjhv4aA3GPCB8X2UfFWy0Kv/wkdFx1Aze5b8sTH9TiI333OnYz5OMK+9PcH/OBGDPT2fgY3D7t5uMem3H0J40GQKGzO8Bj1rvD/a7Bn0r2V6imJW94ZT2d2tupuBzKKikilMywq0X7YDBNJx4SZ1ZtvGn78W+t/SnSyNiDWcXjyIGfpl+CFsKGzm7iH7PeHe53Dd4pWXqgJosIP2sm415c1KLCJs6jyXN8psAPsE+mMcXku7p/jYG4R9SV9Ufmv3uEu4EbMHSZmS0w8SFX7RtOXy/em+Y9iB6IMTOdjY/h7dNuPu6xGUd/0mgAFDq7AzxmvTvc7xr8qWR/her5lfX7O18weeH7+jp/ty+oyqqoo/ZVMZo0fc9MhKfvq7T4zsr/O1/kfQw/UF79Y8en86XFbydK9/NP3/44X6L69Z/3T+fw5dnrt3+c+XS+6Pdqm9Pkxw2vl2+5tn+pUYBB80Uh7ZPSX6fz93bnaEiWgqoL8UhZxOMIT0zcy9g5h4RxfOouZ5oeAUXz5noLEVPTqkQm3M3aoeh8aWXyddI608qQK8QwJHBB5ueLazUzcarlZzggfMquVZ/ZNRTuTNBAYGi6VUtHlXOITTjZr3vEFPh9td5JQ+IU+NwgANICnTCFOhcu1xSab4Tj3pfH2pUJTPpVQ4u+xh2a8yBMIQJw6AiwwbfUg22SaeRGUtbsQ7v5sMV4zEvsicFWn8iFosQxW2XTDKvuAN8Qz0Cvhv4MA3GPwEcrUECFZ4XVPXTjsuzUgkfuBEN7bCaLA6+DaZ/IoPIvegAAIABJREFULhEntSfL5kJEHhGWZb0T1SwE+rZHmAY5EEuBiOmEtMQHD/RgSBJSt6wBaTmHM8yigdCT/VzkkrhLelQl1utlo3M3kMXfY3GZuBsU+ChBcMkanlqRvrZxY23kujcE0OHE3AEB2ZhvdD7ctSWWG8As9WVvyFyfYWlRxL/HwaBY0+zag9esadD9hGxax60iq2hI7U042aV7DKHHThqIEe0IgLRAZ0iyy2O+CAdPHtl/Q9JlkE1+42gE0N6pSXU4fpfVLipa022S/AIj4zKnqqVrQJtgEbpRq3v6f3dlDUVgetlPV2WmmRoKaOBWis+rMZg2wyzkUU+H5jirNC8SdyzUSh2AElEM8WAppeOIYooPX8tD6RqsXP4oswO1lhwwXxW1VdhdsmoUcgFYeqRg8gTh+n1yT8HCgSmfoojuGDM4QBm2fZHWGEGqg/ZKUp3ONGloyGqmKD21Q8U0DQuq0QrbThSO7pmLbOdTElkMesYIP/orEyeMbMhJNzI2j9GBKQTi6QOiflZByAisNFKQphemAUwnzax+t89oGN1i0owjipef+O9sJ4nU8F9hIO0RswcGCgea9CjqA4TDRB72QQ14bb/0lIFY8WQcF4cojyUffdpOEp0gnrT4BNEiUHRIUTcrhxCBGwbv4ugxBYBEWzNp95DEgvV0cQ2d4DIm6KDWmUYQwTs7lAphQdznNfhdcREeFBgOs//nwFPywD00H3sQ4sPCoMm3HhN0s1QIqXqVRH1lUzOWnvpKmE2NjFGG7SAwdIZG49orhxxPOrplNQMgvRHO9BD0BRacKC4M5eWBo41HXb/kRKLmieRsZ2oJXNAzRtj3yiRMdgpNXqZLZSxuAINAPH1A9K5N2hdmV9aWv64xREFry9ITazJNvGwboiqT1VxoUdqdr0lFKKr0FidvWq0f/EhH3/vUbuoPDPldUc3CwptdQCDpcloEpjXwDyAHdV3T7ddkikreoL0m7evlcvV3e41aAyU0PFhW+TgCKHVadcjnjx8YjU+wtS2PjvbnIs4dHOqSK0NMRS+ehJlQkKLPuxkMamI7pM1BgzTDyELsz9ppV4hdMgqkgJckSxIkrsEEhZz+YC4gKhimhIOfuRpadSZ9fnEEjeNpMLiCzk0goBu95w0qxnPdmxFIlaPwcpXmcBz+tk/SgGlpYHWeszkFUZkDH7fGgMa6NfoXGMh7RK4u4QCGoYkE5eHcR91RO5QmGYcngAamTwS4w6jJZpsoGYVHj2QBxS1lQIzRl3tN4CF0IE1tDuSDobjTqO3gNeUDmJMEabkhwqUJHIboyQWoJUmOi87FIxjzyA4P2VQx4ji0oama9JqHcx91tZ10BnNIGlp72FYP/pp8zbs5Cmpiu8uoH/Do6/zRLbZ72kBKTXiSQoQkS1Z9eYBCTv+PHY1wyt6pTees6ZVVj2L+JimXAE+1FVHs6bTvvrJ2bvix0PuSSFsFZtXcp6rUx1vacpy0F34Asl2IKB2yOOnngoGP9thoFJlxDLx2nj9SzGH4s8Fi1z9r91RVPo6Yj4COO7AkwFPNLICoMdAGSG0syhIKC04HYpA2jAJwfhRPFvPureyM6eQCIZPIfjjn7BXzm7YjDZEVTdjCcEPAUXygGpGqnaUR3XYTuBaj53gTYziKIaq1GWv/VziWBppou6mmpHhwas6CZg9NhxjSB0BBGcaZl1hdQ1UenDlHf9Jmffd7p8/mxTiUhsJI7A9jDKDx0C7lmZMa/yAG8h6RqkszxWEtTy3IpoMaPDJWU4dBxUpdlwhypm3SVF+myI0IgD0iiuRkk2gZKDlco0rKGD3sEB1shjBY61gx/Q90VTIYEv4GdKmRvE4xL2i5JcJpDCRA7HvielHEvFKMZ8HTIOhefausZYQaPDJWg/TxrMHDiQ8bk0AjsbtL8eddxgXTg5rYXpUr6dkP+8pegzW6xXYdjXz+WjXAvLBIiyiSrUtj0w7Uq0EsTgzznm0iYH5lbeTRxax9GRSIsR1FmHGGWxE3okQITxre8lDauWmHytHVN6vmvjxFjEjaNs/SYFm2CxFpOq8X/xIspyAW3MYoMvc4tHQuwohqxNiDRZWPI+iOwToPPn/dEgOiTVdWzg6NKCyFkzFoKiAakiLRITUikrKz1QLH9uAvowFRyDR2NPoAFAfIXoP1NMRwa4J5H+Rp6YAM/bOcowNRrtDh1MTGc+GGbaY9/eAI1Fr89n/WWZhACrEibps7cwGIRCc8kD5gSpBQ34FC+AhR1r88CP77JkfUih2BbZO19Dk0s1CJ/bWyWbXGLuVkW91PZCDvEam6NOV+OD90vQbbZjV12F2jQmmSFT4iQegu+haiSE42iZaBkkPcDcdIIAWMHnYLtgxSEy/BsN1AYzC0eR1LCTqqodOW8x6RO4x83RNXPZAtLv4pxrPg6XaR3MtGtgAww6nj/Bq9DjGTitQTNIOX1om+rJhEE6Q5DIiiFQoGcCOG7DW4Qk/YXp3oOocYj5zMnjKDCrPjQYduwR00yZEbfsjRCFl8pzZN5urKyjNFSvQjpcFznXv0Rep2y5t+oFd9WYWJI14MpK0Xlw0fDM5urE/FpWgxRJ6XmIetPW1tupz1vVVwAc1Wt/Y5YP1th8ZVsYGS5NU5AdRvAV2nf2gqI97bz8cRtOdcGrz5w4kPKhvDgwvNJOIJ8MxJisrUjtIgRpBKa1JPDtfdFC4j0a2ox4CaCVRMaJSguk1O5t0kCQFJBhSMVdOECgDSRdvE1dQzeGMooX8TwNgEUhAYOBIiDCa+BaUvDCi3gaNsLsIeKo1kSkh54ICHhtFC6NAJNvf67FFDjCzMfVDtmnt0O+Ma+EAG8h4xqZDxMNb3WIMZQzWjMA+GPjnDxaFfnc1PbCCK5GSbCLWi67bob0a1iN5nk6K27nStc1yBtDY8G9qyjs0xJ4COoN8KQZatcl9V74qrxmntzjFyH8yyKPdVFcexrfK4eYw1WHcwN81HsqFurP9QMiQOdehA0v6+7iY/CALbITaHCtIQvA8YrNEQ270ZSKGZY7FzoGKsCrSDAjUTjSCdewZvDCf00YODDSqpXnMgoQKS6o4m2V0LOl0usrrjescWnd6WV1YmlLR8dpmBrtt07P9tgRRVWS2l13Qe/vNLNqcJjyIWORemwbLYWjeeR1t79d2+zozcxXQ6FXKuG0MGJagCLRFVEKmbx2oqHEf6b3Dr88pYJaIkpfGli1wq7wtRS14VhVjrkqF1WoJs4GP5X7pUNMAGOYHhRfdGduYkYVhuxbKsaBpChbpCMNhersutuNRFU9UeOXF2uJSaaEIUBt01F2BITQvKndhVbGlOViaQwmBdbk+I6qSIFEWGYNon6QOkvNpnNkA1z39TxTQJAPabMYIQkKZ0r89VMeSU8ttV/ueXmDDDQmgzHki/mn+TgbBH9CuUkuK1j/Xuo11tzdTUYdoVuFbjCqNLQbPg0oViDttZdKpa5BOcINiFaBEoWekDpfE2LtpqBtBgSW+pUCQ8TniCsTV4oPMQ9+O6hUwEfylB1FvQshBxHpIot0craCsFoGNT3FmB5fxXa+kOeDrJjm0jgJlaR7xGIEGbNKcEgXZ0BU9NCr4cMOthFyeOI/jsoFq/bQRpCh8f7IXb5GTRRZwUDZ59snKa4Dma0I5RdpEMhtS0oNyJXSBfubllAinIGhxGVuZCSFouJukrnjd+pUTXV9Z/8i/P+Dy0mbY5a9/LZMb4ncP2l4aauqiarf9zMzQ0l/KfROJ5GvjJ8XM/FVH6l2gIaCuHbCdnYgHr/2SOf5m1AwyfHMbvvNqaAyQ1VMoEej+3f+dlkOmjhZWOIwK/TZUi4Rguke8tq5RQ93+InG0WIpLLLAyCNcOUm6m3ubGuzdZAX0FKtGl3mV2yYryOAaQJgG4rZDAgTQ0pEW3fwqkPRMdZYgx9DolChV1zEQydNqoBEukyGtSQl7WJmjcLdCg+5uas0MTAZqyy6F5hBazU6X7EIQZvOskhK4ToLUYyRKsk6ot55tNXkAYlhrU0LBYGMl1Wsx6BDWQoQ/X6lxlIe0Rct6n4WgFh5Vj5pXq28VaW1k1qzjZWbb/CWHGrAarjoqpyes04wclG0eLRIw/gsMWdoUrKGF1w8qPtXIUntXkNQ5hmCNqWCEXWizrICYs7XmMOniO0ucglaZf0qG3WAGXC5y6sHNmY1PQHrL2EbXDmYbGJZ3iaL2LbCGCmBiHQqw6jWSx3klhuqm6vydey68Sk2RlYMdUtbJJaaG1scpucrLvusa8BoAKdUFt/TAUVCC0qLUkOhoimX7i0VJQNfl2bGD7WpVhxJBwNY0TwHgJjZslZAPZuHZrSdGV9txQK75SBfByZKk4Fg4dHdRciVanXYuCJDPCqH5blLc6pTncbjRw/zRE4f4VPcJ+aPxstBa/uIRl4fI84ZFrvDuq+tW5b1rUMbOOptIqBN2HglcvFwSioK+vBJuSpcB4/jtDuNvkVzUL01CTKWTHADPCyPCnGFUVk94Q76yvq/RU+51T8bLQ5jpIciIHH94gDJfMxUO5d67YQUMvAFpZKpxh4GwZeuVwcjYS6sh5tRp6J5/HjyGJ7W4iemUP5KgaYAaq32a9PblD0hFKlTeGO6/IS2Ct8zgNStCfc3OcBSvKODDy+R7xj1gfH/MBadyuzn110bqEpeTFQDDzKwAuXi0ehPd++rqzP5/Q4Hus4cpy5KCTFQDFQDByNgdojjjYjhacYKAaKgWJgyEBdWYe0fMhgHUc+ZCIrjWKgGCgGXsBA7REvILVcFgPFQDFQDDyfAbmy0kv9FAPFQDFQDBQDxUAxUAwUA8VAMVAMFANHY6D+YvDzfxVwDI/1G/RjzEOhKAaKgWLgiAzUHnHEWSlMxUAxUAwUAx0DdH2uK2tHy4cM1HHkQyay0igGioFi4AUM1B7xAlLLZTFQDBQDxcDzGagr6/M5PY7HOo4cZy4KSTFQDBQDR2Og9oijzUjhKQaKgWKgGBgyUFfWIS0fMljHkQ+ZyEqjGCgGioEXMFB7xAtILZfFQDFQDBQDz2egrqzP5/Q4Hus4cpy5KCTFQDFQDByNgdojjjYjhacYKAaKgWJgyEBdWYe0fMhgHUc+ZCIrjWKgGCgGXsBA7REvILVcFgPFQDFQDDyfgbqyPp/T43jcdhy5fp++vk7f1yfhvpw3eduo9iRQr3fDLNLj9Dwme9BIGrZ7zeHIHSZDP780SPDPFwq+MZHr92nLbJA3/jmdzycNcV+OGyPe53xuRcW3JdO5h5L8UQa27REPkBMWxtprHmByjymukNje42Om+8xJJGxtTZ9Fq/GnMvDsYngquHJWDNxigE5q8S8G2w4jx7iv0+n8fXnWfWaEp4uokesUNqJrx1g6jvRE8zH3mTvQ9uvEZy2dzOHrt14kDdsba+IOk42ef0CNKN53LduWLk4dtu9JaVvEezzfsqHIr6+/WyhK/nYMpD2Cfxv01dXS3YWdniju7nuKV4xuhLVRbRXp3WSYMrafkcczJ5Gw1br1jFnZ6OPZxbAxbKkVA89hYMOVVS6Qm/YZeh76/e4GVF4BJUp82RTzhve/LE7HESL69ZRuXBM3qm19Q62f5q0Bess7Rn4oGIbB9kbEd5hs9LxP7R4cdxTvtjCoxUvRAyco9LWPEtG+3wFZPoD8LrRl9P4MDPaItgmHYrq7Lu823MTsRu8b1d5kr9nNzNb0Nzl+shJhC5W2zf+RU9qWwW9pHYW5o+D4rXmouHcyQLvT8F1Wu9pcL/RhOfqxoXksqsPdV1Z396C5O6oWMzA4jmyYxAfJ27gWbVR7k2PE1myeyO0dIe8weRDw2PwOHPHGCg5EQCPtp1U4Xz51aHomcqu2vsUrK/pIz002/PfvH2rfcwpjqiCxMXXzUTKdJjo3K8nfZmCwR3ydv/N3Re6uy7sNN83KRu8b1d5kr9nNzNb0Nzl+shJhu2PVOnJKT2boye6OwtxRcDyZ3nL3agboULe+shICKi+/s9IlVm6xPHpuX4MMRzYS8Eo0UR7nJXFgCetHJAzptOb5cr1827VawIj/qwm+vk7nl368eZzR744OjiPp6M34fPVgRl2F2ffZkMnAWpD8XHK+uLcu+YWai7RyvO44oNef1WMbd3weL3jjX7bwSFClEU71cqZXKN+gpsU/yLpLnnScPfAIOZERhW5EBYMJfoBjmG98AJuzFdocUHckW6idLw6/eTBlcKjJSChIXnLMTtLcGV2uNz7AsNyJAB7EUmWMUjqg5dR2LdSCMOxIU+Vx7SQawSZJulA+wN7TBOEY1oVkyNqGwV1pC3HoWL0WAzcYGOwR9AjGiu8LG4tydumIBd1Kl8ZaaxABnn20jUXvkj+413ST6WzEPcZ5bksucjiZOx7WdbTfYECcnfebheCMkWgFA/+sQ66m5nG30BRCylpN5AwFqjzdbSO0CCvKEPYyhJtB9AUwErkNhlEBwKLI5hasQIUJtf8toJqfW6R5nGZiPtHDXidxonyn82BdlVhS1fjzDNBzcvvKqosBPx5WtmQrPySAimujNDhTHhMv2vgU5iGJwipdxBZXH6dBbBWNw3/c6OA4MmKAiNJx5rR1mD+dCx7XTjzQoJ5MiXpDRhdq7dIoyjFSf1haKed4gCO5hS4Ds82UBWoHWrqLqAhDtToPEsxW13RTiBGjJ/Zlmo1p450MVYZtdLHAjCY31Px0IWB1G0EfCV2gTswEerDq5hSl1++TpetpoYbQKTyEoFGUjNxbaKGWkZK9QsWbjnqBAfSl4u4V9Lui6hxEIMu/7tTZdpFroBjIDAz2iPaoUznpQ5+e2CCSTV6XpeQ/FyX2obaDx8UDgnqs5ushBl6orbYPBMfuVso5HhAQE8BVkoEZrUCAnJ9s6QsiDIXtBTxMBdvtRGZhWheXUhOR8xP8+TryIkJ0SG0vFJQEFljNfHsSc3OkbeM6af4DezEEh05ouKvzN4UdBLAh6PY+pOdmFsqpehnCmO9r4+3yBtRxjAVpQqFipa76WCUoZoOq6U9M6HOclBdNtf4wA7TabLiycjXrI3m9XK7655iu37xiaf3GGiVeF8o97b257Icauq2w2hNUXyf581Dev9oNWpFdm2/t9rE/cWR0HGnX+vZ/YQNXCzuA8MTaHkAq1iGq3MZbjcLcF2LzcO47/zyNFmyuxxZR2Z0gwjYaNLGTI3ifWgaEvLgII/UCdC+aZKrOsJ0cdd3gCuNjG6xoeIYZTDaqkWOwSt1bTgBHcBI6fQTIRpqBhGiwEOUwvd+Uj2+/vWmOo6coeZ5aqr1ZH5N0gJjIb3ZAUbeuWQOEffQaKQYCA6M9QsqTilFKFetyUGegGZzH4iYROmq9r9N37TWNiumykEgdd8O8IM/QDjrNDcwdSvnaAHdiUlN84JAnVMfj/KJFnnjLICpheSRJ9IAIyNdKmWQGnZQxTQECOtEV9doCHMdXqW7MYg0jSx0IujceQ+MWVDj3wdQFhiEcuZ53b8WCAMFJ6PQRQj7VKQaMgY1XVqovf+7Th339rX2ubNfjKHNlA2GNGEaG+dmVNacp6BkOJU0ZHEhTTpT2Ak+Qhf3YxuA4otxhzkQVjit1zpUwbSy2BtvkpTWvbhLohloXwGJncLrlIBZTXmWFO1VAQxHQgwk7UBwTmbJ4CWV2SXqgMhKbq1WC4AP9ge0Ss5tvVGPHbpW6N50Aq8FJ6JBT9TTkVuVjb2w6FnVhgCdvopY5w8GmaqI2k1J+FDhJZjlIRNbG4g1FleKCawc8a+1Snjmp8T/GwGCPsNWQK4rrGeuS2vDAMV8oDwRmwahPT4A7XDwgXYVnby30DbUugMUeuJsrY5qdIUCAZls6LBwubF2csCxgrNDuzNQ5IoI2NVVFHYGY3LX1Sz7PcTmLejAEC96GwCOIusS7yLIrDs27zAIhEIbSWCoH6KTdDYTdeQJ7TwhHt7LaASMA9HQnW80qKBwbNqpxmXhGqXvTyXByUz7sUz1NkmKd+l8xQOvA7XdZqWD1YqqVxSP6Py0zUbQyXSr37GfzpiFOTt/eCAKLZodJGhFfilBfQbmP/2kjg+OIzhSmSlThuFLnY8z8mLpOlL3BXKEHUGMXs2Cgx56WyqusYJmMmCkCIjOpNdDtuB1RDg0hDDR7d2w8YQPDYNu9DEOr2E02qrGhW6XuTSfAanASOgrOH1kwE2HiBPZdvDAmeKjlQboWgrGMcLBZ0AiXCTd8fu66svYZCqwU1/B0qAcDu5QH9jX0FxkY7BGwGuqDB3U5LDOSD4saDJndUZ/2Zn+ghv7bzHSi7O22miYkUx09ZndLZfHAL9nwpXuNBV7BQ0TejumKIxLr3JECTYV+A4H6JEOd1tMJixJcczmYnrs8hME35jQ4sBZW1WhhZopAr6zgJlgkhN2OYQ6bgwlsHt4YgiI2dAurocixZrH71ORohH46UNlUDSzRm9jiFId52esE0IUUQscRTpNylWr9aQao5NdXVnqXtD0ardBbTen3zW58MHip3BMv9QpVzjr8CDYM/ebGI/yHla4X+juH+gyLEaxrfbxPHxkcR0Z8EO0+Lj2eCxuNKoG3LMp9Uc7D3s8rbOy7HjuKwtXOlgzZuo1RnVhm3eoMu+7IRcjdOkmTumkrQQ1q5yJXV8sEsxPIQu1RRcf0FWTQVKm9Jtm8myTmgBokgxyDaugEq/F5opsjcJD5AhE0Y5DQQy1zxg1k1wdQnxyxRFLNshBIOkudLMz9kUMd26OrNvX61xkY7BH43PJz/HU+wxZBdRZUuscTOM1FGfvSY4/2tEUV8NXHmajmYe/bAy5uY9/1WByFh9lrlJElPEwF2tRczh05PX3T16ja4k399ueRJos5eRyKxJOinbxOzWEbHphCSizNfTRJIVoVIeZwJZvC3hECVKGJmKhNoimMJh4Si34IbfIRskHd1gZA0Oz0kmzeTZLgiGSzFBZ246SC5+r8WQbohje8stoNURtaelxPOqivut0Eof7dQVXSV1XuSacy7h5jUhNBEoZo6t0fEjAyoWbRx/7EkcFxZEQ+rh7QZv5Un7nWTpsR7bGeEMttvAA7rXM1lOhU20RxYOulhV7CgdjjZUOWiAHeWFPEAGaRtQeiFlkpH9RnQ1iug1fWHmJWV2YpeFUZw2AbwSwwo8lGtT63HU4UdnbCsV1o56Os52n1Fkp3kuBMINJ+itQ5aoEzGtYYYTpZxyao9XTRQV/TiGwCxQJfGOtv7FFZ3/yQxwCcrA7Ummm9FgMdA4M9woq7KfOTAA9DeBpIhRX8cQ4h4hMRnwmQsQst51jzbKMiDMVtf0Yx7FwNJQ24Pru6akMiS2WMx4jBkGWCzxYRGpQxUQ3+F1njogZhg3n0HCxIpARyFJjg4IN8k8Lp1N5bFcSn89n7moU6JAeQOcRi13bywgJKOYzNW5lpmMad9TrCF+wlhDrPgJqRKoop7O0hyIVCXVixaAYjpC+Yms+t26UiiNRtxIZqUrfR35YEyYnSmp1w8i7ckBRUTTX/LgO0oty4sp5OZ/nzRkKTv+/6dTq3P53g1ez/rEwbWypn3uXJ9EI2BZGEJ0C2zq/zt70RnP4lm/57tAPXFuPzGoPjiM+Up+vLk7dYyqybRVthZQ+yUVJ0ifxrMUFqgeZqLqEZprAwUYyCwsrYUtmCyRLJcMFZMw74Wjj3GoSQ22TTNaainR1PGmFBmBJEzNR2KJkNMlRP2E4e0IHp5z0jxlmopUCpu4oFvCcr6sLUWNdnOaUU7aHH8SeBFBuJua3coXPw1ZTMmZoT0GCJcNtbEipXk2XEOfPDolWfAQZD6ECFAUyy2sXAmIHBHqELrRm0erfngsbxEdDiN31okB5Wpfe9xers0DSx5oM9LI5/Z69hNowbYBdpivsmsottMmaq2/IbJ4c9N58erWl3k68KJAYhxCJHIBknMTcnMJhfLANPwkLMlFMIoY9G7UeT0ZjmM+0bG0MACepxGOrGXHi0VOqIHaBKZu3FjePutRFbUlt3V7EA38AJ09JUSKo/YBSSqk4xQDUSr6zH5EQfilDLMhjGjgn/l1Cl48gvoThUWK4Z3KHaDl41dKhZGoBJ+91AYz30qP3a+0j6sxF/Ntoo3xp7RwZqj3jZrD1tr3nHZ5uTD9tqP/Iy5u933IPsR+73XpbFQDHwGANvcmXlZaN7B0ZGw7r4GB0fZl3HkTyho/2HDgRVQ5mpw/Vp6uLvGvZA/PlJ/tmIPxttD/Ole2gGao941fQ8ba95y2e7Hc5gX6Usjr/PvinsV9Vw+S0GDsbAe1xZ2zpC//5qoE+GYVkM4urUcSTVwHDbfMsTQUrsT3TvnyhaKX52mfjZiBTt/uv8nyieSnLMQO0RY14eHn3WXvOzK8nDaYMDQg4/77JAvSlsIL6axcDHMvAeV9aPpf/FidVx5MUEl/tioBgoBt6Ygdoj3njyCnoxUAwUA3+JgbqyfvJs13Hkk2e3cisGioFi4DEGao94jL+yLgaKgWKgGPghBuTKCh/fqGYxUAwUA8VAMVAMFAPFQDFQDBQDxUAxcBgG3uEvBv/QDf7DwtRv0D9sQiudYqAYKAaeyEDtEU8ks1wVA8VAMVAMvI4BujfXlfV1/P6u5zqO/C7/Fb0YKAaKgSMzUHvEkWensBUDxUAxUAwYA3VlNSo+sFHHkQ+c1EqpGCgGioEnMVB7xJOILDfFQDFQDBQDr2Wgrqyv5fd3vddx5Hf5r+jFQDFQDByZgdojjjw7ha0YKAaKgWLAGKgrq1HxgY06jnzgpFZKxUAxUAw8iYHaI55EZLkpBoqBYqAYeC0DdWV9Lb+/672OI7/Lf0UvBoqBYuDIDNQeceTZKWzFQDFQDBQDxsCeK+v1+0Tqp++rmVfj0Ax8+HFECvKnS/Jy/umILy4y5vEzH+vfTe2e6FRd58uLZzy7/5GSvoeNDLT6z2bgpXvEXcUc6mRnZQbbZ1N1MH+CYrrpAAAgAElEQVSc66tPZDv5PxhFAzgfXCGfmtoL8/q48h5U/IcNDa6sNIvppx1nZYl8m7OtJIJ4JYVw7Zax8+XfkxO8Xr7PJ77lM52n0/n78rO3/e44ovkTIOTlHauac/nxw/2/f/8+bpljJt+9HMYl/Lup3ROdquvHq/pHSvoeNsazWqPPYyDvEbJrphK8s0DuKuZQJzsDB9vnkXRAT5xpmqUXwNzJ/wsQPNnlB1fIp6b2wrw+rryf/LQc0B3dXdI/ckOzmH7acZYr5zhXHcG5WLV7DcvND+iSFbl5ZoKXs19WkU0P/APVEI8j8cm/fp9+FMsyXZqXvWjusQkg7nVwr10I/oTOUXA8IZWnuXh/TiiDxZr2NKaCo5fQ9hKnAXZ1Hmcg7hG6B36lIrxzLh8v5hA4dB5P/dgebiR7Q/ys3H4ozE24R8FxE+gPKhQnD5NdFD5M4U87oNvU+MraH5ueeaN7Qp5UbXlnjW4FsJ8AxSSYtbG996UYqOtpoNNZ31e9XtrHqvdfzTrn2wficYRAPTnP7VDWmvdAu8cmoLjXwb12IfgTOkfB8YRUnubi/TmhDPq192kEjR29hLaXOB3jr9G7GYh7RLuynr9ps8K94s65fLyYQ+DQuTvjNzG8kewN8bOS/KEwN+EeBcdNoD+oUJw8THZR+DCFP+3goSvr9dvfSvTLmfyi9ny5+juNLPX+6Ry+D7vHTzPUyyhfWsMNNBCYLtnBSo6FbaztzlGdLpnyTikkR+/FDrPGwPQg9B+91fAYjFgyf9toYeen74uwS3kQs/Cmrvq5xuMIGw5Ow4wLxvExvpzp5KLIw28IFiLiAmyCWftg7fliHH3Hd/XloATmAE1JFmOZfjtbhWE067wFzXg60xgNqITA8xvZWkj5oPBE7XzxyM3EAqOHvU4itL7SWgocGlhIuEEcJI44Xp0M+SweRFU6gocbBTPxT8NQLe2T9ahrMcKgThENItWQ3bAsXT6xAkKlUjhuGLag1miqrKncBAtxJYVwvvCnz5um65F5R8XiQUtlZURlMM0n5OskRPKm+MGgwQ2a6oQGNUrLxe10nLH58A2ynLZq3clA3CPkyipfkvFJwakbTJHXaETRZnlUzDzFYIYBhm0ahB+H1kdUWYvuxaTj0SJsVYroBrzf2RMNd+TC0/JUiSnNhcwaFWLnBuYx7iigQCbQhakM482/x28mEi9oKhqdS3A+dhKhzTaf1YTpaaQREjJyxIGuWZrAFzfBvCd8ViQ3GRDalBljESc1DCrBITXNWokOCZJmfzhp6UFSXkI8qIgCDc2V4DEN6XNwG2Q7lzQAIuUAHo9nQA3JBNv9JuhOXZOiDXMB+Og56acJXUtXZ5tbGABONW8zQCU1fpfVKt3WPqFeageLRHSx+MB83NTq3O2HDKEKmnf1ljIeQD59tztSAysKzRy1cwQJMEcLkUVJHzKTqE/2pZ3EjhrNAyVJON66M4qRrqzGmsYQYIxE8qMhCqAqEkykrLlB1FZ8d8le1E63AxfHkBnC9fuEqsYmwhQbC2EnL9ZGTfCGw+ZVG5GULnGNdEPNlz2mIHbVRwTbeioTMyEgIo49BQ6vERytqif4MDiZ937RqXMVPQU2IJ4cLny2yJmVUpr34GThn30YUorWtgeJGy05hnLHGphPQ7ANHtph2znxxBmiuwUQaLmC7b4aRss3sMRxTGTp6SzqDdXyX0REyBzD5ymEpGoUf3NvmCXwg8MGVsHFXFA1zCirAbVAVDWfwsDkypqeZZygJJKuTmwAFWcZKyvM8mDTUXchcOiEQNZBlRgdJaaeIlv13oLnKzkmtXp49yw+DG+GV7B3Ys7WHxXuKosJGKZP7Zhtl5F6uaHmnHDs2FUft2JNrDgB85Hx9znQYlWbHe4Vq3ogmZKLbXscpERUJ/Avk+2Vd3OKRZXLyQLH4mqLisZDTHvCoR3kAvBRY/2ErqURFT5BGGGMAeBU8zYDdMe558oay43e5iNPrcRE9iXvTWo39YOu1ubSj5SF6sYqac+JXdn0AUKl1rYrHvuxMaIKk2qCdlmi91vZISqQviiFt4z14KhswBwoE+jr6yR/k0mFDGsVqAWl1cj+ltP1crlq5wo38nQcgRxtsjRtJSzt4RRMCSdz6EOTc/Q+oweHSokMkSIcs5Pb5Iu7w/95vJEYMUw0J8MGIGQAyqm5QY1cglXqkmTlBGTBSeiMOAh7By+XcO3AqOAJmu4SdXl0qBXCiTEpanLZyPvUgiwDWejBEXkLJzoYNhUPsgUegABDaHpcbBEGf0pIXRzNLSNscJZNoE9N9cwWAyedjrlGZXDKcujHXMw6N1beRBecthEcoPacbZegTcZQ/ScwkPaIPK8ySTgNqCIASIzTqbjQjMa8n524BLViG8w1QPea/XglzazRwtxthReT6kK47+xw/55o2FrDXXN/v3/3R66Ap0A6hNmoRn7BKnVvOQEcwUnoOHRoIQO12SEbQhJRqPOcpgHYhSaQu2iiW1ZLvrEasnPoZ8AgCuVE45rF3nB9FhAlA4hP6FoaEFIU9+utPnqN3MHA/MoKa4f45VmTGwwXjl0QrcFGomcOcl9sWb7HD9eB36DQjV68IhDC7VoNBkV1QK2lp00Zb11HdrLPBfuYBaKGZSpEiZq6tWkJ/h2Eyh2qog5RNFBTi87TJ4P1QpqOIxoIGVDmIAcKoO6pDSI89s9FWUJxwelADNIGUtgxHA7dWp2NzquzpsjH3noH5lsN3BW1hBS326jGbt0qdW860Swii4FSckkB7EdsyHdDLe+WXc4ynaRtjhGbwtEK0AIx19oABeEt+IQx4M1Cqlsa0JDqub1OrMhvZ2BuMRNGAAP74IGhxetTliyd5zYPigedrGCLG3rJKDnX5i+LOl21N5wTosBni+w4OxFAm3jzxCwuG7lT8YEDKRcQBQQ07nUKWKr5JAbSHhHY5w5PKszP7apzZGmW24PExRzipJUtB7OyQsFkxUOVFB1FDnFcvbfg6QNOfkA3RQRRlpAhABqIQYpotZ3EAwc3/KsjW92my2/jn9OMOqM9kd0OwG10AsQGJ6FTm92I5VsFtagHZFfn2Z46K5Rxg2xh1lblBE9K8wVxswxECJzbG8ONH+2QBUTJeZCei9fSMaoGcy+fAV91OgZoCRq/y4pl0cyEey5lmsHBDxuJnjnIfbFl+R4/XBd2cZBeeFq69GxfO323P38UFs4zjune4wH+wddM28F/hRZia5EaA4E/QZxZsWWYrFaBmgwWFA0X5oPl6TgCECUEI2R7wEoB1D21QQR78Pwpzf44LDiCpiLCkDpmcxcRmDjZcFSFHc4RakEG9KP5JAeqRq/DFFTB7TaqsaFbpe5NJ4o3LKG5o+DSKzknUvTzndQnf4TG/SZsmfklQg84VINA0GQj07eG+/JWtmpzM5voLhMfGEYB79Ck6G6oWGgE60fH6ZWcN0zBDTjh8DPY4CrYx1JciNyBK80jdlQ4zk6knufeVIOcID/uVDRwgNpegMg2B2qe0JtGqdfnMpD2iDT/OuswdUmjoUnTqRDzsNt6yx3o0wHBsDBGz6QGstdsO64xU/cGGXq93YIHbnGzmOab/XFc0IamQqIhZUTH4DWK7/Bvvoa2KvUwG9XY0K1S96YTIDY4CR0Fl17JOTFWmx3WpJNEHAq/0CR5zy6N+OPgPvpWcjUO3cy62Ye4WQaiAG9HOMVKJpNcPEqOz8YWbC3N56nBAXKBQWHW6yYGaCbvubLyFE6WVJHZ4pP7Mnss3+OHK9djoptFrhqB/z6RbgHN9hTGpM4kwOWs762qg7YWEmHqZRpVTEhTP73rf3tKeFEdUbG/KHyTFsHun0aWAfPLDyhjTMeRgJfjNxtyINakQl1NEdtJNheRBB0OfEK45DaAjEf2KIrxIR1Wy32xxeHoYOV8KtvhIqlCF5oxkPAGXAXV0OksZYASPn3TR9ibG+q3P3swc2uenKtNkVrh3Jh3rSsK4l69ZcGtQTKA2u2IjjL6FAfgmprBFUJobQgEhoZlsBWpTHimpCBHdxJhLhy5SXMNfWoCwhuEryKCU44CfWhqbvS68gZ6qNZ5wgFqQy4uIg/AIPiu5isYSHsETiCHo5n5Op/TnoBzFx7lCNGntY1Dn5rDAuifSisHMI9xvIcqixBugC1IfmGLIcga+tBkv96nFuYb7dgHsJHcIkZtu2uLtM+/OgoJ+KC0IAw0V2okS6rQhebQCZAQVEOns5QBWTtqs2szsL0exuzC4zBjXOYaZq2bfDTNcbBPbfCTRboIJLVlOAg9yQWiUBMBxDJeS3PBd31GMsEAKKt5m4H5lZUk9sOlxIzbbYbn0BRao1Wc6Fn55b5Yiny7H64Di98OUQrAgvUpS3jWNDWIamPqkR8OUMDcuuGuzBsADKoY6dX/ktBEQ9HMAzWJPsF6msQgHIiutOE4Eg7TLboE4444lLjqXrqiyL2EcCQK3uXR99WAvKgTmS428DHbc+KyEeeW3CjMHCPAnnlLQaN35IQkwB4G3qjW57HDifMSV8IlfsuGtOh3M+qFEjmfvS/JCZUTrhZpWiCrRI2U980wKe1hVtWFf7JSNY7FbnQk+uxvVoExjgLOgifWVLdhviacYOJCIv9pN6hJjB6CZdjgK4o6K0B4i/DOFtYqlElExR3nQt+xiPMlJg3MjB92hHjJSqNQG2QgEt++oKkJkFTNpzEQ9ojBAyRPMf6mdv0cITKZS5lo7umkY5mJmk40dUft7vcmGEra2VbDhSca7SbVewOeP0ohKUlkmi+UfLDLiw8B7B4fRN2f1NeTQtGAiuiqhVLGa7NL/8ITbP3I223CJ0WCpUUOwX83TaFKuAPz2FUIKeg03oYH9eCGk8ehrzejgmzBlVau4ugTVG1JRxWRliRyeA3HxnDTXAw7btBy/HffDMK6t/kcTvcGDI6mWhsYoIPB+F1WPzLoVLRJs2ci/9MqqiZTr4Upay+UtdSjF0P8J1qmftqpyePDPzejZT/MWHCbX1YSEADLgDZn/rbol3+ZlZ7HCdouNH+s2P/pmdPpbG+5kq6gOn+nfwrI/MwCNeQhY8R6bn8RmeWj44jOa3Sg/2gssUvIVErBJn8MfSGiHIxgCqjuOLlmaHm2hqm3srBunDU0IpXg1+eZMGOUmTcbt1rEAOgPI6XAG9WSVequnAC4ZEVd/gEVzIDbzbUz1YyCBbo1n4n5GcIcD+2RNd1s3I9DIh8+HuuF/AWwUTVONNZdM8LUKMwteJYOGqJRwmL66jpkhU5Chh1s89MOMM4G+CNvfXgEFwlfRgwRqAOBXIaPGI5G/AgBAdp4PxcpF+oKAAoDTjgqYDOiqvEUBkZ7BNDPMdo8hlGb2m55R1SLYsbHeLDp6IxDYZBjCxvAQEjUpzbooQgs3Gdc8bzcB/B+Y09EzI0JJUklxk43KYkKNfBXz7ZffiHMRrVEdequnMzny5IDFccvrebaATejYIFgzGec+rBw6rrUxcJynBDumTok8uPjPdsBbFSNqy7Gb0aYGoXB9GIaJIFAaIhGE5VARXLVZLMEMZ/24S/A5UaDJ04J3BVukovjJwX1vGZsLW2oQgIa5CYGVazXTQzQo5aurJvsSulRBqS8YVF41GNvn44jvcLNkfYoDtUWoqF+Df5xBqpg/ngBbEmfl8WwKPYjW/yUzkYGHt8jNgb6GLXFOrYQfUz6lcgWBj6tEigfvNtt4eC2zmu83o77dI1Pm+6nE/Q8h3VlfR6X+zzVlXUfX6X97gzUsv7uM/gD+NuyCHdWqhp8Q+AHMPypEHVl3Tvdi3VsIdobpfTfmoEPq4QXpUNun38R/oXCeRE/v5DJ4UPWlfW3pqiurL/FfMX9HQZqWf8d3t8tqqyMtDXRz0ccaY47B3Vl3Ts3i3VsIdobpfTfmoGPqgRakeG3iM+bGGLpI9b3j5ru583vKzzRmaA+GPwKZo/gs44jR5iFwlAMFAPFwDEZqD3imPNSqIqBYqAYKAYSA3VlTYR8VLeOIx81nZVMMVAMFANPZaD2iKfSWc6KgWKgGCgGXsWAXFnppX6KgWKgGCgGioFioBgoBoqBYqAYKAaKgaMxUB8MftUvBH7bb/0G/bdnoOIXA8VAMXBcBmqPOO7cFLJioBgoBooBYICuz3VlBUI+qlnHkY+azkqmGCgGioGnMlB7xFPpLGfFQDFQDBQDr2KgrqyvYvYIfus4coRZKAzFQDFQDByTgdojjjkvhaoYKAaKgWIgMVBX1kTIR3XrOPJR01nJFAPFQDHwVAZqj3gqneWsGCgGioFi4FUM1JX1VcwewW8dR44wC4WhGCgGioFjMlB7xDHnpVAVA8VAMVAMJAbqypoI+ahuHUc+ajormWKgGCgGnspA7RFPpbOcFQPFQDFQDLyKgT1X1uv3idRP39dXofk5v5fzS1J5kdt7eanjyL9//2hOjlqzu7CBMj+KN5LaonNHYT3qFrLYER2sHgWwI+o2VcDWG+xDC672GfaBHx55OQBI9jZYUN4CbIvO7aBP1AD8W7z+HP5te8Tz8ewkZEoa+NkCcovONNZdghsRCf/5sskze3rJuWVT+Fco3SDnmSEPxh7UbZ/lihYwXKn1Tl8w8nIAkOwO+PNn6uWAd6As1bsYGF5Zr5fziW+nvDyezpd2R+XpluM/tmeBt+jMbF89TkU9vsk0ydZdJOGcu02K4+6zGeuOIxKAcj/sNW5Mzf2jNCc3bnf3O3/Qchc2UOZ5vJHUFp074D/qFrLYER2sHgWwI+o2VcDWG+xDC672GfaBHx55OQBI9jZYUN4CbIvO7aBP1AD8W7z+HP5te8Tz8ewkZEoa+NkCcovONNZdghsRCf+mKyv72aR5F8zfMbpBzvNAHY49qNs+yxUtYLhS652+YOTlACDZHfDnz9TLAe9AWap3MUB3l/iP3PCk8p3G/9cWSpHwSRnbs8BbdGa2rx6noh7fZJpk2y7SoZy77VRHA89mLB5H2Lvdc67fJ2uPsPzoGPH2KjSv9P0oSbuw7VJ+FNnL7O/L4j6rlyURHAdsoRPUtnQes94S4UA6u5LdpXygJBXKYfH/1h7xLEKe5Ucn6sWvHVwa2HQR7SxfjPQl7n8tiV8LPKMxAAqdmYWM79G94er44vuSJatNz9R+Au4DtD9OWcwY6K6s+dZ0vXyfT/2VdebvXcap8sa3pCa5s+Lnbn+FmHgcOfDT9kpor/T96KzuwrZL+VFkL7O/L4v7rF6WRHAcsIVOUNvSecx6S4QD6exKdpfygZJUKIfF/1t7xLMIeZYfnagXv3ZwaWDT8bqzfDHSl7j/tSR+LfCMxgAodGYWMr5H94ar44vvS5asNj1T+wm4D9D+OGUxY2B2Zf3STwODId5msc0q1++zfpZYP0kcdFrnfKEPHVNQujCe4VuxMC7i0dtu4SPLwcMt//8gwOl8+d54ZX3ULdDypbz8C8S0L1u263MQ3AoNCc0Y648joyeZA8ETjk/l5UzTILgojOstRFQRYBPMWr7nC0Xh3xq0qdAUdNbB3ENCMcqXVM0sKolzDmzp8GDQM9HCG+mcLw4nvhns4+kXIBxM0EUTlzQSolRSBL+GOKMFQ1BXAuOXeJdZoHWDbDEj49zLMHaSA+YcF0KBiCJRV+GgKLenAG7nRa56cwvsDK+gGh6za6ibtUkHVBqf96Vp8Rxn8hiKktT7ZBssoMomJCMHneET7fKIx2BSluY91mcgxx25OoLBdlppLDLqUHuWeFqnEkSFRR7sJ6Uw9TwtYPXaFMAdcIL4SR8RaJLME5gnGxSPKG0wtu0RHF/jUpw+a0Ooag31YvvwpWqSoBEljVEWmDS2X10YyK5OEGQOYkNlDLVSato02JOZMo+WHgbHdRQisxfSUZmS4kUz8iCzAXv04K+XwFzEx5pKZTjpGMreL0jo0uPoONsTMCMKwKCJsBgDOxdg1afwNU+f/PVILEoKAIAwWWubXa4K9wNPfzwzmBObMs+pmZt38KblqisaiEi9T63x6K7HyzJpgc6QUpdD0PT0u3dYD2Uq8cV9USJAM9N1vgTW1BAZozHjxypSNdF94hJnClNGDOqmXp/MAJE//WDwiS5ZvlrJHPL0YTsXqk5+0MEC0EfFC60Vzun8faE3dUUei5oSx/pSJ1Ima/9Dy7CSG68S4xluB3AlJ5FQT4BzvGczFo8jGgo3MEqbo8LTRuCU+wEbG0SNbnfJXtRO58LF/cqEEK7f8i6/TZGUgjlMGXA08R4YRYH4kETbLisBIh9sZCsiAmthDYV/0jo64J5qIYSALSdnM+DpY2xshwAESoKhDscdZhHAshpOTIDVOtvcTskB8xBaHu8NRIGHVEsoCc5JEDY1yYvHTSI9VZx6G0BV2AzIOhQFvfRscshRrUZDQSaK0hvhTI9CKI3eiQIlibbH9daI9spgX2qymAUSmVoCh1GBGRweg0kajv01xX8jBa8sxBUI42kAmJYtWeg0xmJBX6GU8cGKAsJ50odfKq/NWHLm0/jv379tewSnoxPJqA239DQNjJUKo6tGdRjzCGpGVXwgDlAYEfSc/EBd7OiUexEE9iD3wUIS4wNpUbAAFhXBQ+PaUUUggkUnXLs6matJH6cfLb06ubKiMFSdipA0L4wIGnVYws63xYqeMjnsyLnCQJHgWMGot6YFkbJHX0nQCasFfuiILBmiYlqGF/OOVth2knG0Tfw2SrOdTmU+jQY9nAcSaHJ7KhAdxukJPIQObCvdTCV/nj2CrfYTGaCqjldWvsPYtZHk+u4gT6M8LthupWrP0fUih+agIx11duWSU5sm1OluIu2FZK8Xv0NfwzulS/8DhHzj9QfFowgwCf+AWzHVGJKxdjX/9neuZDSYLEM3oXI0YywdRyhJ9arU65C6SnsjeVbIZA59aDJ73ucY4FCXFBkiRVhtktvki7s3/4cRHUczgz6p/d/elZ250qvAE5cDcjwTjZOZl5vJfz8QS4GWbu9uD+fhjCSgKEqol1m9GjJElpIH0bhi8JqiOccO12N81HHz+KAyLGMwjGNRC/9xFYTkFsAFpDBElxiM3bGHVdB5b3NFdeYEogVJQzVpeT5dUMWqIzlOlDAheay4c8ZAHPdhYKWh72Z0TbYU5edCKYJDLl+ANdUcWbHkY8ABfHQbL+MqjAmwZx7rXhxhQnK5ABcJxXFXgsdjJ2SsPAdBnD/QAX9YbVFuQzL8HAmv1xDmAbEWmu27R2BpYZykTtOcGOZpCCoODhHThggoA1dh/ILG2Cl+lAsotiJoAYrv7FZqsqQ4FG0nsQUCc0ZaxoIGiC8GwlL/RDTUn21o3AE7FqoDDWzbJPnsyKXl9GAJaz7NWdATx6hCRzc4Ls5X8ptPyQJCYucwEbABCAxBEVjNxQpVTZWyQiDA0TDgTNyCjyuGufyq2hUopsQI3QgfAZxiJpTn7lmj5ygwfGVtqfinWPnNTt5auE/mY+h0AcA/iiPB7kR7ba9DMoGvso4bhr+9V78K27iJ4xK/M/LRtOxB2kZFm7+LRNqdMcAKkChoH0wBt1utAtjmHTqm1kxrxQaPI2FrGhdOZLTw5LYxmPB6QnTGpmyhnLQmdQ7MYA0ENSTskExEHxNWyORqMDPTV7UjjQlap4Az7RLNeDFDztqFOFqsUNkoV7ais487TENyn0UVuKPNLWyqgflgF+wuVtnJkbMlbKK73V0XQsUmpXrBmgmBCd1CTJPMPWlk//jkZNQA5YEdKpoCTwa0HDoYnzsE0bhZv5EvnvWkTjIjMn6STPgoUHTzBtsiAyp1AhoKgs/phXhy66pkQGWkgprXFDkAJ7WMIw3IUVVHNBq39S45s5AYD5fvrrichRyCtUPut1tksO8eAZrv78bmqdut1QK/HQUiVVVC9WKbC4XE2BUzG072BycwhXhaty03INy7pfgAixQFiKxjDpCJhgHGdtRa8uquUDWHCIlVpDIyArtsRi3BrWHCQo5LRSczBJoYoTF6zmBOYOwLiCOz44Fj4pimWHkyxe1MiLjZGSMEYhyOu3aBqGv2HTE1DlREnpwBGpnlgngaghks+pqKjaie0Y0xVUh10UVwTblafzR/99J6MK1cczvNNUcouC0qTJDF/Wv0aAVov7qvsmIS2mK5YMvm8N7gGFwwUi8kbS8lwPusRclG67639gk/5AqQ0av56v1+id8Z+XzpMwFkkKPud6guEml3xgArsghN+6AKSDCvp7WHKTZ9HNE6OTEzUQrpYkdFgCkf/qEp47G+AARDlZ6WpBV0iT7SMv3DNM3OOTwCUsKwuQZssrYwZDFHaxwgv6N1iYT5bF2vzADGBXoVAmAfUvmeGq+c83TZHxKDieObzGOpjY4MIJb5D2F3scpOjpwtQSh3W+yOXn20MmAJBSFU6vw4zYQwEMeBKCcKVkhNw4waojEQx5EYwbi1A8SE5AYyeJQ60Qr0gDsMYQEOhpFPq9A7PAA5vhLAj2QdktlXL4Jv0Gt5IBfSkE1alDCUNBSaNOnh+yvS3j1lgSlcfx6AEhOjVDPnTJI2HvvuEcAH9TdY16fzBH2w4X2DOq2iQHmWqnAcJDbHzP5AD0wcv9EY/s66Fh9gkaLURdYxh1R4gEElkx9Nif5WV8wlkksKsAophoFQBgw5Dv1jEdvXLsCCIcF2SLwyPcXRHSlZbZAAhmb2QcTKTMCa04ApRqGB8/hCxgiB7tYJgqYgVwfohTUQ2PcEIjggsjsMYckscDCkhB7YWtkvIAEI3IBmcNF1SABDtoK/A8KiQujHhcnj1Zk/0jLIEmw1eagCJHN4ZaU/yeo/wUrf5GtbwRuJn4eIY33noBj+xUro3/rS+td6v3Uqb7g37azC1hf6k43Dbwz24ybO/BuehAky5KpGKaX5BEgib4EN5eeS1HiWb8FuCXQVSY9T71Ns9TjCuRo4gXkavJqEMdVArqIaDLk6n9MIAWMcY0C6BDtUKg6Vm4IAACAASURBVLl3N2woBikmXjQlTyoAvoNuiZbZepVdImUOLrqkH7Mpz9XPP0Jl6AxjGHoYjdBAYxDRTapHDF3NPHZ1h0OvgIYGGg9ZBe6jWvTkThH21YVkkmJpOk0Ude6I9wuoRsofnNGG40QsTpMj5mLwsdrgNu43gsWdiknnyIDGOcJ8xbUxAnd0hjEMoYhr6GknxXCfAQdeDHNKP5Y0E8vzmCBfkUJTzUMJhPicfujHThoRmrdfoALEYjakPPrGYPOGWpEEjpPUaZo8sb/BBENLvR5sE5tiooHGoJKbRNQ1ib3iO2xSh+GnHHLyABMaJHvuJJYAA0piFWy8i6hbKivj4hzHDAoLNNyAHW4WkoPGwOVOrutyRSjsYrJACXlKpgnnEBUmCSTbcD4bL1lhUKqMa5kQdlcQGbBoiMUmDmQeIgMapwhzwPf8TXJEG+TC6zqgjIeITWPwSqa5pXuMTJE1fYwC+ZWV+4Vf5/C/tv1i4wmOpYO6gOAjE29a2nt9/WljAODX5q5CwQA/Q2j9gocC8QcMGQTbWrMJFyG6pL0F25VlZxrIiVOv6jJ1Bz1ULLyy4kuayIVFihZIR86useaTbFcK8RQMnunuNuo6E5lsSq42abJzgK/Z89f06hHSRSaBpZhwo1mHH/ytMCGiTZxhYktTRWPWOiFJZRzXuXz1Yj5S6IBbU2NSPqbGcUznNNCHxq4v1yiUyBL+KVV00sNBH/fBtg4zrDErZC48NIKnY6H2ERA8L02RZ7Wk0tJ0g6qBsx8oHeTC1G18RZmWIm7BgqfslgZSLmDmMu7oNy4LopF34zNE5uotjIOcgxNAXXaQwUDcF35/k2rRh8YLet4ifrSBEUVbOE/idIwcKpco3QgA5+HgihTaJtYYrif6dnJqX1slOEKjz4Q6r4mkjcbOewSVoPxxnNovTaNcPFNaCLIuUOSaVIE4OI6Y4+sP+SufyJws4Z/WLmT0A2U5LcVPp5VpQU7eaJhjCZqkfcyWWOD1XdE+22GbKp0jf8QhKROZxKcHEc6FFO2kKJ5ZgcPyVVs2Ok44Qk1Gw0FVJ40ROQ/V25srQoWzGduGHDET7pHIosWiWxMUigsgHIhqjk9iAIw0FqyEMbICHo45EdkdpJ32SgqBNLQwnsSpcsNd2G4Vx+zwFRB3J+kQTX71yDs1kQWp1vixCtBlOXyV9T/+EVb7cdET/RZf+aXBrU3aNQ7HxAj/+ox+X2/wkYkfh9ab0j3SqOEmYV0MFcMfdjmdf/j3LwnCGp/v7PY7pejLyJxRexcytOuknZk7YVGWVhwJINWKFpKCypVho7VOvUux8Dii1xQROdSuHPhiSBO1UprJLz1fmEjPQFDhWOgWiJqje1MFo71nMMYpE8OI6Tb5bftdfr/qN0yPyGgROdxL5HlRuxaTIJ6JyancMuImFQ7Lp0XNgeMZDfShMegIJuIDFqbHWXyEssd74RyWYrxUJ54EdJdOjakJyDMasAcThYOF0VQ9Kwj8aW053cVn3MldXiOAIiUFkAyOt3gG2a1hJAoUQUwa6z9zQQdVR50Qt+lmYUlGl210skbKbJJJxDCD4aEPjcf0KBQsjGQQtkmYIF5q5sih/dPOGrAOCAaOiIoNTJBC1F47yJ0bGpTVdkS3Lhi6X780S0SgmgLH624kz8XtQwGDWFkJFWlSBZLBccK0VOjT6FkCMJEMIBSrYhAWYDncRBih29JxgCoa/pwDpullJutss9y2JLZASKwSFZq2QqWpPI1dZ5xbMHqcl48OW7DGhBw1EINg18x3rJ5TGZ6+CVCPhUw6a5CBJshZxxLFYo5k2QWypJFvbY4YjxuBQOGISWP9Zy7osKcrbEtCILLpL7CgkoVv5pJLbiMMCCHv8gQhKQDwrvGd6mQJPGvyUAVI7PjK+lD4fWDtMHhbyJ9utXOxD+Uvee1ULL2y3qAQJZrsw8J0Q6IKeYsCfF0OG2wrtL9+Jt/C7vakVoVB9CtmqsHfVKBviX7l65W5/x6xkOig94i+DfqVRdV/3HTQTf/ju/ZHyj/0U80f2aN1mR/0yqqfqtCP4UF6XcWfs9LB6/91it3/OLK4/SxMf24/DlswP4rhJyW4s6iRjr2987oOu1VF/NEKVJOM/8jN43Q+6EWkGuOeFjjopt9TcsUeRAE+2d1z8kHIF01SgN573v5VVvr6/Ln9gdL2HgbfjVzbNFZgl2L1yjoWr1ZBgfZ8Zp8AaV9YpcWDX9mHdUHdNSwF4rdWHvi7Cm7fyvvvEYvcx317qavHYlvXpuNu+rqush5aAT3RB3+sOfQePIL8h7yyPqKUwugUeOrjSJetFkqBUqAUKAWOpEDdI460W8W1FCgFSoE/rEC9sn7z5tfjyDfvbtVWCpQCpcB9CtQ94j79KroUKAVKgVLgRQrIK6t9W2ANSoFSoBQoBUqBUqAUKAVKgVKgFCgFSoEPUuADfpb1RS/ofy1NfQb9r+141VsKlAKlwH4F6h6xX6vyLAVKgVKgFHijAvTmXK+sb9yAp6aux5GnylvgpUApUAocWoG6Rxx6+4p8KVAKlAJ/R4F6Zf3mva7HkW/e3aqtFCgFSoH7FKh7xH36VXQpUAqUAqXAixSoV9YXCf2WNPU48hbZK2kpUAqUAodQoO4Rh9imIlkKlAKlQClQr6zf3AP1OPLNu1u1lQKlQClwnwJ1j7hPv4ouBUqBUqAUeJEC9cr6IqHfkqYeR94ieyUtBUqBUuAQCtQ94hDbVCRLgVKgFCgF/vIr6+/Pico/X762DXY+jlzO//6dfn5JBtZExl8ry77C/qYUf7PqfR3x6V4P2zu4IPyH448S4GOJfZRKm2Sec494WCtu8v+zDtD/n6I2URo/Tu1iOA/HTd4FhQE1LgVKga9RYPDKShcO+de/u1zO/JpH9vG16QOV+b2cT8b6dDpf+OVMXs8eUgdfRe2173Mk6B5HhChvr2/uB978PkDDv3lr/JtVf0C7PYDCw/YOLgj1yvqAjflkiOfcIx7Wip8s3Xu5wSH9FLWJ0vixcBfDeTgqvQsKA2pcCpQCX6MAvbykP3JDFw795681rWK0ja9Nn6YMX+C0HPkozMX0gDoEKav1di3i40i81v/+nJQv7aqO3845EPhcZoFmTUqBb1IAjx2OH1/jHeh3hD6+juMiHv4ecb/0x+yk61hf532jppTkjsepO8NvJF1hpUApcBwF6CVu+Mp6ki9M4hVI38yaCS0fW7BSbt/2+t9/v5ef80mYi+0QddwmcHwcmd61pobbsj4w6nOZPbDIgioFPksBPHY4fjzLO9DvCH18HcdFPPw94n7pj9lJ17G+zvtGTSnJHY9Td4bfSLrCSoFS4DgKzF9Zf37aV1v9EqSveD/dz4D+/vj3C/s33rYfjPx3vtB35soXONnq89NZ3yVZsvAtvP9O5x/9Hl7+9rR/p5+LIJ3PmZwky1dM4Uwkuk2xeug1tvFDPpEMsVEIurQimYsgta9Utkmq2mLprVmziSbP+xJn/ziS9WFR8HaGY/3ZVt07KKJtyMCggs++c7zdllhBqFvmjKdf78U11vtXvpfbOzJ812KP3FackSJjJ3AWQPzPMcmEIeyaSmZwCE8xaHYew01AUszhrG2lxbvmyOq/xlh4BcLRglmJZo8/bIaJm31fvSYebPgiC6UCQQbBqscGCJn1n8qCqhMM+ahN88KeSaZxIsMHAMXMeSVVr9gMZK5AIyNxp3YtDpTJlCilQgE8RKqwqXFyeyh4TgSw/a6hUQGyWpZIqutVRAOiYD+fL5kY1FXD/Qo86R6Bu0Pj/lAIRWyZ1gqDbkUn64gGS//bFTL1tLlyLvGMScIiHik0IA5QGRBtLTotFjvYkzEkgFFqSJnNIhx64Rivqw0US3GptgqxFsr5Q7JwTybLpPZRUNsJL3URbmTS5XwdAiXmLBToWoz3pSUVz9g2ZAJ02Lw51MxfaxvXYumhIyjC1rGKttxvgTknEKCULuaNjMTtvQExHGhB4ZYRcoFLqMNuDSwJBEinaJyVE2tXIevjNytAvTD+KuvPr7RM7JPTZF2aqn2QNu17LnjJRPHH3mLFJuXDJQsarNcPm+umASr/GKu+dsZLDvIaZ2SPscmuEK1syDiFpbdxf1H2Y62sH/QxPo6oRl06vLLgmCvBSw7uqymNXinafLyevG/hlqebYjkRjzA4F6CivUeOK+jrfNolcwiJATExlBwNl/O/08m+4VpvIJQtgUFC4GLDnjm1kgQhVFIEiHFKEzL59fjmiehzt1A2uw0qmoc3PbQgvQEbB9NBLVfWHtiR9JNNwTx67wSRb9M8RaWp15hU46lZo3Rd48cCrQyKEggY0t6Pd8fSDdpDbQiUDwuzVMeGgTMZk/722a7EPKBTHdHOMw3mbFIIG6xYE6AGVyvwpHsEbixv3PAIh93G/cUyQhNQg3hfweGiiAAX+/FBTYhlTY8VsEL/Ob3I+4rrFR4NUEWXgWEgcuX9aDc93sHhRuf7Hxzd2YZmxtYSaFhkfHLbIAvXOUqFFMb+VtTwTnd1I8l9NWzBDGR9MY/C5qOVWlmriNWHh55x+fNTGaCYDF757XaGCiuL+vjVClA/z15ZW1/qxaX1MF0MuU30VMjELpLuJm1OnwhpX+MU1zyHSy1+0kS9m7nBUlJ955QVad44i1uGXwN2Nj09wfBSLr+a7Ld9yTlSdTJBBCMuVQfYZtQT10w6i6wfMUuPIwSp7HRbaY1oaNUwJlddRjbkEjh7jI8wAMfkEaIXaJEZoTB7yI35OmSua+IMlGKZQAfAYbVFug0p8a0LLsMQ5gGQejpM3vMpZMjEEjjyXCmDuRI6mKIFDJg1OmGbBTJOPDSGIM1BkgW7BfEXm4JkkR6tp5pgusi7iEqYyBAqVQUoh47ZHPzDRKITPvAFh/kwQGIwjINPgwKeZB1dLlLOCALo7EdzOLK4DSPXHflS+pomBZ5zjwgHIW0qbGS0gAFITvuK3EOzRLT+DDvow5rQIXWUSEBNyYK9jXxuuV6lLINjAR7MNM+V/vDjXnqpQswB4+WGwuGHkMAK12k8DllmwRhuVcDAfQl54+MHsjC3RAehhv4WSIPkMZ8usuwHwT0VGoSryuCYzcE/TLyIvAwlwND90wjDyd83xaPjeq9agqzp1ymwfGXV9xv/yipfC7mztKGohQb/uNuCo75waKB0mx4SwfEubUc4msOlGNFbdDDnreKfYhWmzREB2DuhpO8M9vfp5GfvgXtgJRa+yrpknau4bj54HGkAsXTipCx8zD64H5JbYtOmS7waFa7jS/gIqgERTsOdDfCGcLRn5NZAE2fkRRQwoYY4+JKkh8vniy9nqTAwUgzNhAy6sadm03SqoGP19Py6FUvTcbrsY65QQLincmJFILewqVLPPDxZRkWqJsmVpk3CZe1kNDcajDdFk9BHRx7Rcesyr7utQTib6qcsIJiG0QyKw1BD20cAsL1f9FtXiWZEHBj3pEC1KSm/8Pd9mEXvGHEIl9DhA7GoQs2uUeAp9wjoCzlZ2lrxoIVNpQ1NTa+9A9FeW27HRfNQUGc20NRJnaM3oaNMj1Vi5dibsA1yeRPx4nuFlZHm0XmLcR6CMXbDBDAm5x30prUjW05s2kOSfE3sKIsvrk8z7s7S9wVut2+4XbyU+kBAXTJfhFJj3BeoH+uKx4Sc3KpAwyzuxsjzKVm0FCUB3r2Z07YIGGoof8zrgGcyp/K7YoRTgCKcRrZzR4UDl5p8qQK049OvsspBoXZpP34JDav9zt0UDw/N2FP6S5rQTr/NJZbnOBatcamNY7sL/OnHB5u7hJiZHl8Vlg/Ekr8jEwgsYe3kNsngB2Q3qd/gMH0c0Z1tW0H1qLQ+5jpsrzz7bN09REhtETC0Ky+CrtGcTQPJ3minMSJ3udA5cCLUVn/AcP+cNkTzllK4focTeRORACYhtGbnI8LgzFPz6nS6IsY23VY5fKpPoob4eawh4a6Z2jjprpVMswxpJ+/bQDTqqk1pQVh4LJbsbh2S17zuxivT6RCEvEVuGCq0URjGjtLpKdfrsSHRgFEW7aEmL2GY14gOrVuJrCahNgVJ/UvuTkyC68MtCjzlHhF3x3qk8YON4/1uV8TZVXHeEgm2dTRcrlANRtGWzs0EhChmntEQKWJCOLFy7DUsWYnfnptIJ+PgLGSGzsOKoEF2C0aY7KNHaLABmNPHcx0W4UAlFDsN2Z1lud2MMmsb5kQErBPmSY1/8LdVg/JcocxwuVtmIfybQUBNGBpLxZ4SyAYNMITUb+zvbDGcx01ak3ff2fRkNfpGBagdVq+s1mPQN9JN7dokE+87UCk4ar/BRY06Wh+ntEUNSBdamuZqxpZEXRgFD6pzoD/JerZv8P29tN8c1a6rmZ7U2pJIQrkAj74xGMgIUlvZhoVIZ/qM0epxhGm6uMoJrjIwDORm68FpdiegYBG1+S/ROmMKR3syyVUecqFzz5UEgO/pDTcJ7gxVKIbSjKQ8/fzaF/Jo3n7AGbJ7GCjvi3GUqM6nyQIoOUuYUxhwQ5Q8HroR2FwPZTHPQhYkENXWeP64BpmTEIp7NyU+ZPd8QBYYBqY0Sbb5lCwLBcgMyrc8DY2uYZOyUzphF3ZeGefFMEccGNMwsUrWAa8ArDcBKw3imVmeK91e2iw1eNbwCgWec48Iu0ObajuOZ4R6Y9Aykf20JRIsAkeE/i00NmXOkOcZrc0jhvkkVoAFQ/P2gWhx2/VqDI0Mxx6cHt2cTxrtokdJhhsd9mZKZRGObDB+HoJeGM2dCSQDteC41Tbm7AJOk5ovDdw/LKfg+TRZbgfBzUpXWMoRVKIsLfHGDQiixkStfBtIBTCn4fDKMIYMEtTkqxWgt73lKyu3aXsn1F7kzvKGpibK/5prcmxH1QMVWnBHONa2zdg1McQou7BdwiDRE5hMT/g06zBSAjsy4hwinQ+6A+FGit+oA+cHTsLjSHgfa4xBeSlNrkrtZ3jZSQ20ezKO63wlaxa739rlTX8Y2IoiAVwaWp6iqQ3d0Vm0VII9clqhqTobHxmwOD/4e2L0Aj2SAkrmeGJFfxVKmRIafWOCztnfJsgDx8ApLS+mKAgB+C5TkDHgSZwan1gp5qLx2E3w/GCNhJ2Hy6XAsRnPp0kKMJCj5prXTvHbmwJZ+obFRMm6yLuIGoGAulEBmkHVwpR9/AcUIv+Av30SQz4B1ow0VZFxzIUDr4CRDrJdLoITT6A0RtS0umuWu5WETDS54KipU6IW9irwpHsEbZDuDo1hj8Ek27i+jMTjZn3FtyqA1duFZg3Nw4nUWbLqtDWuzVY428cqs4Ji0wHBa7V2/vomErcUkX08Y5gO2szNgWKyfZdTigYdEQzHOzcUQ5ANrtN4knFnltV282YaPuWyW+pEwJgUtnjiP6srXMzZCaueZom38h0gVlyL9GkSVniKBHaykT6NkZj4tuM4Lp9ddPvEX6aayS4NeqwxBaX0B55MpuZfqQB1xPqV9T/5myzaMtKXeKXof+iz9R13FzjmeWxS+aOp3qPw53LatWNwUqyztfHzLvGPsOqf2Pl3wj+ck+mkJPDHaE7n9mcmRIOW1AVpJ1Vv0WtYI2x12lUwU79/Hh5HbONaZqBPnHSKY70GCVV1IV5S5BBKKxtuCeF3hhmaXHMZUIPcV37EWmn1yGkllRblJaOrwLbk74mzo8qhTOTyH+tsCZo2Wku4xCOflHo9nRJDQ/ujIJqYAHWcbmyYa+5G0ADAmbx8KWUebvpqr1j/oQrmBZmQ3qIPKbSV76woNJQdcyXk9RSlRe7rqGSVC45o4ERlR6BqZZpL0nX5iPg01n8DJNOn+fTtoXQQk9IgLlbOFFAWBdCNGCVCPCOJIDGDW9LZTzrUdL8CT7pHYNvQ2Ha3dZA0B20oWHh/vW+8CN94uEYn2OaNnqF50BC7/aomxPYH5k41saIpVIQscJ3im82dW6phEnJH5DweHfwGZ1dAm9qKUnAGXpXagHMDCPRoCRZoqmA4NrBGU124okk4MkGoRcadWRrydF/QENuGUus/YH3fo5FpEfc3bXcqzUTu3VCr3rq4mCdhVf/co7puH12vdIkey+Xu1DmQlAygKvupOBiEtRuJGnyxAnTm0ivroarV7oXu/mT+7dzq0aPLEr9NP4t9ehz5ZGX+JjfqB++Gw2jApy40bb9ymGKORJRlPmDDHEnjP8b1jfeI/qLRr/yx3XhzuQe9H71ZtT+U/kU3oP460K/8IdWrVFDg4K+s3Mj4aUIo7ROH7ZVVPzenH8PD/yNpv/Fx5JFlfC0WtcPTNv+JqrVjB8y5r2H+xNx/Gbru2395959T+xvvEXUZec6W3ox61PvRzQVX4HUKvOoGVFeG6/blL3kf+5W1dfa/08/lMHtGfyTWvk+Z/kTtj/2l2cfX8MbHkccX83WI1L2Hfc2To6efdamv/L2gPesTAy8Q+a+leO89oi4jn9Nvh74ffY6MX8zklTegujJ8cSPdU9qxX1nvqfwvxL73ceQvKFw1lgKlQClwXAXqHnHcvSvmpUApUAr8KQXqlfWbt7seR755d6u2UqAUKAXuU6DuEffpV9GlQClQCpQCL1JAXln1+/vqYylQCpQCpUApUAqUAqVAKVAKlAKlQCnwSQoc+TcGv+jN/qBp6jPoB924ol0KlAKlwAsUqHvEC0SuFKVAKVAKlAL3K0CvzvXKer+On4lQjyOfuS/FqhQoBUqBT1Cg7hGfsAvFoRQoBUqBUmBTgXpl3ZTowA71OHLgzSvqpUApUAo8WYG6RzxZ4IIvBUqBUqAUeIwC9cr6GB0/E6UeRz5zX4pVKVAKlAKfoEDdIz5hF4pDKVAKlAKlwKYC9cq6KdGBHepx5MCbV9RLgVKgFHiyAnWPeLLABV8KlAKlQCnwGAXqlfUxOn4mSj2OfOa+FKtSoBQoBT5BgbpHfMIuFIdSoBQoBUqBTQVe/Mr6+3OijOfLJrGDOEhBp5/fTyT8oMcRLlJLvJz//dPxjppD7A7/J7oQ80/pvHtluXIXnqjqFvS9lW7ho/2Tdhh5/bHx5zfnoxlSk19xUfykfnjQPeKTSnooF2wVHO9I8vhL35UEdnAsl09SYLa/sB6aitaf8kgTsnySQsXlrysweGWlYyD/+rvw5czvnGS/5ajwSbgt9Ek7JYz6Svfl2wj/vfycT6bYv9Pp/HN54cttehwRsrq7u189OU4VgqvnHolC7J6A5/k87fp+A+V7ZblyF25g+KiQeyvdz4MyaZfujyrPhyvw+c35eIafdHG5akMn94jhQaIi/+2+bVxF42OdsVVwvIPw4y99VxLYwbFcPkmB2f7CemgqWr/lOXyz5pBl07scSoGXKUB3oPRHbugY6L9840LbjqMi7u7JJ+FJp2yfZpmSMMqF7gP7779VOLzeq5788dZcezm53+hxxDeDpbiaDEVZUJh43o8Yddxowat/LceOzJ3pH413Jx0IfxszOorWmECohq9W4IoWuML1kVXcm3YQT0vvurrcI83oHkG3qf4oyb1uZNpLYKDb3tB3+SFlHL+Fz9sJSNWfwuOZm/COGmc5V+tHvOg8c98K+7sVoJvT8JX1JF8cxAOh72fNhJaJSHTSwtdjBWFH6ATx7uWO0n2IKkn/jcGS6N/prF9X/b20b4u+555/HdvR4whoz+T7R5N1jnD1DJN13MutHTdagOpfSqgjc2f2R+PdSQfC38WMmvnaXgbaNXycAle0wBWuj+P333/3ph3F09q7Li93aDO8R/zQnSoV0w7YD37G8uq0I92uBnltAFLG8WtZSLa3E/gwHs/chHdoPcu5Wk/H9JmSFHYp8HYF5q+sP3RzGr5v8v3M72i/F/ze13+nc3t9k5c5xjAgWTz/0DfMNpP6ixS/ZvgHb3vy1czzhZIJJL8L+hxxrqAkjPxhFwjg2+awxsVXWeki03+uWkVp6dqMirKisYr/CN7KRTUY/PRzETHoojUsefg44j9HzPn1ihcm/8WnOrxi2lgqlN2Yvi6Yv2CeLyrC9NWdQno3y+d7RT1jy0REiwmLmmcMa0cQYyDFOMqcwfNqMhDrmijbxsvyYHVpd6wCGSCWS0LGy5m2CeyqV58MuDUFhImuD4mFRS2EFjWK8kB62DGhN9j3xg2iIulmbqjRgmyQgETYB4CWZo445jgcQLSG8ZJO0mYRqd29PUx4HcJcBLTYwRG2PcMhFVh0tPOFxig4SIQ77iEsO0Y04EW7UmxLhBfZSSJDs+0FhqvNSt3aGM5oZyAQ55OH43tEX4xIBsp1Zw5teMzbUZjpZuKQQ994Fhb7w5YHF8YehHLkkggBMFeA6mYh7AwnPN4uQ0UY2xOzrOq2vkobAUlh4XgKGpl9uQjnKpDoHtNa3dsXeckJVXPwco/Y2I5wJ72cbNxQYMPDYZmM6SzY53wJkoQahyAqOBZF434LlBPC5Guvs1Hvhq/rFIvjQNeFaQQkEfqrVDlvvJxiFuIhQBysaLQ+2xTnXqNS4JEKUAuOv8pqj7Z6ClrT+iOvrGMv62kgE/RyWx4uuomqGmDJ8ejQNFX4eAMlAZ6laesDXnLgY7jvjETg4Waj1sFMdRJqiNejsSnxCRctjzhfxo8jypJRRLL1HZ08tRQc84apQWHTR/TnjHQpZx+0hKDejYoaRbWHWglmOa2enlsPa9RjKM/U1kc9jIymCPno4IhhUd1auyiCbZ2eLzGHtLsVILEXxMaya6WNwT56WCKOf39ODmB9gx56JzW3UKmF8CDUTSDaZ9FtNsO0RixgymVNFeAUlkRmmhPRZhnTJq4QIo8gwmIHe4bKfU0Ju8ovF+sd77sFc0QmmT8cQw5ib9vylteYo5GBjGEUKT4dhpRwMMe0KYclxDo+ejy5R4xkIXGxyJGPCJDcdFtwuVOFjH7+ZDY8Gjd174ItVeU7Fx2Rso+jT3vY0SK9MPe3Zxtx2qgOdOBMSg4Bl6lEkQAAIABJREFUI4XObZ+SV4Eoi9gFXq6OuDhXg6cWK5W7WaPoY6QT8qTSJT4GBBHmuMENJpE3JmSsRa6+qLgSsHY2G/LH+Dz2jYZScr8R2EZexxFnOxLzwpGL3f6QeI1LgQcrQNfG2Stru4DobZi6s425g+2p67/fy+VXf6XQb/vSrF6fWozedfSSRDDtu2V/xaH5C64GizHYLNC+xVaA2txDd1MKSQOd/+gbeQVxWmMIh72JSG4Q/yaJTk7yO5l8/muv/F6S6W+XI/o0nkIPGY4eR2gX7Z+i69bAjYQqUPNsHB5glEn6mGMnKTAKQ9ITfz+FQNbP8BNKU82sbSoFkitYOpvq0GfvkhidHWQEljwhgyGkQQCc5A0+LZ48tbgc5XMarRSIxsgsJnVM8YKF6Ml2sip4IgGBMIy5dZaQE1LYUA1pH6PnZp4YPMFNZMIpSRnW05yN5+sQsNJwtqcRORBOYQAYg3yWXWAekFsEWY0XuDqejrIR5gGE/NeJIJLBYZ4Dk2l8MMFJyQ4puPFjR6N7BHcN1ugijVdbdWCDIVY+We7CaSH5pimgOjmJgqaHqODW468AtQlmaBlascB/o5yFJ0aCGw2h0KAXuK2V3AKBBAEzTLRa+TgQg9yVLI5TZH+EIA8MPYwWgWMQwb1YwbkbMzq17yoEr5xwlYshILYRgYUM5uSCXDM3XJ+NCRJsNIzaeE4adXmjc0KCUjALeEX0mpUCT1KAXl6mr6zwzsoNLu8wMrYuTt+TCt9IwccGD04O5TOmr0bibe9TMuA8OTDPU6b9lASIb0oZFDSfAWI4uEtd/ZtI8O/zQRkrNZpNb6Qt74jh9HFEQvhFX2CYjO0pXpfmY7xEEmTgLFi0pkxpPEmRxdOQeB3WJG4VDb1pDB8TM/o0e4fBaJIjwSynHdCaTMuQhUclpoCJhsakEq1sqMUo4W2ry5MVwChC7QLMoWMGC9fRg0DL5xuvJbePUcSOHZazCKSM2KDRdTjTVEgsklkcn2jqW32YEWXpQ9yqzPxo0Mh4dmbdQULQcY8/oJTLxatCAuNop9jVH9FzMCTKJs4JrGMiCGwZgEK2uSlbgJw7weLCH7w+bTi/R3iRVBlcQrSHcsEe4BcI9W1lo0cnRDIup5waO1v3nqJ0HLt3xdb5GqaCIA0cAxwMY1Hoj+NIjGLQSmPNTjaAdzdeNLI6GGxSAg/TTRCg4akDRCxYS4E4doDgXF0AgFJz3OgWsOTvwJtuxIn+BdrAmaCWIH1RaSWCdViaOLp5BbiexxprJNsCuaHJzNorWHDv7Fk6sgwgnabGeMydeI1KgQcrQO03f2Vtl1I6y+1HKtsRkDYNEzwH/lxEfR+uBCGUSmkereHFO0LJucuBeY6ZxBZx9EyhIxEQZzZnm2q9AMRwdQfYfNFQpKAdXFiAgQxjFaJGs2lJXkV0Pv3MH0eEK/NpODxMVDQD5RuNw50Wy4dxjp2kgIiMigjxdgn0KT6WkMJarw2zxzhkEtORJaHC9HoyY+Et/woQ8pp/FkAM5Cplw5CNVrgNAMyGOarprP2Qs3bMfGGYBdBhSMk9UKnQCv2DXRRT1GqYSEHiR3b1c9MjR/fJLBLL6bEQHPc1JuswW/KZTjMLBGPbZAcJEGRI+Igi4y6Rh3QmCsEE7joARkcyA9rC5EDmBIHNCmmzzU3Z4sCD1oz0wPXTh4t7BElBreCSxEOZBUI/1xkPbO8B8iTjfMp5r+7eBdstQM0VKeksA3tJ6kErOF5PyRMOYG77RmaedA0erJsgQCPwDxOvl0ZDTCgJhjFwFNznoRXrqGGubdTOQ0F1n9kh5V7mIl/QSkSGFQBjIM8UcMEtkMT1PIYsKD65oanZFnmDM7RrIBhY2YRy2abYag1KgScoQI22emXl1m39aCeAe1hnrVv1p8t2fmOwnw4J59/YJLh+qqDekFMvjMpBrhD6LHsVJUwqY307o28M5t8ltQDEcKArV24STr/rt/2GpCal1O/5+Bt87TcKs3mKbNWCUBOGi8eRRpaTCA5h+MbANSvebsnNModJqN8m6LJIYf7hnsqriBCszB4ox3kKi4/KASfUikRonGCm05g837pTWIDtbI3CEnASQ8u4iYl/jvK5j3L9nW54X2TnSLRDggUabtCD7YRAIBWzmSE6x5k59QNCs27uzdesADFKPykkMVtPh+nXIWCFYQICqmwJcwqbkE8wOs2JYE5DREsNmU+XIraPgMMLMKchkGxNGlcQGyIzErsBFLjCMBJDaLfM3d3n80are0TrizNqHYqkyVg6qBObK0SDDw+TcTpFQAoM8wWlqSkAjAD1CjGkRH8HQB1SSeiP43wKwu2gay6IHA9T1oi2zAV4Q5DZ5m7FYVckAhQKsCltso7z+H6N7Qmz0yPZBYQ+4EZm7DxHFLLFotKKBzv5BhDm7obosQD0wTFFwJyGSCnkGTU5OndIkwYHlhkfTDUsBR6nwOYrK5+C8KLVbhF6HrhTm93/1wYPRjoSsuCngw6WXyjazHFo1HxzYJ5LJDuHrAo2oyTOYu4I8PoCMIaHfRlGUbFW/cRD7R0ZU6NZtCS9/mip+nH7q6yMo+mYTdRBM5DfaByfFkL1Nsmxmi5eYM2dBhiynAb+PNF+UU0gG8PCHLNg7cJgWO+K2/VkNEXMbr9+aQWI5FG71lJeZcDQsyzmYIscuE6lR36OKBtiK4wCDgyE7uSgUNv0INIDL2dLl5tDi09pN8oxQiqJnhmnynUp774LW94JMcwu+iiSF8UIq2myaaVpeTFFGhTtv3+DgkxSnsTpcBdmIrRDoXCCpvUyB7Xl3kmvG1qhfozEOs5AUo/7NBEGjxgK3YWJuYaqYv4910It7JM+rl5Z9X6dZFUVmnkk3eRcrDUi8Q361istgcDGICYeh7jRPNMoMeFUWSEa7aG4IuuwteiP4/4koVVQhQDPRmSwHCEz4YngKfUGiOZNUet9XB95IgOwQS+5HlzRUQv+iLxwA3FYatWwr3EDJBaVysxZ1JlTuiDghvTDTQ99YjjPEFnHjNVZ0y0gOIeM08Jnxzxwr0kp8EgF6FFt+VVWui7zn5Wxo9zOsh8z+iFKeeI7ndsPsaOvGnmNm99D9aIP/vEv5tipyoF5Hs/uFZQEyBjgj4T6X5yZAubwuDf812tUnH//Tqez/KKl5qZF/KCC/huVur9cY2q0ao0zoQ0Zjh5H/OGcRuE6JXza5xBoohko32gMd+2IBDLkWMiIJogIl8t8s0yPMk6ZaiHAhM/ltrWBVYuyR15tZP87u4nkanotmUl2X54DJhqonj1IcS0OJkrOf/M+ZrPttqiQAl33yI4siLr9QwMTT9undgwCFyDVKYIcczk+Jy8A5CBOyhk1fXyWgqxB7IyjG0CgipRoLqZOBfOl/t+aMoiqrRwIDw1xB4kSVIIMZ5QQTn6lPOYiCPuHBiJiRsgpBTcmzhRCmykKA1iUDbxjwR3DkIEmEOq2iNjTphUIzNw+dT66R/hWtPJ9ztsFVbo8SVXTJ91kbB0wRZok4GrqafNln6IAOoJ4WGK7cRy04Ihmp0jN3RajP47XNzXynFylE4jXE/s9ua2nK5CpkqtjSzJQSvsX9CELwHaaOZ20RwiJAB4QRUjIY7eBNH6ILaOlG4O0cs2JE6cyQx5E6a+9QS0pAsPTWFRqYkNsIkBA67w9f0DDUBco7nMESPLXtBR4jALU6emV9THAhbKtgFwHnnfU0+PINqPy+GoFBrex76kXb+V7q+ITGM5fv9KwbkHfy2Ls9/qMYx6w+mJKlC5sDlD5uOGLtXlY/XWPuENKvlrAk/0dUB56qLZ32jUqBUqBUuDZCtQr67MVXuDXK+tCnDI9XoHvfhii43Tl42M7gfBaRAqNXpNer9zrM27226spvTrfpgALhyNxDWXUK2uQ46oJXz7g6nFV8NT5sK00ragMpUApUAo8RIF6ZX2IjLeB1CvrbbpV1I0KfPvD0C31ySFs31g1+dZO8nn4k+lyD1+fcUmHjK+ndMt2bpbxFAfS5srPljyFxw2g9cp6g2gthPrzCdeF47T9zcpVYClQCpQCtyhQr6y3qHaUmHocOcpOFc9SoBQoBV6vQN0jXq95ZSwFSoFSoBS4QYF6Zb1BtMOE1OPIYbaqiJYCpUAp8HIF6h7xcskrYSlQCpQCpcAtCsgrq35bXH0sBUqBUqAUKAVKgVKgFCgFSoFSoBQoBT5JgfqNwbe87B8hpj6DfoRdKo6lQClQCrxHgbpHvEf3yloKlAKlQClwpQL06lyvrFeKdhj3ehw5zFYV0VKgFCgFXq5A3SNeLnklLAVKgVKgFLhFgXplvUW1o8TU48hRdqp4lgKlQCnwegXqHvF6zStjKVAKlAKlwA0K1CvrDaIdJqQeRw6zVUW0FCgFSoGXK1D3iJdLXglLgVKgFCgFblGgXllvUe0oMfU4cpSdKp6lQClQCrxegbpHvF7zylgKlAKlQClwgwL1ynqDaIcJqceRw2xVES0FSoFS4OUK1D3i5ZJXwlKgFCgFSoFbFPikV9bLmdicfn5vKaRiBgpc9ThC8qv4OB7g/oml35+TC/InKn5DkRsiUx+eL9fygu7t8HkhXGf6lWvzPd//Nh2ez6syHF6BffeI7hw9oW44tk9A/wOQb7lKvGTXXtF+H9MgX1LsMxrjLR3+gsZArXC8J/WzNUE+ON7DrfncFjXDH7yyUgL8dzqdLy95i2yJ9a1pxvjedXlCfXaae2k+JH7yOCISpHcBbCwcP4TJAUG+5M7x2cpviEx9mNp0Rz3QvQmfpwGwX9mR4OUut+nwcpqV8HgK5HsEHB4oJp0jsDxuOM78OPyvR3rLVeIlu/aK9vuY9viSYp/RGG/p8Bc0BmqF4z2pn60J8sHxHm7N57aoGX7/ysoHBl9ZeRwe82Zgd65TZY//ulZD9Qdfqe8Pv7KSIudz9zKAjYXjO3f1MOF/seYP25xuC2jh+ktPB2Nl9pZ+xZyfNrg+J0Vcr8PTCijg71Fg3yvrjnqv7+oEejdAwtuavjrfFp899iVnMr78KrFktKekkc9TQEeJPmHtS4udljU1bG8Ghb68w7dp3e2BkuB4D/CzNUE+ON7DrfncFjXDn76y6iudvsG+oFGosue/ss6U+Mb1/DjCNZLM58t/8sHLxsbCsXt89+gv1vxhO9ptAS1cf+XpYKzM3tKvmPPTBtfnpIjrdXhaAQX8PQrke8T1zSla3ByoWt4NoEA7P746305aS7clZzK+/CqxZLSsZWF8Cugi31tNX1rstKypYXsXKPTlHb5N624PlATHe4CfrQnywfEebs3ntqgZ/t5XVn2Dpez/Tj+Xy/lEodI+v5fziee09u90/vHvJI4mssE3GZORQyjo8pNfWX9/0CxxC8Dfy4/SaN/MrO/bkoP5hq+ytsn5EogAQ1hXDFVipugnrefHEeJGO8jblhsJ5zimoCikXTR42WYNG/RBMyBAQBQLfLy32OVyph+zBXvEILr6D/LT8vkiRl1HX+1fFkUB7NMm5KlRCxFMU6c3iYqkoXaPJBLo1kpwOyIDgHCwEgCiIUjVHN6vzMI5CrBwh51TINxIsRECCQiog9ksnMsKEG9aPF88FWDE6mEH246rp+GDB2Uhe0ypEa1IZeKr7N61UwDpnHvmMSeKogV5jAu71iFgRtVvODV42AFM6dXH71Ig3yOomaCPtdiw3LVo6ECL79wUzD96YDy25AHh6aro8Xo/c9/E3Q10oq2fPS8f9BSUsmsUY+lErpkaubhDLUwpETK024pQPf205yO9MA02iTzlk9HNy7k2k0HpsxT9ugb7596srzhnJLK5qds11Fu1iSGpSAhoBBycUzcQWlQ4Gk9vCgAnhTEqLysAl4f/xSDUYWPvkCugN4Zi1HX0tUYMi1oiLWoU0VzSm0oBUViR1U1ZpjLiHkcyYfuzycvpGqPldQfY3HWNRthOROi/bJZdDwKCz7hqo4WyRw1sy4yGC+xRvAZyE7BbgXg8BehmYyYFWI0PoLWyyG2+jwyimgDY3qi4jxSFBBAd11G6iABbceOQivnf//4H0b4RWii9Tup7JnIU1QcBvh/JnyFVuJHNFelgmySjoAaYA86XdNYbK3FraDlGShaGLRe9gV/g5RneaEG2jxzmxxE7bcyWyoM+wymO2znTTZNmlDjWz0x0fT+dHJJQmhHxfn9OFgGqkQtcFnhqUDwzM2dVW6QQTDGKcrU7kGSNkVymgvb6XEGPXBUIx/cXjmgg3bIuJm7SiQjU57AJU1mSRD5FJqO63FMyThojqo6otgVOtTOrBlyj1MOZxxvQele3pgVnzEicZxrAWYJuu51jljjTIno+LmxMHeKneycn1QiHWubMEdwJRJI1+x4F8j0C9x+qhGUY0h1WryO4TIE4B7eEqZchbkg/thytNgGziypA5CbHpGJTfjLV0xwJBsgZ+XhoIgAl9itVOGsL07rMGMgUY32JdfRfcDCoqcJbV5XxxTakpN4QsedoWA80CS4bWd25WCa6hg1iN938yCzoFvxyk8RcASUka4+aY4aUba5AbKOu2Gs6BKXAMQgLlcfS0L8Vo9LF0raqHjcGpB3Uu64RYyPnvdsxRxA8PQZBhMWWRRoYFeWJtW4AYvO0cQJLU61qTmbVdeuo+NDgl+V5qWEvGHxHJ2gJV32ky+zmKyt/5bT93k6plF7rJY+sqOCtwe0rVf/9Xi6/6vobvo4aA+krpHzRF6DeKoYpYItod1BCE8kEKB5A3QQWupVHJH9D1mbUwGbS2VUiv805P46kaxGVZPvG1w2dgWVwUFiKpgRa+coI55LcRC/AG4uBONhYk3jHgyQtzk35SthljkkhsEOKnmwmdywPOgOQYNil54WbkcdwPSbybDH9SsRCSjjG7rmqrkVjhK6LEyJFacbCIuVMBuc4jncQF0O7vk8YIggK2WR2nfOMeeSElQQIMFDEDA3c5BPy6pnz+DzhYVp3CsA1+VIF8j1isv+wDEPUJC/nOfryODvAPFx2WiBZ8QwoHK1rw8d3zS0QyKdg9nFoy4DohGNCgTkMGd/nGVDitB5y1LEw81ij6oNshHkHtZHaQWmEzgDKTjAnN7iWRgyfrdDEC0DbCi7QeLzj0YIxnj2NkAwk1wQZw+cxV7/jipDy8TQmdUwgIDpGT7aTu4InEoAEwxED4btHxlBaSoh9njPmudHIho0aLS4QaasORSOoBokhAJ5LWncA9kpTiAwkUzKICm49/gpQT84MLUMr1pyMesjHADCPgvwciHMYJwCUErw6hMTphun0lVUFTK+gxAbfc3jP/QgZQ19K38hr0SxgaDPE7q1W3AxQqVCG/uvC1s6C3Orr0iAHAcSvspoqxuajB/lxhMs1JbDL0umCpqMhhNgOixQEaVrS4HIW9xAoQk/vaMFZNF2QsEIUlz/bYf8JtxFoF2C1QbpGABZGSHMzWNLx6bvlduSINa2rT9Cv5O898tOLTysmOmXWfCJ1JKMOOxoDteIDFwAT1eBsKQMvWkU3HEdLi492rco6iQeTdrrGOaQJEytDBoq6XweNMNLa0pRHx4TOjrTQRWCZagwEMsuaf4sC+R4xaU5cHncIerA4YzfTjc3YngBAQzRREJgNQ5bBFby2QMAVAdt4RD4zRoCcDHznpmxJZQ7MtDQ9mNl/wYHVBNm46ACuAqSrCmA2oTyoMzUH/n+C5peiWJSDCgYu0BiogykwoHX0AzYwTGBsAcRstgxdQXgJzVGE2gVYCZCuEYOFEdLcDBbLF4WdV+6xHVMvbctkNc3Pa3+QN2oEyl3XMh9KuiCG8V1yr5rd4rQD1fISY4gyQpIVTKseQDccAxwM+4qUWCf79SV0eZCPjzvg1CTAaHbljmXsnlGi4VdZodOJp57+Np4YYZvEf1hYixYTlIbYmBOLWQCS22//HbwZSRAmJJBDOgfxx3CR1MeO0+PIUDy7rFPpurE+5hjYJK6VzLpGDhSm3wZEc7KhjwpEa9ZKukgft7JkMPO3AaLpOEe1NFpjzkrebguHf5gF0GFIuTskXnlE4T0y18r8nHugm7gJPd29zXCvJqCKxAQ+rEv2dLsxQkVhokoC1c7u9MEr6B9D4kwzTJSTGu0DBWOakSAz55A4TCwiDMgFhE2pAeCarTfCNgg5wyQRCLaafJEC6R4RDg+UCS0nq7lDeg92zG6G2TWhA3QmCiIzHj+gActXgLirccoDcvFjmGkhAI2BBt7RpqaMx9nBG4ZKjJb8cqWr8jH7A/7C5CDuxJGeB4Bg2AKdUWdS5DmaehCI6+z3HLWHrnSabHYCTfSGhGiG0g+GnCEBDDnY/G3QYw5adakAFNDAfGGYBTjBkEI9UFnRykSKaewwaQO8xtSTEVLJMMRM5LCc4SkbgmgUfkzJ51NGHB6Bbn8BJPPIpgWgmiAEtjQDe03kD5pA+E0ldIkAEBqsc3NCnQkR3O3WEbXz+pVVvptXLpSUPVw0mR8u6QKrKO6iaPjGYPWTnUrfGDyw8i9uWgBezvq1VQluyC3CNzUYZeI7jvXxWBvpVoHfGhcfR7hYL5WZcY1tjYZaLYzBQ2sBq7+a2FdXKU37cfCUq4WPWLSLgO+RURvwSbbIRRm2j2RDDjl1nHdIsEDDABVvDykRBAKhmE0Nz0AOmRK3wbNfcB98/qCVQ9+4r9uh5PljDjcjGU4/9M32bRNo3jVG0CpMCCeR7+wtV17GOY7jpg1jo7uVwgOyYTvBBTw60iw5B9ww6UN1BYSdooEPh4V5zuNzH2my0ccANnKoteMrEO8RoyPCNY47Bjtk7MHB6OaK5QCY0zCetelhI1c4lVeAgKuT6kdAfp6rowfgMGR0n9MIycMjKnmSGUrTpeFVeGT0RD3UMjWUzIxxDqBsgzkM2ST/YTQt5fnArUPCBRqDLG4i4Kk4yAjGFI1ogy1ASE/mI0CTIdmAYVdxVKBDggUaBqh4QFMiCARSMZsZ5rFjGA68wjR1zQaaL2o0wmlraN2hfIT+/Tj5TadZtDCnKNhfBJmaAkA+BRkBWq6Zpk9f3VXCoTYzjktwgKYezmEMw6xyNuV59r9uPn1lJQP+k/Iou7/ZcK62hL7uwaolk11VhoFzK2/jArCDa5RDhP9KptYUYvS9w/o6QPx+4+tkfpN3eBzhcrxSoeSrNNKjguOmkQd6hECQw+nUvrZKS/TjrOezz3nF4hEaZFln4Zx2mQgMOFB5S3b5DVnkZ3mFma9EzMGdlBwUeJseJPJAe10Ll1coW9ICTaZlYDSzCV6iA0aI4YlHJQQhApgN1bKkcJPND3WDMAQKUJkCK75TrxsjVcQqG3BPdZaKOUuc8FdGMSTOtDb1pfk17XSFc0jclemyTRqGwkEXQKOhmXgymwbPaZkTAs6wRt+lQLhHzC9T3nKzDkldPXMD9bAjpXX1KDKY9XW6RAFEs4yPRjuec5BEGFEn5PHUJMIyxYuQslqY1mVSoIIIuwVnEclCOK2G91DL1F1svshgnX75R334Utq2c4420bntnHKn0glCeyPVAiZOhI+bGhIBcKc3mkQQsVylFYvlDJouMZSd0cCI+bYHj0SSpsp/UdrCxHWhUg7YK65ikIUxodMRKERyG3grBr8FMcTAMlNfxWkA54mdLKYBBSAm0pAoUXULUMVHNGIuKLY5WI3ax2S2Mo6jWkKxSfIRN6xUeKCb7mdCyOyvn9P5jl9lNYn06J/wj9Y0AkpN8uG348YfJOXfaKS/SP10br+n3aPTX7FhcLDCn87x78qFvzuTANGiX3Alhp6FsNv5kAaQie9dqE/UViHaR/e9Xu1XR+DjCBczIG/rNFDxcUyk2Ul1UCerpqnoy8075EKAYDCQZRYKn/8ib9nFxs9pMOuUDF3bb98GByPZ1mgKaAsRGj0rBQMN06+05mcDdAopcwmIbNE0mNdFIVCjyBxXFuGcJW9w2qsE5sRyXKszuKeKmodplcgnZ08EBcifddGNiyFxRvH9CmCF1/S8Fy07Co9bR7hQaEpDU/4HLlKNmUyEfssCGjKILU1ut50aYYcVgNg1/CIF8B5BZWH/cRu0k4Qthy7YwLbeFm2KnRyV895Nx7Zjouc5xm8cjVxOBjGGWEXLYKZIfkqY/CdnbWFal9kCU8VGbMg5/FErKHcIFfcavJc3FLzZ9LvmAuHNE1f7a9ToapPKpKkSTLWAidKALJxVosArCbpskpbL6SuHhuHrm3cKdI0KYH4/OJiISNg/NORbEhaJQaCJF99KsznGpv035ddVrxvDEvX1kgnppnwQ2X65p2sZxJjeuAGA80BUqjpMPQ0dbTKpjjgW7o7pYfl0uGUEqAiBA1FvYWrGYni8IrPOqOXsLyFxQ/i4aW7JInT8r12gk5BeWa+F+FZ/2h6/TtKh4ndv2OePrzw/jnw84RnBdCxnbrX+HAX4AjS9Zj4nZ6HerUCdmrsl/H6Ar7lHvHerFmdtYXov5y/Lznep8HjmK7QHt9zAau++rEkOWE49fYVNq1fWIAdO6GrV/wuXRHT/xPHXPI7UneOd7eV3/neyqNzXKlCn5lrF/qD/19wj3rt3i7O2ML2X85dl59uUfSVMv3LHD2w3b8HNgV+mbZXzNgXq6StKX6+sUY8wo+8o1u9qpi+4nn/sr9EGv4+dfM3jSN053thjJD4+CbyRSqW+RoE6Ndeo9Ud9v+Ye8d79W5y1hem9nL8ve3trtS80yNdVafXGLzXU3n1fkxyrIurAW7v3WJXuZFuvrDuFOqRbPY4cctuKdClQCpQCL1Gg7hEvkbmSlAKlQClQCtyrQL2y3qvgJ8fX48gn705xKwVKgVLgvQrUPeK9+lf2UqAUKAVKgZ0KyCurfStFDUqBUqAUKAVKgVKgFCgFSoFSoBQoBUqBD1KgfmPwzvf7w7nVZ9APt2VFuBQoBUqBlylQ94iXSV2JSoFSoBQoBe5RgN6c65X1HgU/ObZeYvSkAAAQ50lEQVQeRz55d4pbKVAKlALvVaDuEe/Vv7KXAqVAKVAK7FSgXll3CnVIt3ocOeS2FelSoBQoBV6iQN0jXiJzJSkFSoFSoBS4V4F6Zb1XwU+Or8eRT96d4lYKlAKlwHsVqHvEe/Wv7KVAKVAKlAI7FahX1p1CHdKtHkcOuW1FuhQoBUqBlyhQ94iXyFxJSoFSoBQoBe5VoF5Z71Xwk+PrceSTd6e4lQKlQCnwXgXqHvFe/St7KVAKlAKlwE4Fdr+y/v6cyPf087sTeeEmWOfLwodNj0y6lesb7U9+HOHteUhHbIl/Oc9bT5pk7rAF/pH2e7VdKXZ3wY8Av7fAUREdZuiNzjqCOODat9Z1wK04IOUn3yMerMgjrjwPpvQkuL9T6SMFDBf8RwK/C+vT2oD4bD+4v0utyvv9CvSvrHboydT+0VuJLN/6ghLCZTLufPScjb9/Xx5TYXocETl1W+/+DATj3doRV1U4v3Azh3EnXZXh05zv1Xau2AMqfQT4vQWOykiYqTeSdQRwyLVvreuQm3E40ukeIfy5p+BG8SlX2EdceY6xRX+n0sftR7rgPw74fUgPbIOHnGni8ykXg/ftSmV+nwJ0V4p/5CY3trzYyPKtLyghXCbjzkfP2fi//+jk/KvDs9E46XGE5QTVm7y3bulG7oea5xfuueWhBA4H9lRdngp+hdQbPDbMVyT6KNcvLeujNP47ZNI94j+9t8J9gj9f/Rm3ib/T+3sr3eu3r6Mfi2Y5nwRr+DJ4UZqc9pnzB5ZEj3t+igkYppMauvS0gJeGSVwtlwJPUmD6yuq93TLj2+O9XARru/PnSfnA1eHZ2In0OMJyRtV5Ke/1BuobzN2V0zjMLebyJwdP1eWp4Fds1waPDfMViT7K9UvL+iiN/w6Z0T3ic28If6f391a6129fRz8WzXI+CdbwZfCiNDntM+cPLIme9eBk73r069LTQnyEfGb1hV0KZAVuf2X9/TnzT7cSwul8aT/iysfAP3lD/d1mwSCT88/FME5n/SFZ9ByPZZWg27/zpSXCs6Q5Nn9eNivyTfPR40i+3rB0sChSsrJwgdPvDKd18yZf9+n2hR3J53xxm/uz0rN0+sn+li8m0i3C2DkRYytfQLBuSUxaxjFVpg9AyIfGfZRxS1lsPX6Os4GIkUNoDLEuYFjWbzfQg6DS8DqE27p9FaVF+F6uyqdoJ94EHIIDS1ALe8drSgVCglAhufXyIh+upNFxTKdL5mxlOYCss0Kh/vtvzJx8MBhOhPWY2z03EOU0lzPldU/fDF4DBa2uWNagLnIYydVV3PYfcqTKa/o3FIj3iNx4Yw2wC+E6sOy9eGK7KIHUdczgx6JhqE/P7YYDZQcWCcxxOCecWLwbkg1M4WhhPUv+7Vj+666xCGCChEW9yoVrdeYHmnVUh2i0GO6YuUPIASoCVLg6SVX0gX1XIF1G5ozkIJ3Xgw7ICAmNLtQSt4mpDuzf7a1a13cxy/VDD8ZTEC/lijaYoplEpITxlC6h+awiJuk710LJeXp/Cf2fKtwIFJarxrjzcJkONTi0AtSRw28Mxt6mCuXky7IfKmvpaKGZhPBZCuEysVAZtEOHnuNxF36+6JXCzq342PzQm3Qz+fg40jYkS8JKyebx2BzQQhsuTgQjPrAaQrk9wMevXhAhPTVMFy6jDO3poxoBkEyYW6fKvGuTHmtMNVQHV3tLaDcgTj8GSfqjvANiWFhwJRgpqD1aSRGRI4ZjlRshE+YoKucZbgfm9CZZkMeWMgWlL3TPOLUZMcXgAXZtRuuMFWo19WFO1rht85Rv2kp2XalqpWE2HnsCxgwJbKIdqAuSDw6fWgJmqgCrrvGfUiDcI7AHJyqENmqXNO2wee9dfelTyHyToBRuyxQjASwmso5XjhhFmHEFcdb3F2SXLoB2mCMaVMBJxY2dvNLFRTteGoS8K5TrtnxjqkM0ejwz+mkno5KxNr9PdbCZFrJhHTBjShmTWEFSeuwO1FT31cTpEyFYpAhJEybUNg3JHZW7GitEeAbc0QYxMaLliqx4vMsuwokNxORCohmpb6gdA51logLi4pAqxJNi3cnhga9D1+g7FKDL0fCVFd8nqSO4GaR9cUxvs9yq1tlt9u90wl8xHEJk8u/007446/PfeaKAwP0brqSSVZo3zr5jq26oIjyOdNdJASSt2imnkZ1+skZTfylwO7t67NQAkClkmQ7wkgzJwl3iPLQILYu8dZyAJD/EAnSGBRNWpOlAKfCkIcCjvAwyNVJ2gOyJt5VAEvLO/PUTUcop8QMEGDJYnkuG4fKUPHjTUFnkBMkGUUHARiFY887gfMpKSqEPM5+gs+fVCiIHTEq+aMVxtOUUwTNMYlzDBynBl4ZuAUMrof7/mwqEe0TsO57pg4BcgGIXxYZONmixZAnHgGzQmN0uBE6A2TkGVLa6dwCJrPlIRgIe15L4POMIlIS7H5CjRT93Kbf75dg8d8/IYe7HEdHZQSZh3TItBPoZECLINL5PgdOQFdq7jLSwQ8Be2Uw1btZg310eNk6SxjKdnY8Ehxbg2IQiAjeYQAyj5LlThKD4kooGd0/3M3ZSRiEiTLr0tAC6gD3EtbxkVe95YOaoEbQO+DD0iIQaAtyrRl+kwE2vrNQng3/WyW63C1g7IXKAZWL+rdGku9FzNg4BshsI2ghY8i/ar+tKCY8jk1dW1o2lEgXTzoqKagyiks5o1x1l/WVCY10P1yBFjPmcCQThlSspABTIkrKxM7iMzA6YrBDHXIEQmDI3NO2td8TbcXJyJyxbigoqSQ9Hdxp3umOIjnvmYMklWwaFhiaZk3eGGoZ1WGORG+T2qEBRKARrR9Otc1ZWS3wM8OXRXrU1qdqzcNBiSiYoDTJmfgEkTCgHLiRMMAVMWg+5scAa/yEFwj2CewROr+jgXcQO8ZzqN3t2B+O2KE7ZpdFj4pjcwcpEzLSmnoTjLe+jVpLjdLTlQI1xcgZCAyzlDRLqklJtH8GhEcoEEVUrQQijB9kb0uIKrw70UXlFJh1aV3Am6hHZAtncqS1mV7TnjEoUq7e7A+SIO0GGjKRrUvLIrHjLpGRU2RxkGeJuIUPbRY7shs2RAjWXb5ppoW2wgggZLRJQ8aDAmaG4mL7XFOx9iSE8mSFQ+dFHqIOX0U0Fdjmsib0qGoEDYtf4KxSgHR5+lTVvu/QLL1MfDf6F4yP2tNZQBUttchDufGXV9j39INWv2KSbiwiPI/31gHF5M3krWDfYlEFa3XnxgguKiK5t4TDk4zO4Bi7SdSZIlFhFSxdI3sAAhgknOepUjkHGxaw47i/ybs0YgUBPbEcgI/pBDQk8POTZCtm3UxNwyURW+sdYgVSg4iBzn7h7FO5RedJZo29wX2YUljOf4TrREu0Cw0Q4TiGIczqyjxqZgBkmueqECb6MqefT2Eqx9eGvKhDvEdQv2siuiHdRbkz3WR3Va6LkNnXdZU1opOaHB+DMwCsK94ctnAzD/jkrX3d2XACDdh0yMGTbRJDuIrd0DilpQlmMarhEimtXXCbqPLMFkrlTW8yuaM8Zsy/A5iHCLB534EIN97sAtk5K1rYfQHYZAn6WR9liII7ZUZ30dW7WBtYHHYLlI4uH23IbaJ4UrsvmTQsgmttToKOO1fZAg6ZBRundaMU6NrsHrJp8pQK0+Ve/snKjzD6Zocaz/Ham1rG6yr9kSSb6jcG/l5/2i5zYFT1nY7vUwuGRdm/9XJ9q4W6NjyPd9UAvEXod668Po57nTWnCewAtKkwMIh/YJg+xi2z05xl4DecekjxpiunSXZjMQMZhLAtYEToFZhOUjqaYPVlC8oS/KxA2grHCfJwsuOj2a8mJAyDA0ISCkkMlbeKJcqw5gwGGZtYB2ZRhlCW+/7F/BIqz4J5Nmg0/znxoHSklVilsMU0mPBBkuqnqaSDtyHrPsPYa/xUFRveI3CfQqDDsFJr2Hnb2VlR3l/JLSTpoHVKXBsjOuXEUnLVBFsehER7MgXOj5aw9uCcMK9nN5w6VoWnufmxdO0M+H2JIQmvwvTiwAhEwdHQedRZaGIP029EFJ3CfJk+aYpakVuLgMDRKUNHIPUqHJPyQ8SpkmKsF0NOvH7gM4nPcJqKT5yO0QJsCPFEwWcGRzEAGyjLeOLKgyTDbb2adBwYmu9y8dHKf1xSQa/IdCtz0yto62V4OZdAamRu3dVEbtjE3mXaXTMYA6Dkbp9dTO0KSkYBt7Tv26bYqRo8jIEyTF048L8DcrsiXswsKV4k0DBuqMOQDOSGkXXTVr13hdEZuGsZj7Z0sBOKRrdXkCRFodANGPPL1yHDXQmUSn8RgMUUQymvyjoghTgy0X2vBRJQwT5w/hkONWyGKNrjfqDSSSHfKwSdNMiE/lXetTKiLoYFywGyiIk2MnbHycqSXDMBk39FjFtSRQA6ipBTAMy0G6YmbYS6rJmcFiZsoMH5IDRBrrvEfUyDdI/QKik2Ezbh10R733hVR7cRYeulahaXpvG+jM880EGsQN8Whqbq1zd/CAXdMsusCyPVpauy1hETnVNzQwpc4vzfKdgH9pbPlm1Bt+wRonA7n8arIyYxn2mW/YPawV20HOlMFcN+0gnhAdFBaDpxsVuuzWBqibSRlDj/8K98tahFCzPpcIl/gzGviKvY9bSDXeugao6UDoofq6Lp8HJHpN468oBCaKuZVamMgEkENhVHDn3Qs+hPOtDcwSY0PrAC1+NVfZaV6fy/n9vuV7BGIGlmaTHq69TC3uAxb97XJ+UIYEm5/JqcdEjkHGIVjJuB/IEf/Po7lD6fqwLtzL/X0OCIS2o6NZAo+ejGC6yEF2yULrjsUZ+t4XyMfMEBI20XtAL9Dt6qdiPwhECADuiQ8ttCa/QthiQzg0DBZI/SUT3RjEMiZrI4S602phQzgYKAv42r7hfgqdcrrla5DNLwj4GGL7aCk+g+Q9Eyzycgnhp5gqUyKsowtXbTGWdtfS2/P5pGVC8UjZAWhcKWh8M4CC4kETmk8/YMBnrkXnAL5X191w7QqIB0BwqYwPvC0kBr8KQXSPUJqtw5rfRb7xFsz9v689wh1Z1R23XlZY96NgCcKtMMyTdSaaNuNIASILpZGDuDg7KsFztq0dkRFhfKRdyp0xUiEacr/JOPS2TJaFN7QpXZAS7k43BNknlhDlMbSqSxTkFHGnQJSqO6qFmqJqahgHCbSMProFHOo6RQAFyGTXC1DAvG0WV63DNpA+SY0L4iip0bjnj1Mv7ZxqRCaYoR5b6mdAyNNbkACRs6IrV20uU2OW6PvUIB6I76yHrouPdPY0Ycu6D7y48eR+zCH0ax7EL1fGQbWYinwZxWge3A4NE9Uoj+P/coT0xf0pyrwsnvECwR41IF6FM4LSq4UR1aAr8H4yndXMXei3Rl+F/UKLgV2KvBdr6x86NJnDXcK8ZVuL3scacLD4zd/RgzmXylvFVUK3KPAK5+M64Tes1NfHPuye8QLNHzUgXoUzgtKrhQHVoAvyg97SroT7c7wA29DUT+SAl/1ytoey+i3Oh1pC57I9ZWPIyJ++5aO+N0iT6ywoEuBwyrw4ifjOqGH7ZQnEn/lPeKJZTD0ow7Uo3CeXW/hH1oBarPHfZvNnWh3hh96I4r8gRT4qlfWA+n+Gqrf9DjyGsUqSylQCpQCf0eBukf8nb2uSkuBUqAUOLQC9cp66O3bIF+PIxsClbkUKAVKgT+sQN0j/vDmV+mlQClQChxJAXll1W/nrI+lQClQCpQCpUApUAqUAqVAKVAKlAKlwAcp8H8qxhepM3rEGwAAAABJRU5ErkJggg==)"
      ],
      "metadata": {
        "id": "RIZkEu9Xfacr"
      }
    },
    {
      "cell_type": "markdown",
      "source": [
        "##Question 6. Analyze the performance benefits of NumPy arrays over Python lists for large-scale numerical operations.\n",
        "\n",
        "When dealing with large-scale numerical operations, NumPy arrays (ndarray) offer significant performance advantages over Python lists. These benefits stem from several factors, including efficient memory usage, support for vectorized operations, and optimized low-level implementations."
      ],
      "metadata": {
        "id": "rmsdU7kag7SR"
      }
    },
    {
      "cell_type": "markdown",
      "source": [
        "###1. Memory Efficiency\n",
        "\n",
        "1. Contiguous Memory Allocation:\n",
        "* NumPy arrays are stored in contiguous blocks of memory, which allows faster access and better cache performance compared to Python lists, where each element is a reference to an object stored elsewhere in memory.\n",
        "\n",
        "* Python lists store elements as generic objects, which introduces overhead in both memory usage and access time.\n",
        "\n",
        "2. Fixed Data Type:\n",
        "\n",
        "* All elements in a NumPy array must have the same data type (e.g., int32, float64), which ensures that memory is allocated uniformly for all elements. This makes memory usage predictable and efficient.\n",
        "\n",
        "* Python lists can store heterogeneous data types, which increases memory usage because each element requires additional information (like type and size).\n"
      ],
      "metadata": {
        "id": "Q2zeAZD0k7pj"
      }
    },
    {
      "cell_type": "code",
      "source": [
        "print(\"example of memory efficiency\")\n",
        "import sys\n",
        "\n",
        "arr_np = np.array([1, 2, 3, 4, 5], dtype=np.int32)\n",
        "arr_list = [1, 2, 3, 4, 5]\n",
        "\n",
        "print(arr_np.nbytes)   # Output: 20 bytes (5 elements * 4 bytes each)\n",
        "print(sys.getsizeof(arr_list))  # Output: typically 120+ bytes (because of overhead)"
      ],
      "metadata": {
        "colab": {
          "base_uri": "https://localhost:8080/"
        },
        "id": "4hpDGkNUlZ0q",
        "outputId": "f10573f2-daaa-4169-d67a-dbd28de5cf77"
      },
      "execution_count": null,
      "outputs": [
        {
          "output_type": "stream",
          "name": "stdout",
          "text": [
            "example of memory efficiency\n",
            "20\n",
            "104\n"
          ]
        }
      ]
    },
    {
      "cell_type": "markdown",
      "source": [
        "###2. Faster Element-Wise Operations (Vectorization)\n",
        "\n",
        "1. Vectorization:\n",
        "* NumPy arrays support vectorized operations, meaning you can apply an operation across all elements in the array simultaneously, without needing explicit loops. This is done using highly optimized C code, leading to significant performance improvements.\n",
        "\n",
        "* In contrast, Python lists require explicit loops or list comprehensions to perform element-wise operations, which is much slower\n"
      ],
      "metadata": {
        "id": "PS_FPVMhly4Q"
      }
    },
    {
      "cell_type": "code",
      "source": [
        "print(\"Example of Element-Wise Addition:\")\n",
        "print(\"With NumPy:\")\n",
        "arr = np.array([1,2,3,4,5])\n",
        "print(arr+10)\n",
        "print(\"\\n\")\n",
        "print(\"With List:\")\n",
        "lis = [1,2,3,4,5]\n",
        "sum_lis = [x+10 for x in lis]\n",
        "print(sum_lis)"
      ],
      "metadata": {
        "colab": {
          "base_uri": "https://localhost:8080/"
        },
        "id": "FwO71Bh3mJZ8",
        "outputId": "80525e1b-5baf-4b2c-9d2b-ea660ab5e92d"
      },
      "execution_count": null,
      "outputs": [
        {
          "output_type": "stream",
          "name": "stdout",
          "text": [
            "Example of Element-Wise Addition:\n",
            "With NumPy:\n",
            "[11 12 13 14 15]\n",
            "\n",
            "\n",
            "With List:\n",
            "[11, 12, 13, 14, 15]\n"
          ]
        }
      ]
    },
    {
      "cell_type": "markdown",
      "source": [
        "###3. Broadcasting for Operations on Different-Sized Arrays\n",
        "\n",
        "* NumPy allows you to perform operations on arrays of different shapes by broadcasting, without the need to explicitly resize or replicate the arrays. This makes operations on arrays of different sizes very efficient.\n",
        "\n",
        "* Python lists do not support broadcasting, requiring manual looping and handling of different-sized lists, which is both slower and more complex.\n"
      ],
      "metadata": {
        "id": "Q1wpBcGLm4ot"
      }
    },
    {
      "cell_type": "code",
      "source": [
        "print(\"Example of Broadcasting:\")\n",
        "\n",
        "arr_np = np.array([[1, 2, 3], [4, 5, 6]])\n",
        "arr_np_broadcasted = arr_np + np.array([1, 2, 3])  # Broadcasting across rows"
      ],
      "metadata": {
        "colab": {
          "base_uri": "https://localhost:8080/"
        },
        "id": "wPdxb1WfnFWp",
        "outputId": "b8d99871-27b0-4f03-8d35-c3c31673c2b3"
      },
      "execution_count": null,
      "outputs": [
        {
          "output_type": "stream",
          "name": "stdout",
          "text": [
            "Example of Broadcasting:\n"
          ]
        }
      ]
    },
    {
      "cell_type": "markdown",
      "source": [
        "###4.Efficient Slicing and Indexing:\n",
        "\n",
        "NumPy’s slicing returns views rather than copies, improving both speed and memory efficiency."
      ],
      "metadata": {
        "id": "YfRYlonqnbC3"
      }
    },
    {
      "cell_type": "code",
      "source": [
        "arr_np = np.array([1, 2, 3, 4, 5])\n",
        "arr_slice = arr_np[1:4]  # This is a view\n",
        "arr_slice[0] = 99        # Modifies the original array\n",
        "\n",
        "print(arr_np)  # Output: [1, 99, 3, 4, 5]"
      ],
      "metadata": {
        "colab": {
          "base_uri": "https://localhost:8080/"
        },
        "id": "8uC06y-SnW0l",
        "outputId": "66d070b8-dd8d-4cf0-d441-1b2efda069b3"
      },
      "execution_count": null,
      "outputs": [
        {
          "output_type": "stream",
          "name": "stdout",
          "text": [
            "[ 1 99  3  4  5]\n"
          ]
        }
      ]
    },
    {
      "cell_type": "markdown",
      "source": [
        "##question 7. Compare vstack() and hstack() functions in NumPy. Provide examples demonstrating their usage and output.\n",
        "\n",
        "* vstack() stacks arrays vertically (row-wise), requiring that arrays have the same number of columns.\n",
        "\n",
        "* hstack() stacks arrays horizontally (column-wise), requiring that arrays have the same number of rows."
      ],
      "metadata": {
        "id": "Q2iMkNgVpjNa"
      }
    },
    {
      "cell_type": "markdown",
      "source": [
        "###1. vstack() Function:\n",
        "\n",
        "**Purpose:**\n",
        "\n",
        "The vstack() function stacks arrays vertically (along the rows), meaning it combines arrays by adding them as new rows\n",
        "\n",
        "**Input Requirement:**\n",
        "\n",
        "The arrays must have the same number of columns (i.e., they must have the same second dimension if they are 2D arrays)."
      ],
      "metadata": {
        "id": "qGInvKvrpxEr"
      }
    },
    {
      "cell_type": "code",
      "source": [
        "arr1 = np.zeros([3,4], dtype = int)\n",
        "print(\"array 1:-\",arr1)\n",
        "\n",
        "arr2 = np.array([[1,2,3,4]])\n",
        "print(\"arrayy2:\",arr2)\n",
        "\n",
        "print(\"---------------------------\")\n",
        "# Stack arrays vertically\n",
        "result = np.vstack((arr1,arr2))\n",
        "print(\"result:-\",result)"
      ],
      "metadata": {
        "colab": {
          "base_uri": "https://localhost:8080/"
        },
        "id": "XEjrh3dAqAgZ",
        "outputId": "3594e69c-7cdd-4121-8c61-d27b4385fd4e"
      },
      "execution_count": null,
      "outputs": [
        {
          "output_type": "stream",
          "name": "stdout",
          "text": [
            "array 1:- [[0 0 0 0]\n",
            " [0 0 0 0]\n",
            " [0 0 0 0]]\n",
            "arrayy2: [[1 2 3 4]]\n",
            "---------------------------\n",
            "result:- [[0 0 0 0]\n",
            " [0 0 0 0]\n",
            " [0 0 0 0]\n",
            " [1 2 3 4]]\n"
          ]
        }
      ]
    },
    {
      "cell_type": "markdown",
      "source": [
        "###2. hstack() Function:\n",
        "\n",
        "**Purpose**\n",
        "* The hstack() function stacks arrays horizontally (along the columns), meaning it combines arrays by adding them as new columns.\n",
        "\n",
        "**Input Requirement:**\n",
        "* The arrays must have the same number of rows (i.e., they must have the same first dimension if they are 2D arrays)."
      ],
      "metadata": {
        "id": "V-qtBgyytM6X"
      }
    },
    {
      "cell_type": "code",
      "source": [
        "\n",
        "# Create two 2D arrays\n",
        "arr1 = np.array([[1, 2], [3, 4]])\n",
        "arr2 = np.array([[5], [6]])\n",
        "\n",
        "# Stack arrays horizontally\n",
        "result = np.hstack((arr1, arr2))\n",
        "print(result)"
      ],
      "metadata": {
        "colab": {
          "base_uri": "https://localhost:8080/"
        },
        "id": "gRH195QotcUE",
        "outputId": "4f56c5dc-17e5-45ec-d9d7-f7cdad7c0122"
      },
      "execution_count": null,
      "outputs": [
        {
          "output_type": "stream",
          "name": "stdout",
          "text": [
            "[[1 2 5]\n",
            " [3 4 6]]\n"
          ]
        }
      ]
    },
    {
      "cell_type": "markdown",
      "source": [
        "###Key Differences:\n",
        "\n",
        "![image.png](data:image/png;base64,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)"
      ],
      "metadata": {
        "id": "Ks_yzHKrtqZe"
      }
    },
    {
      "cell_type": "markdown",
      "source": [
        "##question 8. Explain the differences between fliplr() and flipud() methods in NumPy, including their effects on various array dimensions.\n",
        "\n",
        "* fliplr() flips the array horizontally by reversing the order of columns.\n",
        "* flipud() flips the array vertically by reversing the order of rows."
      ],
      "metadata": {
        "id": "4zz-ex0luHYg"
      }
    },
    {
      "cell_type": "markdown",
      "source": [
        "###1. fliplr() (Flip Left to Right)\n",
        "\n",
        "**Purpose:**\n",
        "* The fliplr() function flips the array horizontally, reversing the order of columns in a 2D array, while leaving the rows intact.\n",
        "\n",
        "**Effect:**\n",
        "* Each row in the array remains the same, but the order of the columns is reversed.\n",
        "\n",
        "**Applicable to:**\n",
        "* This function works on 2D arrays (or higher-dimensional arrays with at least 2 dimensions). For 1D arrays, it will raise an error."
      ],
      "metadata": {
        "id": "q9idf9P9vmZv"
      }
    },
    {
      "cell_type": "code",
      "source": [
        "# Create a 2D array\n",
        "arr = np.array([[1, 2, 3], [4, 5, 6]])\n",
        "print(arr)\n",
        "print(\"Flip array left to right (horizontal flip\")\n",
        "flipped_lr = np.fliplr(arr)\n",
        "print(flipped_lr)"
      ],
      "metadata": {
        "colab": {
          "base_uri": "https://localhost:8080/"
        },
        "id": "mXNxIYjRuF59",
        "outputId": "b8bc7b9e-9393-400c-fafe-c464398f97a7"
      },
      "execution_count": null,
      "outputs": [
        {
          "output_type": "stream",
          "name": "stdout",
          "text": [
            "[[1 2 3]\n",
            " [4 5 6]]\n",
            "[[3 2 1]\n",
            " [6 5 4]]\n",
            "Flip array left to right (horizontal flip\n",
            "[[3 2 1]\n",
            " [6 5 4]]\n"
          ]
        }
      ]
    },
    {
      "cell_type": "markdown",
      "source": [
        "###2. flipud() (Flip Up to Down)\n",
        "\n",
        "**Purpose:**\n",
        "* The flipud() function flips the array vertically, reversing the order of rows, while leaving the columns intact.\n",
        "\n",
        "**Effect:**\n",
        "\n",
        "* Each column in the array remains the same, but the order of the rows is reversed.\n",
        "\n",
        "**Applicable to:**\n",
        "\n",
        "* Like fliplr(), this function works on 2D arrays (or higher-dimensional arrays with at least 2 dimensions). It will reverse the row order while leaving the columns unchanged"
      ],
      "metadata": {
        "id": "SNFgrRMQxfFL"
      }
    },
    {
      "cell_type": "code",
      "source": [
        "# Create a 2D array\n",
        "arr = np.array([[1, 2, 3], [4, 5, 6]])\n",
        "\n",
        "# Flip array up to down (vertical flip)\n",
        "flipped_ud = np.flipud(arr)\n",
        "print(flipped_ud)"
      ],
      "metadata": {
        "colab": {
          "base_uri": "https://localhost:8080/"
        },
        "id": "oW0O3LmAxr6s",
        "outputId": "c2c651e0-46a5-4de0-aaf8-8542203b19f6"
      },
      "execution_count": null,
      "outputs": [
        {
          "output_type": "stream",
          "name": "stdout",
          "text": [
            "[[4 5 6]\n",
            " [1 2 3]]\n"
          ]
        }
      ]
    },
    {
      "cell_type": "markdown",
      "source": [
        "##question 9. Discuss the functionality of the array_split() method in NumPy. How does it handle uneven splits?\n",
        "\n",
        "* The array_split() method in NumPy is used to split an array into multiple sub-arrays.\n",
        "*  It is particularly useful when you need to divide an array into smaller chunks, especially when the split size does not evenly divide the original array.\n",
        "* Unlike split(), which requires the array to be evenly divisible by the number of splits, array_split() can handle uneven splits by distributing the remainder across the sub-arrays."
      ],
      "metadata": {
        "id": "628YCpdVyi9P"
      }
    },
    {
      "cell_type": "markdown",
      "source": [
        "###**Functionality of array_split()**\n",
        "\n",
        "**Purpose:**\n",
        "\n",
        "The array_split() function splits an array into multiple sub-arrays, either by specifying the number of splits or the exact indices at which the array should be split.\n",
        "\n",
        "**Syntax**\n",
        " * numpy.array_split(array, sections, axis=0)\n",
        "\n"
      ],
      "metadata": {
        "id": "m28EICxQ0v7s"
      }
    },
    {
      "cell_type": "code",
      "source": [
        "print(\"Splitting an Array Evenly\")\n",
        "arr = np.array([1, 2, 3, 4, 5, 6])  #In this case, the array of 6 elements is split evenly into three sub-arrays, each containing 2 elements.\n",
        "\n",
        "# Split into 3 even parts\n",
        "result = np.array_split(arr, 3)\n",
        "print(result)"
      ],
      "metadata": {
        "colab": {
          "base_uri": "https://localhost:8080/"
        },
        "id": "V9lTKmka1RwT",
        "outputId": "7d642927-d081-4096-e2f5-bfcbcfbe7383"
      },
      "execution_count": null,
      "outputs": [
        {
          "output_type": "stream",
          "name": "stdout",
          "text": [
            "Splitting an Array Evenly\n",
            "[array([1, 2]), array([3, 4]), array([5, 6])]\n"
          ]
        }
      ]
    },
    {
      "cell_type": "markdown",
      "source": [
        "###Handling Uneven Splits\n",
        "\n",
        "* If the array cannot be split evenly into the specified number of sections, array_split() distributes the elements as evenly as possible. The remainder (extra elements) is assigned to the earlier sub-arrays.\n",
        "\n",
        "\n"
      ],
      "metadata": {
        "id": "obCOQ08U1EFm"
      }
    },
    {
      "cell_type": "code",
      "source": [
        "print(\"Handling an Uneven Split\")\n",
        "#Here, the original array has 7 elements. Since 7 cannot be divided evenly by 3, NumPy creates sub-arrays with sizes as close to equal as possible:\n",
        "#The first sub-array has 3 elements.\n",
        "#The second and third sub-arrays have 2 elements each.\n",
        "\n",
        "arr = np.array([1, 2, 3, 4, 5, 6, 7])\n",
        "\n",
        "# Split into 3 uneven parts\n",
        "result = np.array_split(arr, 3)\n",
        "print(result)\n",
        "\n"
      ],
      "metadata": {
        "colab": {
          "base_uri": "https://localhost:8080/"
        },
        "id": "I2WlcU3S0u-8",
        "outputId": "2709f7f7-b4ca-47bf-afed-634e2566efe2"
      },
      "execution_count": null,
      "outputs": [
        {
          "output_type": "stream",
          "name": "stdout",
          "text": [
            "Handling an Uneven Split\n",
            "[array([1, 2, 3]), array([4, 5]), array([6, 7])]\n"
          ]
        }
      ]
    },
    {
      "cell_type": "markdown",
      "source": [
        "###**Key Points about array_split():**\n",
        "* **Flexible Splitting:** Unlike split(), which raises an error if the array can't be divided evenly, array_split() gracefully handles uneven splits.\n",
        "\n",
        "* **Automatic Distribution of Extra Elements:** When the array size isn’t evenly divisible by the number of splits, the leftover elements are distributed among the earlier sub-arrays.\n",
        "\n",
        "* **Multidimensional Support**: You can split along different axes in multi-dimensional arrays by specifying the axis parameter."
      ],
      "metadata": {
        "id": "DGIXiF1217oL"
      }
    },
    {
      "cell_type": "markdown",
      "source": [
        "##question 10. Explain the concepts of vectorization and broadcasting in NumPy. How do they contribute to efficient array operations?"
      ],
      "metadata": {
        "id": "Kscn9-fH2QhT"
      }
    },
    {
      "cell_type": "markdown",
      "source": [
        "###1. Vectorization in NumPy\n",
        "\n",
        "Vectorization refers to the process of applying operations to entire arrays (or large chunks of data) without the need for explicit loops. In NumPy, vectorized operations are highly optimized and take advantage of low-level optimizations, allowing them to be much faster than traditional Python loops.\n",
        "\n",
        "**Key Features of Vectorization:**\n",
        "\n",
        "* **Loop elimination:** Operations are applied to the entire array or large sections at once, removing the need for explicit iteration (loops) over array elements.\n",
        "* **Efficiency:** Vectorized operations are implemented in low-level C or Fortran, making them significantly faster than looping through array elements in Python.\n",
        "* **Ease of use:** Code using vectorized operations is simpler and more readable."
      ],
      "metadata": {
        "id": "uM5-LSKi41_v"
      }
    },
    {
      "cell_type": "code",
      "source": [
        "arr1 = np.array([1, 2, 3])\n",
        "arr2 = np.array([4, 5, 6])\n",
        "\n",
        "# Using vectorized operations\n",
        "result = arr1 + arr2\n",
        "print(result)"
      ],
      "metadata": {
        "colab": {
          "base_uri": "https://localhost:8080/"
        },
        "id": "9amap26t5IDf",
        "outputId": "62e6bf11-d4c4-437e-9972-259b8cefc58e"
      },
      "execution_count": null,
      "outputs": [
        {
          "output_type": "stream",
          "name": "stdout",
          "text": [
            "[5 7 9]\n"
          ]
        }
      ]
    },
    {
      "cell_type": "markdown",
      "source": [
        "###2. Broadcasting in NumPy\n",
        "\n",
        "Broadcasting allows NumPy to perform element-wise operations on arrays of different shapes, automatically expanding the smaller array to match the dimensions of the larger one without making actual copies of the data. This enables efficient memory usage and faster computations.\n",
        "\n",
        "**Broadcasting Works:**\n",
        "\n",
        "Broadcasting follows specific rules to match arrays with different shapes for element-wise operations:\n",
        "\n",
        "If the arrays have different numbers of dimensions, the smaller array is padded with ones on its left side (to match the larger array's dimensions).\n",
        "\n",
        "NumPy compares the sizes of the arrays along each dimension. If the sizes match, or if one of the sizes is 1, the arrays are compatible.\n",
        "\n",
        "The smaller array is \"broadcast\" to match the shape of the larger array."
      ],
      "metadata": {
        "id": "pa1_U_lx5LAq"
      }
    },
    {
      "cell_type": "code",
      "source": [
        "arr1 = np.array([[1, 2, 3], [4, 5, 6]])\n",
        "arr2 = np.array([10, 20, 30])\n",
        "\n",
        "# Broadcasting arr2 across each row of arr1\n",
        "result = arr1 + arr2\n",
        "print(result)"
      ],
      "metadata": {
        "colab": {
          "base_uri": "https://localhost:8080/"
        },
        "id": "rf2q3B235Yj5",
        "outputId": "fcd7e0b0-77d5-471c-ebfc-549f92a29cce"
      },
      "execution_count": null,
      "outputs": [
        {
          "output_type": "stream",
          "name": "stdout",
          "text": [
            "[[11 22 33]\n",
            " [14 25 36]]\n"
          ]
        }
      ]
    },
    {
      "cell_type": "markdown",
      "source": [
        "# **Numpy Practical assignment**"
      ],
      "metadata": {
        "id": "jGYWcPgJrVRH"
      }
    },
    {
      "cell_type": "markdown",
      "source": [
        "## question1:-  Create a 3x3 NumPy array with random integers between 1 and 100. Then, interchange its rows and columns."
      ],
      "metadata": {
        "id": "qFh11JG9r4eV"
      }
    },
    {
      "cell_type": "code",
      "source": [
        "import numpy as np\n",
        "import random\n",
        "arr = np.random.randint(1,100, size =(3,3))\n",
        "print(f\"Create a 3x3 NumPy array with random integers between 1 and 100:\\n{arr}\")\n",
        "print(f\"interchange its rows and columns with the help of transpose:\\n{arr.T}\")"
      ],
      "metadata": {
        "colab": {
          "base_uri": "https://localhost:8080/"
        },
        "id": "S2MVWCRZrcGV",
        "outputId": "7ab72b3f-9357-44ab-de42-30754f9a3663"
      },
      "execution_count": 2,
      "outputs": [
        {
          "output_type": "stream",
          "name": "stdout",
          "text": [
            "Create a 3x3 NumPy array with random integers between 1 and 100:\n",
            "[[42 79 99]\n",
            " [48 18 34]\n",
            " [57 76 22]]\n",
            "interchange its rows and columns with the help of transpose:\n",
            "[[42 48 57]\n",
            " [79 18 76]\n",
            " [99 34 22]]\n"
          ]
        }
      ]
    },
    {
      "cell_type": "markdown",
      "source": [
        "##question 2. Generate a 1D NumPy array with 10 elements. Reshape it into a 2x5 array, then into a 5x2 array"
      ],
      "metadata": {
        "id": "smbgt1VItUzg"
      }
    },
    {
      "cell_type": "code",
      "source": [
        "arr = np.random.rand(10)\n",
        "print(f\"Generate a 1D NumPy array with 10 elements:\\n {arr}\")\n",
        "print(\"------------------------------------------------------\")\n",
        "arr1 = arr.reshape(2,5)\n",
        "print(f\"Reshape it into a 2x5 array:\\n {arr1}\")\n",
        "print(\"------------------------------------------------------\")\n",
        "arr2 = arr1.reshape(5,2)\n",
        "print(f\"Reshape it into a 5x2 array:\\n {arr2}\")\n",
        "print(\"------------------------------------------------------\")"
      ],
      "metadata": {
        "colab": {
          "base_uri": "https://localhost:8080/"
        },
        "id": "nkqUZAQataLV",
        "outputId": "0ad20f27-adba-4cef-9f05-a814d2cdd864"
      },
      "execution_count": null,
      "outputs": [
        {
          "output_type": "stream",
          "name": "stdout",
          "text": [
            "Generate a 1D NumPy array with 10 elements:\n",
            " [0.24457854 0.37095094 0.85418549 0.59163897 0.47441754 0.86522273\n",
            " 0.23454954 0.02852317 0.73028181 0.12712174]\n",
            "------------------------------------------------------\n",
            "Reshape it into a 2x5 array:\n",
            " [[0.24457854 0.37095094 0.85418549 0.59163897 0.47441754]\n",
            " [0.86522273 0.23454954 0.02852317 0.73028181 0.12712174]]\n",
            "------------------------------------------------------\n",
            "Reshape it into a 5x2 array:\n",
            " [[0.24457854 0.37095094]\n",
            " [0.85418549 0.59163897]\n",
            " [0.47441754 0.86522273]\n",
            " [0.23454954 0.02852317]\n",
            " [0.73028181 0.12712174]]\n",
            "------------------------------------------------------\n"
          ]
        }
      ]
    },
    {
      "cell_type": "markdown",
      "source": [
        "##question 3. Create a 4x4 NumPy array with random float values. Add a border of zeros around it, resulting in a 6x6 array."
      ],
      "metadata": {
        "id": "ijOT237huKdN"
      }
    },
    {
      "cell_type": "code",
      "source": [
        "arr = np.random.rand(4,4)\n",
        "print(f\"Create a 4x4 NumPy array with random float values:\\n {arr}\")\n",
        "print(\"------------------------------------------------------\")\n",
        "arr1 = np.pad(arr, pad_width=1, mode='constant', constant_values=0)\n",
        "print(f\"Add a border of zeros around it, resulting in a 6x6 array:\\n {arr1}\")"
      ],
      "metadata": {
        "colab": {
          "base_uri": "https://localhost:8080/"
        },
        "id": "9meX47cquVZQ",
        "outputId": "10f9cf82-349a-4fc3-fdab-c722a24db83e"
      },
      "execution_count": null,
      "outputs": [
        {
          "output_type": "stream",
          "name": "stdout",
          "text": [
            "Create a 4x4 NumPy array with random float values:\n",
            " [[0.59049038 0.43979078 0.49327647 0.33994634]\n",
            " [0.0883793  0.04734538 0.26226972 0.84282419]\n",
            " [0.41650493 0.40156108 0.69402324 0.88713793]\n",
            " [0.39199082 0.01878308 0.29855656 0.42126515]]\n",
            "------------------------------------------------------\n",
            "Add a border of zeros around it, resulting in a 6x6 array:\n",
            " [[0.         0.         0.         0.         0.         0.        ]\n",
            " [0.         0.59049038 0.43979078 0.49327647 0.33994634 0.        ]\n",
            " [0.         0.0883793  0.04734538 0.26226972 0.84282419 0.        ]\n",
            " [0.         0.41650493 0.40156108 0.69402324 0.88713793 0.        ]\n",
            " [0.         0.39199082 0.01878308 0.29855656 0.42126515 0.        ]\n",
            " [0.         0.         0.         0.         0.         0.        ]]\n"
          ]
        }
      ]
    },
    {
      "cell_type": "markdown",
      "source": [
        "**np.pad is used to add padding (a border) around the original array.**\n",
        "\n",
        "The **pad_width=1** means we are adding a border that is 1 element wide on all sides.\n",
        "\n",
        "**mode='constant'** indicates that the border will be filled with a constant value (in this case, zeros).\n",
        "\n",
        "**constant_values=0** specifies that the value to fill the border with is 0.\n"
      ],
      "metadata": {
        "id": "js3CUsw_y7QJ"
      }
    },
    {
      "cell_type": "markdown",
      "source": [
        "##question 4. Using NumPy, create an array of integers from 10 to 60 with a step of 5."
      ],
      "metadata": {
        "id": "NZBxtBrezMUD"
      }
    },
    {
      "cell_type": "code",
      "source": [
        "arr = np.array(range(10,60,5))\n",
        "print(f\"Create an array of integers from 10 to 60 with a step of 5:\\n {arr}\")"
      ],
      "metadata": {
        "colab": {
          "base_uri": "https://localhost:8080/"
        },
        "id": "n0OO4cFEzUqT",
        "outputId": "0e5c8379-7d16-4b9d-8c10-1c157b206b68"
      },
      "execution_count": null,
      "outputs": [
        {
          "output_type": "stream",
          "name": "stdout",
          "text": [
            "Create an array of integers from 10 to 60 with a step of 5:\n",
            " [10 15 20 25 30 35 40 45 50 55]\n"
          ]
        }
      ]
    },
    {
      "cell_type": "markdown",
      "source": [
        "## question 5. Create a NumPy array of strings ['python', 'numpy', 'pandas']. Apply different case transformations(uppercase, lowercase, title case, etc.) to each element."
      ],
      "metadata": {
        "id": "Trub7hlBz7T4"
      }
    },
    {
      "cell_type": "code",
      "source": [
        "strings = np.array(['python', 'numpy', 'pandas'])\n",
        "print(f\"Create a NumPy array of strings ['python', 'numpy', 'pandas']:\\n {strings}\")\n",
        "print(\"------------------------------------------------\")\n",
        "print(f\"Apply different case transformations(uppercase, lowercase, title case, etc.) to each element:\\n\")\n",
        "print(f\"uppercase:\\n {np.char.upper(strings)}\")\n",
        "print(\"------------------------------------------------\")\n",
        "print(f\"lowercase:\\n {np.char.lower(strings)}\")\n",
        "print(\"------------------------------------------------\")\n",
        "print(f\"title case:\\n {np.char.title(strings)}\")\n",
        "print(\"------------------------------------------------\")\n"
      ],
      "metadata": {
        "colab": {
          "base_uri": "https://localhost:8080/"
        },
        "id": "P0iK55_c0GqP",
        "outputId": "948cc362-383e-4ed8-b349-9d7ffc419082"
      },
      "execution_count": null,
      "outputs": [
        {
          "output_type": "stream",
          "name": "stdout",
          "text": [
            "Create a NumPy array of strings ['python', 'numpy', 'pandas']:\n",
            " ['python' 'numpy' 'pandas']\n",
            "------------------------------------------------\n",
            "Apply different case transformations(uppercase, lowercase, title case, etc.) to each element:\n",
            "\n",
            "uppercase:\n",
            " ['PYTHON' 'NUMPY' 'PANDAS']\n",
            "------------------------------------------------\n",
            "lowercase:\n",
            " ['python' 'numpy' 'pandas']\n",
            "------------------------------------------------\n",
            "title case:\n",
            " ['Python' 'Numpy' 'Pandas']\n",
            "------------------------------------------------\n"
          ]
        }
      ]
    },
    {
      "cell_type": "markdown",
      "source": [
        "##question 6. Generate a NumPy array of words. Insert a space between each character of every word in the array."
      ],
      "metadata": {
        "id": "A-smqmHU0qR3"
      }
    },
    {
      "cell_type": "code",
      "source": [
        "arr = np.array(['arun', 'kumar'])\n",
        "arr1 = np.char.join(' ', arr)\n",
        "print(f\"Generate a NumPy array of words:\\n {arr}\")\n",
        "print(\"------------------------------------------------\")\n",
        "print(f\"Insert a space between each character of every word in the array:\\n {arr1}\")"
      ],
      "metadata": {
        "colab": {
          "base_uri": "https://localhost:8080/"
        },
        "id": "C4ZJj4X6C6P7",
        "outputId": "f9b2f25b-52de-49bc-81fd-c4d8b5471e2a"
      },
      "execution_count": null,
      "outputs": [
        {
          "output_type": "stream",
          "name": "stdout",
          "text": [
            "Generate a NumPy array of words:\n",
            " ['arun' 'kumar']\n",
            "------------------------------------------------\n",
            "Insert a space between each character of every word in the array:\n",
            " ['a r u n' 'k u m a r']\n"
          ]
        }
      ]
    },
    {
      "cell_type": "markdown",
      "source": [
        "##question 7. Create two 2D NumPy arrays and perform element-wise addition, subtraction, multiplication, and division."
      ],
      "metadata": {
        "id": "RTnYOiYyDHsq"
      }
    },
    {
      "cell_type": "code",
      "source": [
        "arr1 = np.random.randint(1,10 ,size =(3,3))\n",
        "print(arr1)\n",
        "arr2 = np.random.randint(1,10, size =(3,3))\n",
        "print(arr2)\n",
        "\n",
        "arr3 = arr1 + arr2\n",
        "print(f\"element-wise addition:\\n {arr3}\")\n",
        "print(\"------------------------------------------------\")\n",
        "arr4 = arr1 - arr2\n",
        "print(f\"element-wise subtraction:\\n {arr4}\")\n",
        "print(\"------------------------------------------------\")\n",
        "arr5 = arr1 * arr2\n",
        "print(f\"element-wise multiplication:\\n {arr5}\")\n",
        "print(\"------------------------------------------------\")\n",
        "arr6 = arr1 / arr2\n",
        "print(f\"element-wise division:\\n {arr6}\")\n",
        "print(\"------------------------------------------------\")\n",
        "#"
      ],
      "metadata": {
        "colab": {
          "base_uri": "https://localhost:8080/"
        },
        "id": "9Sprv_vgDG_H",
        "outputId": "5fc5faef-f587-435f-d360-9fa57bafb88f"
      },
      "execution_count": null,
      "outputs": [
        {
          "output_type": "stream",
          "name": "stdout",
          "text": [
            "[[7 1 1]\n",
            " [1 5 4]\n",
            " [7 9 1]]\n",
            "[[4 4 4]\n",
            " [7 9 5]\n",
            " [9 3 7]]\n",
            "element-wise addition:\n",
            " [[11  5  5]\n",
            " [ 8 14  9]\n",
            " [16 12  8]]\n",
            "------------------------------------------------\n",
            "element-wise subtraction:\n",
            " [[ 3 -3 -3]\n",
            " [-6 -4 -1]\n",
            " [-2  6 -6]]\n",
            "------------------------------------------------\n",
            "element-wise multiplication:\n",
            " [[28  4  4]\n",
            " [ 7 45 20]\n",
            " [63 27  7]]\n",
            "------------------------------------------------\n",
            "element-wise division:\n",
            " [[1.75       0.25       0.25      ]\n",
            " [0.14285714 0.55555556 0.8       ]\n",
            " [0.77777778 3.         0.14285714]]\n",
            "------------------------------------------------\n"
          ]
        }
      ]
    },
    {
      "cell_type": "markdown",
      "source": [
        "##question 8. Use NumPy to create a 5x5 identity matrix, then extract its diagonal element"
      ],
      "metadata": {
        "id": "kp-mV28vDnm2"
      }
    },
    {
      "cell_type": "code",
      "source": [
        "arr = np.matrix(np.identity(5))\n",
        "print(f\"Create a 5x5 identity matrix:\\n {arr}\")\n",
        "print(\"------------------------------------------------\")\n",
        "print(f\"Extract its diagonal element:\\n {np.diag(arr)}\")"
      ],
      "metadata": {
        "colab": {
          "base_uri": "https://localhost:8080/"
        },
        "id": "Q9RsHVjonCR_",
        "outputId": "fc0dd469-7172-4c90-8ed2-0908028a9a03"
      },
      "execution_count": 3,
      "outputs": [
        {
          "output_type": "stream",
          "name": "stdout",
          "text": [
            "Create a 5x5 identity matrix:\n",
            " [[1. 0. 0. 0. 0.]\n",
            " [0. 1. 0. 0. 0.]\n",
            " [0. 0. 1. 0. 0.]\n",
            " [0. 0. 0. 1. 0.]\n",
            " [0. 0. 0. 0. 1.]]\n",
            "------------------------------------------------\n",
            "Extract its diagonal element:\n",
            " [1. 1. 1. 1. 1.]\n"
          ]
        }
      ]
    },
    {
      "cell_type": "markdown",
      "source": [
        "##question 9. Generate a NumPy array of 100 random integers between 0 and 1000. Find and display all prime numbers in this array"
      ],
      "metadata": {
        "id": "GOzg5FKVnkyS"
      }
    },
    {
      "cell_type": "code",
      "source": [
        "arr = np.random.randint(0,1000, size = 100)\n",
        "print(f\"Generate a NumPy array of 100 random integers between 0 and 1000:\\n {arr}\")\n",
        "print(\"------------------------------------------------\")\n",
        "print(\"Find and display all prime numbers in this array:\\n\")\n",
        "print(\"------------------------------------------------\")\n",
        "for i in arr:\n",
        "  if i > 1:\n",
        "    for j in range(2,i):\n",
        "      if i % j == 0:\n",
        "        break\n",
        "    else:\n",
        "      print(i)"
      ],
      "metadata": {
        "colab": {
          "base_uri": "https://localhost:8080/"
        },
        "id": "56II-_4Tnq2v",
        "outputId": "3a78ec36-3f45-48c4-da6d-d6e62238eddb"
      },
      "execution_count": 6,
      "outputs": [
        {
          "output_type": "stream",
          "name": "stdout",
          "text": [
            "Generate a NumPy array of 100 random integers between 0 and 1000:\n",
            " [397 809  55  67 614 126 241 699 580 347 369 315 951 499  72  30  27 509\n",
            " 213   8 467 544 985 378 821 171 475 753 248 982 165 761 838 178 738 972\n",
            " 236 230  33 934 612  77 521 708 819 367 618 129 785 985 104 536 606 584\n",
            " 459 674 783 456 910 691 138  94 183 683 908 371 569 280 338 524 967 236\n",
            " 294  84 733  34 718 944 313 591 505 625  76 656 412 967 309 552 983  64\n",
            " 957 842 784 605 461 422 344 940 235 286]\n",
            "------------------------------------------------\n",
            "Find and display all prime numbers in this array:\n",
            "\n",
            "------------------------------------------------\n",
            "397\n",
            "809\n",
            "67\n",
            "241\n",
            "347\n",
            "499\n",
            "509\n",
            "467\n",
            "821\n",
            "761\n",
            "521\n",
            "367\n",
            "691\n",
            "683\n",
            "569\n",
            "967\n",
            "733\n",
            "313\n",
            "967\n",
            "983\n",
            "461\n"
          ]
        }
      ]
    },
    {
      "cell_type": "markdown",
      "source": [
        "##question 10 Create a NumPy array representing daily temperatures for a month. Calculate and display the weekly averages"
      ],
      "metadata": {
        "id": "-g6DtvLsohcL"
      }
    },
    {
      "cell_type": "code",
      "source": [
        "arr = np.random.randint(1,100, size = (2,3))\n",
        "print(f\"Create a NumPy array representing daily temperatures for a month:\\n {arr}\")\n",
        "print(\"------------------------------------------------\")\n",
        "print(\"Calculate and display the weekly averages:\\n\")\n",
        "print(\"------------------------------------------------\")\n",
        "print(np.mean(arr, axis = 1))\n"
      ],
      "metadata": {
        "colab": {
          "base_uri": "https://localhost:8080/"
        },
        "id": "XX4RKfm0om4h",
        "outputId": "2352172d-29a0-42e0-f7f6-6e44a3ab7d83"
      },
      "execution_count": 13,
      "outputs": [
        {
          "output_type": "stream",
          "name": "stdout",
          "text": [
            "Create a NumPy array representing daily temperatures for a month:\n",
            " [[31 70 63]\n",
            " [88 10 53]]\n",
            "------------------------------------------------\n",
            "Calculate and display the weekly averages:\n",
            "\n",
            "------------------------------------------------\n",
            "[54.66666667 50.33333333]\n"
          ]
        }
      ]
    },
    {
      "cell_type": "code",
      "source": [
        "!git clone https://github.com/arunkumar199801/Numpy.git"
      ],
      "metadata": {
        "colab": {
          "base_uri": "https://localhost:8080/"
        },
        "id": "s8R1LwgSqH0Z",
        "outputId": "bb0d83df-ecb0-407b-dcf0-367efbd98650"
      },
      "execution_count": 18,
      "outputs": [
        {
          "output_type": "stream",
          "name": "stdout",
          "text": [
            "fatal: destination path 'Numpy' already exists and is not an empty directory.\n"
          ]
        }
      ]
    },
    {
      "cell_type": "code",
      "source": [
        "%cd Numpy"
      ],
      "metadata": {
        "id": "ztEYGPCwqlzE",
        "outputId": "d19263d2-18ce-4639-93e0-8b33c8f73126",
        "colab": {
          "base_uri": "https://localhost:8080/"
        }
      },
      "execution_count": 19,
      "outputs": [
        {
          "output_type": "stream",
          "name": "stdout",
          "text": [
            "/content/Numpy\n"
          ]
        }
      ]
    },
    {
      "cell_type": "code",
      "source": [],
      "metadata": {
        "id": "6nRg2uzLqtnW"
      },
      "execution_count": null,
      "outputs": []
    }
  ]
}